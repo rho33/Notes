{
 "cells": [
  {
   "cell_type": "code",
   "execution_count": 1,
   "metadata": {
    "ExecuteTime": {
     "end_time": "2019-10-22T19:03:30.471033Z",
     "start_time": "2019-10-22T19:03:30.466035Z"
    }
   },
   "outputs": [],
   "source": [
    "from IPython.display import Image"
   ]
  },
  {
   "cell_type": "markdown",
   "metadata": {},
   "source": [
    "Starting a Git Repository\n",
    "- git init\n",
    "- git clone\n",
    "- git config\n",
    "\n",
    "Making Changes to Local Branch\n",
    "- git add\n",
    "- git commit\n",
    "- git rm\n",
    "\n",
    "Viewing Changes\n",
    "- git status\n",
    "- git diff\n",
    "- git log\n",
    "- git show\n",
    "\n",
    "Working with Branches\n",
    "- git branch\n",
    "- git merge\n",
    "- git checkout\n",
    "- git merge\n",
    "- git stash\n",
    "\n",
    "Remote Repository\n",
    "- git remote\n",
    "- git pull\n",
    "- git push\n",
    "- git fetch\n",
    "\n",
    "Fixing Mistakes\n",
    "- git ammend\n",
    "- git reset\n",
    "- git bisect\n",
    "- git blame\n",
    "\n",
    "- git tag\n",
    "- git cherrypick"
   ]
  },
  {
   "cell_type": "markdown",
   "metadata": {},
   "source": [
    "Basics\n",
    "\n",
    "Terminology\n",
    "- working tree\n",
    "- staging area\n",
    "- local branch\n",
    "- tracking branch\n",
    "- remote branch"
   ]
  },
  {
   "cell_type": "code",
   "execution_count": 2,
   "metadata": {
    "ExecuteTime": {
     "end_time": "2019-10-22T19:03:35.603098Z",
     "start_time": "2019-10-22T19:03:35.581115Z"
    }
   },
   "outputs": [
    {
     "data": {
      "text/html": [
       "<img src=\"https://i.redd.it/nm1w0gnf2zh11.png\"/>"
      ],
      "text/plain": [
       "<IPython.core.display.Image object>"
      ]
     },
     "execution_count": 2,
     "metadata": {},
     "output_type": "execute_result"
    }
   ],
   "source": [
    "Image(url=r'https://i.redd.it/nm1w0gnf2zh11.png')"
   ]
  },
  {
   "cell_type": "code",
   "execution_count": 3,
   "metadata": {
    "ExecuteTime": {
     "end_time": "2019-10-22T19:11:49.220896Z",
     "start_time": "2019-10-22T19:11:49.212907Z"
    }
   },
   "outputs": [
    {
     "data": {
      "text/html": [
       "<img src=\"https://git-scm.com/book/en/v2/images/lifecycle.png\"/>"
      ],
      "text/plain": [
       "<IPython.core.display.Image object>"
      ]
     },
     "execution_count": 3,
     "metadata": {},
     "output_type": "execute_result"
    }
   ],
   "source": [
    "Image(url='https://git-scm.com/book/en/v2/images/lifecycle.png')"
   ]
  },
  {
   "cell_type": "markdown",
   "metadata": {},
   "source": [
    "## Article Notes: https://sandofsky.com/workflow/git-workflow/\n",
    "Summary:\n",
    "- If you're fighting Git's defaults, ask why.\n",
    "    - often a symptom that you're using a screwdriver as a hammer.\n",
    "\n",
    "- Treat public history as immutable, atomic, and easy to follow. Treat private history as disposable and malleable.\n",
    "    - Revision control exists for 2 reasons\n",
    "        1. To help the act of writing code (syncing w/ team, backing up work)\n",
    "        2. configuration management (parallel lines of development)\n",
    "    - Solves problem of choosing between Regular commits and clean history\n",
    "\n",
    "- The intended workflow is:\n",
    "    1. Create a private branch off a public branch.\n",
    "    2. Regularly commit your work to this private branch.\n",
    "    3. Once your code is perfect, clean up its history.\n",
    "    4. Merge the cleaned-up branch back into the public branch."
   ]
  },
  {
   "cell_type": "markdown",
   "metadata": {},
   "source": [
    "# adding SSH\n",
    "\n",
    "in Git-Bash:\n",
    "ssh-keygen\n",
    "\n",
    "then find key file, open w/ notepad, copy\n",
    "\n",
    "add new SSH to github at:\n",
    "github.com -> settings -> SSH and GPG keys"
   ]
  },
  {
   "cell_type": "markdown",
   "metadata": {},
   "source": [
    "TODO:\n",
    "- .gitignore\n",
    "- cover commands more in depth\n",
    "    - command options"
   ]
  },
  {
   "cell_type": "markdown",
   "metadata": {},
   "source": [
    "# git command usage\n",
    "includes common arguments"
   ]
  },
  {
   "cell_type": "markdown",
   "metadata": {},
   "source": [
    "## git add\n",
    "\n",
    "git add (filename) stages file to be committed\n",
    "\n",
    "staging multiple files:\n",
    "- git add .\n",
    "    - stages current directory\n",
    "    - same as \"git add -A\" as long as you are in top directory\n",
    "- git add -A\n",
    "    - short for --all\n",
    "    - stages entire working tree\n",
    "    - default behavior of git add\n",
    "- git add -u\n",
    "    - short for --update\n",
    "    - stages modified files and deletions but not untracked\n",
    "- Don't Use git add *"
   ]
  },
  {
   "cell_type": "markdown",
   "metadata": {},
   "source": [
    "## git commit\n",
    "\n",
    "with no arguments - commits staged changes to local branch. Opens vim editor to write commit message\n",
    "\n",
    "- git commit -m \"[commit message]\"\n",
    "    - puts commit message in command line and skips vim editor"
   ]
  },
  {
   "cell_type": "markdown",
   "metadata": {},
   "source": [
    "## git remote\n",
    "\n",
    "with no arguments shows a list of existing remote branches\n",
    "\n",
    "- git remote add (alias) (remote server link)\n",
    "    - e.g. git remote add origin https://github.com/myacct/myrepo/....."
   ]
  },
  {
   "cell_type": "markdown",
   "metadata": {},
   "source": [
    "## git branch\n",
    "\n",
    "with no arguments - shows a list of local branches in current repository\n",
    "\n",
    "- git branch [branch name]\n",
    "    - creates new branch\n",
    "- git branch -d [branch name]\n",
    "    - deletes branch\n"
   ]
  },
  {
   "cell_type": "markdown",
   "metadata": {},
   "source": [
    "## git checkout\n",
    "\n",
    "- git checkout [branch name]\n",
    "    - use to switch branches\n",
    "- git checkout -b [branch name]\n",
    "    - creates new branch and also switches to it"
   ]
  },
  {
   "cell_type": "markdown",
   "metadata": {},
   "source": [
    "## git merge\n",
    "\n",
    "- git merge [branch name]\n",
    "    - merges specified branch into current branch"
   ]
  },
  {
   "cell_type": "markdown",
   "metadata": {},
   "source": [
    "## git push\n",
    "\n",
    "- git push [alias] [branch]\n",
    "    - makes local specified branch the new branch on the remote repo (alias)\n",
    "    - e.g. git push origin master\n",
    "- git push -all [alias]\n",
    "    - pushes all branches to remote repo (alias)\n",
    "- git push [alias] :[branch name]\n",
    "    - deletes branch on remote repo (alias)\n",
    "    "
   ]
  },
  {
   "cell_type": "markdown",
   "metadata": {},
   "source": [
    "## git pull\n",
    "\n",
    "- git pull [Repository Link]\n",
    "    - combination of git fetch and git merge\n",
    "    - merges changes on remote repo to your working directory"
   ]
  },
  {
   "cell_type": "markdown",
   "metadata": {},
   "source": [
    "## git stash\n",
    "\n",
    "- git stash save\n",
    "    - temporarily stores all modified tracked files\n",
    "- git stash pop\n",
    "    - restores most recently stashed files\n",
    "- git stash list\n",
    "    - lists all stashed changesets\n",
    "- git stash drop\n",
    "    - discards most recently stashed changeset"
   ]
  },
  {
   "cell_type": "markdown",
   "metadata": {},
   "source": [
    "## git show\n",
    "\n",
    "- git show [commit hash]\n",
    "     - shows the metadata and content changes of the specified commit"
   ]
  },
  {
   "cell_type": "markdown",
   "metadata": {},
   "source": [
    "## git log\n",
    "\n",
    "with no arguments - shows version history for current branch\n",
    "\n",
    "- git log -follow [file]\n",
    "    - lists version history for a file, including the renaming of files "
   ]
  },
  {
   "cell_type": "code",
   "execution_count": null,
   "metadata": {},
   "outputs": [],
   "source": [
    "# git merge"
   ]
  }
 ],
 "metadata": {
  "kernelspec": {
   "display_name": "Python 3",
   "language": "python",
   "name": "python3"
  },
  "language_info": {
   "codemirror_mode": {
    "name": "ipython",
    "version": 3
   },
   "file_extension": ".py",
   "mimetype": "text/x-python",
   "name": "python",
   "nbconvert_exporter": "python",
   "pygments_lexer": "ipython3",
   "version": "3.7.1"
  },
  "toc": {
   "base_numbering": 1,
   "nav_menu": {},
   "number_sections": true,
   "sideBar": true,
   "skip_h1_title": false,
   "title_cell": "Table of Contents",
   "title_sidebar": "Contents",
   "toc_cell": false,
   "toc_position": {},
   "toc_section_display": true,
   "toc_window_display": false
  }
 },
 "nbformat": 4,
 "nbformat_minor": 2
}
