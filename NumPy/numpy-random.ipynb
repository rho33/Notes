{
 "cells": [
  {
   "cell_type": "code",
   "execution_count": 1,
   "metadata": {
    "ExecuteTime": {
     "end_time": "2020-04-20T23:22:32.670718Z",
     "start_time": "2020-04-20T23:22:32.571955Z"
    }
   },
   "outputs": [],
   "source": [
    "import numpy as np"
   ]
  },
  {
   "cell_type": "code",
   "execution_count": 2,
   "metadata": {
    "ExecuteTime": {
     "end_time": "2020-04-20T23:22:32.675691Z",
     "start_time": "2020-04-20T23:22:32.671687Z"
    }
   },
   "outputs": [],
   "source": [
    "arr = np.array([[1, 2, 4], [8, 10, 4]])"
   ]
  },
  {
   "cell_type": "code",
   "execution_count": 3,
   "metadata": {
    "ExecuteTime": {
     "end_time": "2020-04-20T23:22:32.684653Z",
     "start_time": "2020-04-20T23:22:32.676674Z"
    }
   },
   "outputs": [
    {
     "data": {
      "text/plain": [
       "array([[0.14300095, 0.09891907, 0.31273741],\n",
       "       [0.67128617, 0.13776151, 0.28370761]])"
      ]
     },
     "execution_count": 3,
     "metadata": {},
     "output_type": "execute_result"
    }
   ],
   "source": [
    "# random values from uniform [0-1) distribution\n",
    "# arguments are dimension sizes\n",
    "np.random.rand(2, 3)"
   ]
  },
  {
   "cell_type": "code",
   "execution_count": 4,
   "metadata": {
    "ExecuteTime": {
     "end_time": "2020-04-20T23:22:32.689640Z",
     "start_time": "2020-04-20T23:22:32.685675Z"
    }
   },
   "outputs": [
    {
     "data": {
      "text/plain": [
       "array([[0.33185316, 0.96372154, 0.86667304],\n",
       "       [0.5144591 , 0.54395347, 0.16301334]])"
      ]
     },
     "execution_count": 4,
     "metadata": {},
     "output_type": "execute_result"
    }
   ],
   "source": [
    "# same as np.random.rand, but takes shape as tuple\n",
    "np.random.random((2, 3))\n",
    "# this function also goes by, random_sample, ranf, sample"
   ]
  },
  {
   "cell_type": "code",
   "execution_count": 5,
   "metadata": {
    "ExecuteTime": {
     "end_time": "2020-04-20T23:22:32.695624Z",
     "start_time": "2020-04-20T23:22:32.690637Z"
    }
   },
   "outputs": [
    {
     "data": {
      "text/plain": [
       "array([[-0.39416499, -0.53508471, -0.42556341],\n",
       "       [ 1.56038675,  1.13293636,  0.64975282]])"
      ]
     },
     "execution_count": 5,
     "metadata": {},
     "output_type": "execute_result"
    }
   ],
   "source": [
    "# random values from standard normal distribution mean=0, std=1\n",
    "# arguments dimension sizes\n",
    "np.random.randn(2, 3)"
   ]
  },
  {
   "cell_type": "code",
   "execution_count": 6,
   "metadata": {
    "ExecuteTime": {
     "end_time": "2020-04-20T23:22:32.701608Z",
     "start_time": "2020-04-20T23:22:32.696621Z"
    }
   },
   "outputs": [
    {
     "data": {
      "text/plain": [
       "array([16, 13, 12])"
      ]
     },
     "execution_count": 6,
     "metadata": {},
     "output_type": "execute_result"
    }
   ],
   "source": [
    "# random integer (low inclusive, high exclusive)\n",
    "np.random.randint(low=10, high=20, size=3)"
   ]
  },
  {
   "cell_type": "code",
   "execution_count": 7,
   "metadata": {
    "ExecuteTime": {
     "end_time": "2020-04-20T23:22:32.707619Z",
     "start_time": "2020-04-20T23:22:32.702605Z"
    }
   },
   "outputs": [
    {
     "data": {
      "text/plain": [
       "array([ 3, 80])"
      ]
     },
     "execution_count": 7,
     "metadata": {},
     "output_type": "execute_result"
    }
   ],
   "source": [
    "# randomly choose from array-like\n",
    "nums = [3, 6, 80, 90, 5]\n",
    "\n",
    "np.random.choice(nums, size=2, replace=False)"
   ]
  },
  {
   "cell_type": "markdown",
   "metadata": {},
   "source": [
    "## Distributions\n",
    "Draw samples from various distributions\n",
    "\n",
    "-  beta\n",
    "-  binomial\n",
    "-  chisquare\n",
    "-  dirichlet\n",
    "-  exponential\n",
    "-  f\n",
    "-  gamma\n",
    "-  geometric\n",
    "-  gumbel\n",
    "-  hypergeometric\n",
    "-  laplace\n",
    "-  logistic\n",
    "-  lognormal\n",
    "-  logseries\n",
    "-  multinomial\n",
    "-  multivariate_normal\n",
    "-  negative_binomial\n",
    "-  noncentral_chisquare\n",
    "-  noncentral_f\n",
    "-  normal\n",
    "-  pareto\n",
    "-  poisson\n",
    "-  power\n",
    "-  rayleigh\n",
    "-  standard_cauchy\n",
    "-  standard_exponential\n",
    "-  standard_gamma\n",
    "-  standard_normal\n",
    "-  standard_t\n",
    "-  triangular\n",
    "-  uniform\n",
    "-  vonmises\n",
    "-  wald\n",
    "-  weibull\n",
    "-  zipf\n"
   ]
  },
  {
   "cell_type": "code",
   "execution_count": 8,
   "metadata": {
    "ExecuteTime": {
     "end_time": "2020-04-20T23:22:32.712602Z",
     "start_time": "2020-04-20T23:22:32.709588Z"
    }
   },
   "outputs": [
    {
     "data": {
      "text/plain": [
       "array([55, 50, 53, 59, 49])"
      ]
     },
     "execution_count": 8,
     "metadata": {},
     "output_type": "execute_result"
    }
   ],
   "source": [
    "np.random.binomial(n=100, p=.5, size=5)"
   ]
  }
 ],
 "metadata": {
  "kernelspec": {
   "display_name": "Python 3",
   "language": "python",
   "name": "python3"
  },
  "language_info": {
   "codemirror_mode": {
    "name": "ipython",
    "version": 3
   },
   "file_extension": ".py",
   "mimetype": "text/x-python",
   "name": "python",
   "nbconvert_exporter": "python",
   "pygments_lexer": "ipython3",
   "version": "3.6.8"
  },
  "nikola": {
   "category": "Programming Notes",
   "date": "2020-4-20",
   "slug": "numpy-random",
   "title": "Numpy Random"
  },
  "toc": {
   "base_numbering": 1,
   "nav_menu": {},
   "number_sections": true,
   "sideBar": true,
   "skip_h1_title": false,
   "title_cell": "Table of Contents",
   "title_sidebar": "Contents",
   "toc_cell": false,
   "toc_position": {},
   "toc_section_display": true,
   "toc_window_display": false
  }
 },
 "nbformat": 4,
 "nbformat_minor": 2
}
