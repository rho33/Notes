{
 "cells": [
  {
   "cell_type": "code",
   "execution_count": 40,
   "metadata": {
    "ExecuteTime": {
     "end_time": "2019-12-08T22:36:02.643523Z",
     "start_time": "2019-12-08T22:35:59.666079Z"
    }
   },
   "outputs": [],
   "source": [
    "import sqlite3\n",
    "import pandas as pd"
   ]
  },
  {
   "cell_type": "markdown",
   "metadata": {},
   "source": [
    "# sqlite3 module"
   ]
  },
  {
   "cell_type": "code",
   "execution_count": 4,
   "metadata": {
    "ExecuteTime": {
     "end_time": "2019-12-08T22:15:32.923983Z",
     "start_time": "2019-12-08T22:15:32.913981Z"
    }
   },
   "outputs": [
    {
     "data": {
      "text/plain": [
       "sqlite3.Connection"
      ]
     },
     "execution_count": 4,
     "metadata": {},
     "output_type": "execute_result"
    }
   ],
   "source": [
    "# connection object\n",
    "conn = sqlite3.connect('example.db')\n",
    "type(conn)"
   ]
  },
  {
   "cell_type": "code",
   "execution_count": 6,
   "metadata": {
    "ExecuteTime": {
     "end_time": "2019-12-08T22:15:55.358413Z",
     "start_time": "2019-12-08T22:15:55.353426Z"
    }
   },
   "outputs": [
    {
     "data": {
      "text/plain": [
       "['DataError',\n",
       " 'DatabaseError',\n",
       " 'Error',\n",
       " 'IntegrityError',\n",
       " 'InterfaceError',\n",
       " 'InternalError',\n",
       " 'NotSupportedError',\n",
       " 'OperationalError',\n",
       " 'ProgrammingError',\n",
       " 'Warning',\n",
       " 'backup',\n",
       " 'close',\n",
       " 'commit',\n",
       " 'create_aggregate',\n",
       " 'create_collation',\n",
       " 'create_function',\n",
       " 'cursor',\n",
       " 'enable_load_extension',\n",
       " 'execute',\n",
       " 'executemany',\n",
       " 'executescript',\n",
       " 'in_transaction',\n",
       " 'interrupt',\n",
       " 'isolation_level',\n",
       " 'iterdump',\n",
       " 'load_extension',\n",
       " 'rollback',\n",
       " 'row_factory',\n",
       " 'set_authorizer',\n",
       " 'set_progress_handler',\n",
       " 'set_trace_callback',\n",
       " 'text_factory',\n",
       " 'total_changes']"
      ]
     },
     "execution_count": 6,
     "metadata": {},
     "output_type": "execute_result"
    }
   ],
   "source": [
    "[i for i in dir(conn) if i[0] != '_']"
   ]
  },
  {
   "cell_type": "code",
   "execution_count": 7,
   "metadata": {
    "ExecuteTime": {
     "end_time": "2019-12-08T22:16:29.117050Z",
     "start_time": "2019-12-08T22:16:29.113060Z"
    }
   },
   "outputs": [
    {
     "data": {
      "text/plain": [
       "sqlite3.Cursor"
      ]
     },
     "execution_count": 7,
     "metadata": {},
     "output_type": "execute_result"
    }
   ],
   "source": [
    "# cursor object\n",
    "c = conn.cursor()\n",
    "type(c)"
   ]
  },
  {
   "cell_type": "code",
   "execution_count": 8,
   "metadata": {
    "ExecuteTime": {
     "end_time": "2019-12-08T22:16:40.551740Z",
     "start_time": "2019-12-08T22:16:40.546753Z"
    }
   },
   "outputs": [
    {
     "data": {
      "text/plain": [
       "['arraysize',\n",
       " 'close',\n",
       " 'connection',\n",
       " 'description',\n",
       " 'execute',\n",
       " 'executemany',\n",
       " 'executescript',\n",
       " 'fetchall',\n",
       " 'fetchmany',\n",
       " 'fetchone',\n",
       " 'lastrowid',\n",
       " 'row_factory',\n",
       " 'rowcount',\n",
       " 'setinputsizes',\n",
       " 'setoutputsize']"
      ]
     },
     "execution_count": 8,
     "metadata": {},
     "output_type": "execute_result"
    }
   ],
   "source": [
    "[i for i in dir(c) if i[0] != '_']"
   ]
  },
  {
   "cell_type": "code",
   "execution_count": 29,
   "metadata": {
    "ExecuteTime": {
     "end_time": "2019-12-08T22:24:39.223532Z",
     "start_time": "2019-12-08T22:24:39.219542Z"
    }
   },
   "outputs": [
    {
     "data": {
      "text/plain": [
       "<sqlite3.Cursor at 0x1affc82cc00>"
      ]
     },
     "execution_count": 29,
     "metadata": {},
     "output_type": "execute_result"
    }
   ],
   "source": [
    "# sql = \"\"\"\n",
    "# DROP TABLE table1\n",
    "# \"\"\"\n",
    "# c.execute(sql)"
   ]
  },
  {
   "cell_type": "code",
   "execution_count": 30,
   "metadata": {
    "ExecuteTime": {
     "end_time": "2019-12-08T22:24:39.492197Z",
     "start_time": "2019-12-08T22:24:39.489171Z"
    }
   },
   "outputs": [
    {
     "data": {
      "text/plain": [
       "<sqlite3.Cursor at 0x1affc82cc00>"
      ]
     },
     "execution_count": 30,
     "metadata": {},
     "output_type": "execute_result"
    }
   ],
   "source": [
    "# execute sql with cursor object\n",
    "sql = \"\"\"\n",
    "CREATE table table1 (\n",
    "column1 integer,\n",
    "column2 text\n",
    ")\n",
    "\"\"\"\n",
    "c.execute(sql)\n",
    "\n",
    "sql = \"\"\"\n",
    "INSERT INTO table1 (column1, column2)\n",
    "VALUES \n",
    "(1, \"row1\"),\n",
    "(2, \"row2\")\n",
    "\"\"\"\n",
    "c.execute(sql)"
   ]
  },
  {
   "cell_type": "code",
   "execution_count": 34,
   "metadata": {
    "ExecuteTime": {
     "end_time": "2019-12-08T22:24:53.670299Z",
     "start_time": "2019-12-08T22:24:53.666310Z"
    }
   },
   "outputs": [
    {
     "data": {
      "text/plain": [
       "[(1, 'row1'), (2, 'row2')]"
      ]
     },
     "execution_count": 34,
     "metadata": {},
     "output_type": "execute_result"
    }
   ],
   "source": [
    "# use c.fetchall() to get every row returned from query\n",
    "sql = \"\"\"\n",
    "SELECT * from table1\n",
    "\"\"\"\n",
    "c.execute(sql)\n",
    "c.fetchall()"
   ]
  },
  {
   "cell_type": "code",
   "execution_count": 39,
   "metadata": {
    "ExecuteTime": {
     "end_time": "2019-12-08T22:27:45.190549Z",
     "start_time": "2019-12-08T22:27:45.186559Z"
    }
   },
   "outputs": [
    {
     "name": "stdout",
     "output_type": "stream",
     "text": [
      "(1, 'row1')\n",
      "(2, 'row2')\n"
     ]
    }
   ],
   "source": [
    "# use c.fetchone() to get rows one at a time (pops row from list)\n",
    "sql = \"\"\"\n",
    "SELECT * from table1\n",
    "\"\"\"\n",
    "c.execute(sql)\n",
    "print(c.fetchone())\n",
    "print(c.fetchone())"
   ]
  },
  {
   "cell_type": "code",
   "execution_count": 84,
   "metadata": {
    "ExecuteTime": {
     "end_time": "2019-12-08T23:20:21.494555Z",
     "start_time": "2019-12-08T23:20:21.173150Z"
    }
   },
   "outputs": [
    {
     "data": {
      "text/html": [
       "<div>\n",
       "<style scoped>\n",
       "    .dataframe tbody tr th:only-of-type {\n",
       "        vertical-align: middle;\n",
       "    }\n",
       "\n",
       "    .dataframe tbody tr th {\n",
       "        vertical-align: top;\n",
       "    }\n",
       "\n",
       "    .dataframe thead th {\n",
       "        text-align: right;\n",
       "    }\n",
       "</style>\n",
       "<table border=\"1\" class=\"dataframe\">\n",
       "  <thead>\n",
       "    <tr style=\"text-align: right;\">\n",
       "      <th></th>\n",
       "      <th>0</th>\n",
       "      <th>1</th>\n",
       "      <th>2</th>\n",
       "      <th>3</th>\n",
       "      <th>4</th>\n",
       "    </tr>\n",
       "  </thead>\n",
       "  <tbody>\n",
       "    <tr>\n",
       "      <th>0</th>\n",
       "      <td>0</td>\n",
       "      <td>1</td>\n",
       "      <td>2</td>\n",
       "      <td>3</td>\n",
       "      <td>4</td>\n",
       "    </tr>\n",
       "    <tr>\n",
       "      <th>1</th>\n",
       "      <td>0</td>\n",
       "      <td>1</td>\n",
       "      <td>2</td>\n",
       "      <td>3</td>\n",
       "      <td>4</td>\n",
       "    </tr>\n",
       "    <tr>\n",
       "      <th>2</th>\n",
       "      <td>0</td>\n",
       "      <td>1</td>\n",
       "      <td>2</td>\n",
       "      <td>3</td>\n",
       "      <td>4</td>\n",
       "    </tr>\n",
       "    <tr>\n",
       "      <th>3</th>\n",
       "      <td>0</td>\n",
       "      <td>1</td>\n",
       "      <td>2</td>\n",
       "      <td>3</td>\n",
       "      <td>4</td>\n",
       "    </tr>\n",
       "    <tr>\n",
       "      <th>4</th>\n",
       "      <td>0</td>\n",
       "      <td>1</td>\n",
       "      <td>2</td>\n",
       "      <td>3</td>\n",
       "      <td>4</td>\n",
       "    </tr>\n",
       "  </tbody>\n",
       "</table>\n",
       "</div>"
      ],
      "text/plain": [
       "   0  1  2  3  4\n",
       "0  0  1  2  3  4\n",
       "1  0  1  2  3  4\n",
       "2  0  1  2  3  4\n",
       "3  0  1  2  3  4\n",
       "4  0  1  2  3  4"
      ]
     },
     "execution_count": 84,
     "metadata": {},
     "output_type": "execute_result"
    }
   ],
   "source": [
    "# use with pandas\n",
    "data = [list(range(5)) for _ in range(5)]\n",
    "df = pd.DataFrame(data)\n",
    "df.to_sql('table2', conn, if_exists='replace', index=False)\n",
    "\n",
    "sql = 'SELECT * from table2'\n",
    "pd.read_sql(sql, conn)"
   ]
  },
  {
   "cell_type": "markdown",
   "metadata": {},
   "source": [
    "# sqlite databases"
   ]
  },
  {
   "cell_type": "markdown",
   "metadata": {},
   "source": [
    "**Each value stored in an SQLite database (or manipulated by the database engine) has one of the following storage classes:**\n",
    "- NULL. The value is a NULL value.\n",
    "- INTEGER. The value is a signed integer, stored in 1, 2, 3, 4, 6, or 8 bytes depending on the magnitude of the value.\n",
    "- REAL. The value is a floating point value, stored as an 8-byte IEEE floating point numbe\n",
    "- TEXT. The value is a text string, stored using the database encoding (UTF-8, UTF-16BE or UTF-16LE).\n",
    "- BLOB. The value is a blob of data, stored exactly as it was input.\n",
    "\n",
    "SQLite does not have a separate Boolean storage class. Instead, Boolean values are stored as integers 0 (false) and 1 (true)."
   ]
  },
  {
   "cell_type": "markdown",
   "metadata": {},
   "source": [
    "**SQLite has no DATETIME datatype. Instead, dates and times can be stored in any of these ways:**\n",
    "- As a TEXT string in the ISO-8601 format. Example: '2018-04-02 12:13:46'.\n",
    "- As an INTEGER number of seconds since 1970 (also known as \"unix time\").\n",
    "- As a REAL value that is the fractional Julian day number.\n",
    "\n"
   ]
  },
  {
   "cell_type": "markdown",
   "metadata": {},
   "source": [
    "# Examples\n",
    "\n",
    "ToDo: \n",
    "- pandas df to table with primary key\n"
   ]
  },
  {
   "cell_type": "code",
   "execution_count": 105,
   "metadata": {
    "ExecuteTime": {
     "end_time": "2019-12-08T23:34:29.533343Z",
     "start_time": "2019-12-08T23:34:29.529354Z"
    }
   },
   "outputs": [
    {
     "data": {
      "text/plain": [
       "[('table1',), ('table2',), ('df',), ('test_view2',)]"
      ]
     },
     "execution_count": 105,
     "metadata": {},
     "output_type": "execute_result"
    }
   ],
   "source": [
    "# get table names of db\n",
    "sql = '''\n",
    "SELECT name from sqlite_master \n",
    "\n",
    "'''\n",
    "c.execute(sql)\n",
    "c.fetchall()"
   ]
  },
  {
   "cell_type": "code",
   "execution_count": 95,
   "metadata": {
    "ExecuteTime": {
     "end_time": "2019-12-08T23:31:29.268544Z",
     "start_time": "2019-12-08T23:31:29.264555Z"
    }
   },
   "outputs": [
    {
     "name": "stdout",
     "output_type": "stream",
     "text": [
      "CREATE TABLE table1 (\n",
      "column1 integer,\n",
      "column2 text\n",
      ")\n"
     ]
    }
   ],
   "source": [
    "# get column names and types of table\n",
    "table_name =  'table1'\n",
    "sql = \"\"\"\n",
    "SELECT sql from sqlite_master\n",
    "WHERE name = '{}' and type = 'table'\n",
    "\"\"\".format(table_name)\n",
    "c.execute(sql)\n",
    "print(c.fetchone()[0])"
   ]
  },
  {
   "cell_type": "code",
   "execution_count": 91,
   "metadata": {
    "ExecuteTime": {
     "end_time": "2019-12-08T23:30:43.973695Z",
     "start_time": "2019-12-08T23:30:43.183038Z"
    }
   },
   "outputs": [
    {
     "name": "stdout",
     "output_type": "stream",
     "text": [
      "CREATE TABLE \"df\" (\n",
      "\"col1\" INTEGER PRIMARY KEY,\n",
      "  \"col2\" INTEGER,\n",
      "  \"col3\" INTEGER,\n",
      "  \"col4\" INTEGER,\n",
      "  \"col5\" INTEGER\n",
      ")\n"
     ]
    }
   ],
   "source": [
    "# create table from pandas df with a primary key\n",
    "import re\n",
    "\n",
    "def get_create_table_string(tablename, connection):\n",
    "    sql = \"\"\"\n",
    "    select * from sqlite_master where name = \"{}\" and type = \"table\"\n",
    "    \"\"\".format(tablename) \n",
    "    result = connection.execute(sql)\n",
    "\n",
    "    create_table_string = result.fetchmany()[0][4]\n",
    "    return create_table_string\n",
    "\n",
    "def add_pk_to_create_table_string(create_table_string, colname):\n",
    "    regex = \"(\\n.+{}[^,]+)(,)\".format(colname)\n",
    "    return re.sub(regex, \"\\\\1 PRIMARY KEY,\",  create_table_string, count=1)\n",
    "\n",
    "def add_pk_to_sqlite_table(tablename, index_column, connection):\n",
    "    cts = get_create_table_string(tablename, connection)\n",
    "    cts = add_pk_to_create_table_string(cts, index_column)\n",
    "    template = \"\"\"\n",
    "    BEGIN TRANSACTION;\n",
    "        ALTER TABLE {tablename} RENAME TO {tablename}_old_;\n",
    "\n",
    "        {cts};\n",
    "\n",
    "        INSERT INTO {tablename} SELECT * FROM {tablename}_old_;\n",
    "        \n",
    "\n",
    "        DROP TABLE {tablename}_old_;\n",
    "\n",
    "    COMMIT TRANSACTION;\n",
    "    \"\"\"\n",
    "\n",
    "    create_and_drop_sql = template.format(tablename = tablename, cts = cts)\n",
    "    connection.executescript(create_and_drop_sql)\n",
    "\n",
    "data = [[i+1]*5 for i in range(5)]\n",
    "df = pd.DataFrame(data, columns = ['col{}'.format(i+1) for i in range(len(data))])\n",
    "df.to_sql(\"df\", conn, if_exists=\"replace\", index=False)\n",
    "\n",
    "add_pk_to_sqlite_table(\"df\", \"col1\", conn)\n",
    "c.execute(\"select sql from sqlite_master where name = 'df' and type = 'table'\")\n",
    "print(c.fetchone()[0])"
   ]
  },
  {
   "cell_type": "code",
   "execution_count": 101,
   "metadata": {
    "ExecuteTime": {
     "end_time": "2019-12-08T23:33:00.558482Z",
     "start_time": "2019-12-08T23:33:00.426801Z"
    }
   },
   "outputs": [
    {
     "data": {
      "text/html": [
       "<div>\n",
       "<style scoped>\n",
       "    .dataframe tbody tr th:only-of-type {\n",
       "        vertical-align: middle;\n",
       "    }\n",
       "\n",
       "    .dataframe tbody tr th {\n",
       "        vertical-align: top;\n",
       "    }\n",
       "\n",
       "    .dataframe thead th {\n",
       "        text-align: right;\n",
       "    }\n",
       "</style>\n",
       "<table border=\"1\" class=\"dataframe\">\n",
       "  <thead>\n",
       "    <tr style=\"text-align: right;\">\n",
       "      <th></th>\n",
       "      <th>col1</th>\n",
       "      <th>col2</th>\n",
       "      <th>col3</th>\n",
       "      <th>col4</th>\n",
       "      <th>col5</th>\n",
       "    </tr>\n",
       "  </thead>\n",
       "  <tbody>\n",
       "    <tr>\n",
       "      <th>0</th>\n",
       "      <td>1</td>\n",
       "      <td>1</td>\n",
       "      <td>1</td>\n",
       "      <td>1</td>\n",
       "      <td>1</td>\n",
       "    </tr>\n",
       "    <tr>\n",
       "      <th>1</th>\n",
       "      <td>2</td>\n",
       "      <td>2</td>\n",
       "      <td>2</td>\n",
       "      <td>2</td>\n",
       "      <td>2</td>\n",
       "    </tr>\n",
       "    <tr>\n",
       "      <th>2</th>\n",
       "      <td>3</td>\n",
       "      <td>3</td>\n",
       "      <td>3</td>\n",
       "      <td>3</td>\n",
       "      <td>3</td>\n",
       "    </tr>\n",
       "    <tr>\n",
       "      <th>3</th>\n",
       "      <td>4</td>\n",
       "      <td>4</td>\n",
       "      <td>4</td>\n",
       "      <td>4</td>\n",
       "      <td>4</td>\n",
       "    </tr>\n",
       "    <tr>\n",
       "      <th>4</th>\n",
       "      <td>5</td>\n",
       "      <td>5</td>\n",
       "      <td>5</td>\n",
       "      <td>5</td>\n",
       "      <td>5</td>\n",
       "    </tr>\n",
       "    <tr>\n",
       "      <th>5</th>\n",
       "      <td>10</td>\n",
       "      <td>10</td>\n",
       "      <td>10</td>\n",
       "      <td>10</td>\n",
       "      <td>10</td>\n",
       "    </tr>\n",
       "    <tr>\n",
       "      <th>6</th>\n",
       "      <td>20</td>\n",
       "      <td>20</td>\n",
       "      <td>20</td>\n",
       "      <td>20</td>\n",
       "      <td>20</td>\n",
       "    </tr>\n",
       "    <tr>\n",
       "      <th>7</th>\n",
       "      <td>30</td>\n",
       "      <td>30</td>\n",
       "      <td>30</td>\n",
       "      <td>30</td>\n",
       "      <td>30</td>\n",
       "    </tr>\n",
       "    <tr>\n",
       "      <th>8</th>\n",
       "      <td>40</td>\n",
       "      <td>40</td>\n",
       "      <td>40</td>\n",
       "      <td>40</td>\n",
       "      <td>40</td>\n",
       "    </tr>\n",
       "    <tr>\n",
       "      <th>9</th>\n",
       "      <td>50</td>\n",
       "      <td>50</td>\n",
       "      <td>50</td>\n",
       "      <td>50</td>\n",
       "      <td>50</td>\n",
       "    </tr>\n",
       "    <tr>\n",
       "      <th>10</th>\n",
       "      <td>1000</td>\n",
       "      <td>1000</td>\n",
       "      <td>1000</td>\n",
       "      <td>1000</td>\n",
       "      <td>1000</td>\n",
       "    </tr>\n",
       "    <tr>\n",
       "      <th>11</th>\n",
       "      <td>2000</td>\n",
       "      <td>2000</td>\n",
       "      <td>2000</td>\n",
       "      <td>2000</td>\n",
       "      <td>2000</td>\n",
       "    </tr>\n",
       "    <tr>\n",
       "      <th>12</th>\n",
       "      <td>3000</td>\n",
       "      <td>3000</td>\n",
       "      <td>3000</td>\n",
       "      <td>3000</td>\n",
       "      <td>3000</td>\n",
       "    </tr>\n",
       "    <tr>\n",
       "      <th>13</th>\n",
       "      <td>4000</td>\n",
       "      <td>4000</td>\n",
       "      <td>4000</td>\n",
       "      <td>4000</td>\n",
       "      <td>4000</td>\n",
       "    </tr>\n",
       "    <tr>\n",
       "      <th>14</th>\n",
       "      <td>5000</td>\n",
       "      <td>5000</td>\n",
       "      <td>5000</td>\n",
       "      <td>5000</td>\n",
       "      <td>5000</td>\n",
       "    </tr>\n",
       "  </tbody>\n",
       "</table>\n",
       "</div>"
      ],
      "text/plain": [
       "    col1  col2  col3  col4  col5\n",
       "0      1     1     1     1     1\n",
       "1      2     2     2     2     2\n",
       "2      3     3     3     3     3\n",
       "3      4     4     4     4     4\n",
       "4      5     5     5     5     5\n",
       "5     10    10    10    10    10\n",
       "6     20    20    20    20    20\n",
       "7     30    30    30    30    30\n",
       "8     40    40    40    40    40\n",
       "9     50    50    50    50    50\n",
       "10  1000  1000  1000  1000  1000\n",
       "11  2000  2000  2000  2000  2000\n",
       "12  3000  3000  3000  3000  3000\n",
       "13  4000  4000  4000  4000  4000\n",
       "14  5000  5000  5000  5000  5000"
      ]
     },
     "execution_count": 101,
     "metadata": {},
     "output_type": "execute_result"
    }
   ],
   "source": [
    "# append to table using pandas\n",
    "df.apply(lambda x: x*1000).to_sql(\"df\", conn, if_exists=\"append\", index=False)\n",
    "pd.read_sql(\"SELECT * FROM df\", conn)"
   ]
  },
  {
   "cell_type": "code",
   "execution_count": 99,
   "metadata": {
    "ExecuteTime": {
     "end_time": "2019-12-08T23:32:40.364937Z",
     "start_time": "2019-12-08T23:32:40.239179Z"
    }
   },
   "outputs": [
    {
     "data": {
      "text/plain": [
       "<sqlite3.Cursor at 0x1affc82cc00>"
      ]
     },
     "execution_count": 99,
     "metadata": {},
     "output_type": "execute_result"
    }
   ],
   "source": [
    "sql = \"\"\"\n",
    "CREATE VIEW test_view2\n",
    "AS\n",
    "SELECT\n",
    "    col1\n",
    "FROM\n",
    "    df\n",
    "\"\"\"\n",
    "c.execute(sql)"
   ]
  },
  {
   "cell_type": "code",
   "execution_count": 106,
   "metadata": {
    "ExecuteTime": {
     "end_time": "2019-12-08T23:34:47.927192Z",
     "start_time": "2019-12-08T23:34:47.921191Z"
    }
   },
   "outputs": [
    {
     "data": {
      "text/html": [
       "<div>\n",
       "<style scoped>\n",
       "    .dataframe tbody tr th:only-of-type {\n",
       "        vertical-align: middle;\n",
       "    }\n",
       "\n",
       "    .dataframe tbody tr th {\n",
       "        vertical-align: top;\n",
       "    }\n",
       "\n",
       "    .dataframe thead th {\n",
       "        text-align: right;\n",
       "    }\n",
       "</style>\n",
       "<table border=\"1\" class=\"dataframe\">\n",
       "  <thead>\n",
       "    <tr style=\"text-align: right;\">\n",
       "      <th></th>\n",
       "      <th>col1</th>\n",
       "    </tr>\n",
       "  </thead>\n",
       "  <tbody>\n",
       "    <tr>\n",
       "      <th>0</th>\n",
       "      <td>1</td>\n",
       "    </tr>\n",
       "    <tr>\n",
       "      <th>1</th>\n",
       "      <td>2</td>\n",
       "    </tr>\n",
       "    <tr>\n",
       "      <th>2</th>\n",
       "      <td>3</td>\n",
       "    </tr>\n",
       "    <tr>\n",
       "      <th>3</th>\n",
       "      <td>4</td>\n",
       "    </tr>\n",
       "    <tr>\n",
       "      <th>4</th>\n",
       "      <td>5</td>\n",
       "    </tr>\n",
       "    <tr>\n",
       "      <th>5</th>\n",
       "      <td>10</td>\n",
       "    </tr>\n",
       "    <tr>\n",
       "      <th>6</th>\n",
       "      <td>20</td>\n",
       "    </tr>\n",
       "    <tr>\n",
       "      <th>7</th>\n",
       "      <td>30</td>\n",
       "    </tr>\n",
       "    <tr>\n",
       "      <th>8</th>\n",
       "      <td>40</td>\n",
       "    </tr>\n",
       "    <tr>\n",
       "      <th>9</th>\n",
       "      <td>50</td>\n",
       "    </tr>\n",
       "    <tr>\n",
       "      <th>10</th>\n",
       "      <td>1000</td>\n",
       "    </tr>\n",
       "    <tr>\n",
       "      <th>11</th>\n",
       "      <td>2000</td>\n",
       "    </tr>\n",
       "    <tr>\n",
       "      <th>12</th>\n",
       "      <td>3000</td>\n",
       "    </tr>\n",
       "    <tr>\n",
       "      <th>13</th>\n",
       "      <td>4000</td>\n",
       "    </tr>\n",
       "    <tr>\n",
       "      <th>14</th>\n",
       "      <td>5000</td>\n",
       "    </tr>\n",
       "  </tbody>\n",
       "</table>\n",
       "</div>"
      ],
      "text/plain": [
       "    col1\n",
       "0      1\n",
       "1      2\n",
       "2      3\n",
       "3      4\n",
       "4      5\n",
       "5     10\n",
       "6     20\n",
       "7     30\n",
       "8     40\n",
       "9     50\n",
       "10  1000\n",
       "11  2000\n",
       "12  3000\n",
       "13  4000\n",
       "14  5000"
      ]
     },
     "execution_count": 106,
     "metadata": {},
     "output_type": "execute_result"
    }
   ],
   "source": [
    "sql = 'SELECT * FROM test_view2'\n",
    "pd.read_sql(sql, conn)"
   ]
  },
  {
   "cell_type": "code",
   "execution_count": 114,
   "metadata": {
    "ExecuteTime": {
     "end_time": "2019-12-08T23:44:05.511834Z",
     "start_time": "2019-12-08T23:44:05.502858Z"
    }
   },
   "outputs": [
    {
     "data": {
      "text/html": [
       "<div>\n",
       "<style scoped>\n",
       "    .dataframe tbody tr th:only-of-type {\n",
       "        vertical-align: middle;\n",
       "    }\n",
       "\n",
       "    .dataframe tbody tr th {\n",
       "        vertical-align: top;\n",
       "    }\n",
       "\n",
       "    .dataframe thead th {\n",
       "        text-align: right;\n",
       "    }\n",
       "</style>\n",
       "<table border=\"1\" class=\"dataframe\">\n",
       "  <thead>\n",
       "    <tr style=\"text-align: right;\">\n",
       "      <th></th>\n",
       "      <th>type</th>\n",
       "      <th>name</th>\n",
       "      <th>tbl_name</th>\n",
       "      <th>rootpage</th>\n",
       "      <th>sql</th>\n",
       "    </tr>\n",
       "  </thead>\n",
       "  <tbody>\n",
       "    <tr>\n",
       "      <th>0</th>\n",
       "      <td>table</td>\n",
       "      <td>table1</td>\n",
       "      <td>table1</td>\n",
       "      <td>2</td>\n",
       "      <td>CREATE TABLE table1 (\\ncolumn1 integer,\\ncolum...</td>\n",
       "    </tr>\n",
       "    <tr>\n",
       "      <th>1</th>\n",
       "      <td>table</td>\n",
       "      <td>table2</td>\n",
       "      <td>table2</td>\n",
       "      <td>3</td>\n",
       "      <td>CREATE TABLE \"table2\" (\\n\"0\" INTEGER,\\n  \"1\" I...</td>\n",
       "    </tr>\n",
       "    <tr>\n",
       "      <th>2</th>\n",
       "      <td>table</td>\n",
       "      <td>df</td>\n",
       "      <td>df</td>\n",
       "      <td>5</td>\n",
       "      <td>CREATE TABLE \"df\" (\\n\"col1\" INTEGER PRIMARY KE...</td>\n",
       "    </tr>\n",
       "    <tr>\n",
       "      <th>3</th>\n",
       "      <td>view</td>\n",
       "      <td>test_view2</td>\n",
       "      <td>test_view2</td>\n",
       "      <td>0</td>\n",
       "      <td>CREATE VIEW test_view2\\nAS\\nSELECT\\n    col1\\n...</td>\n",
       "    </tr>\n",
       "  </tbody>\n",
       "</table>\n",
       "</div>"
      ],
      "text/plain": [
       "    type        name    tbl_name  rootpage  \\\n",
       "0  table      table1      table1         2   \n",
       "1  table      table2      table2         3   \n",
       "2  table          df          df         5   \n",
       "3   view  test_view2  test_view2         0   \n",
       "\n",
       "                                                 sql  \n",
       "0  CREATE TABLE table1 (\\ncolumn1 integer,\\ncolum...  \n",
       "1  CREATE TABLE \"table2\" (\\n\"0\" INTEGER,\\n  \"1\" I...  \n",
       "2  CREATE TABLE \"df\" (\\n\"col1\" INTEGER PRIMARY KE...  \n",
       "3  CREATE VIEW test_view2\\nAS\\nSELECT\\n    col1\\n...  "
      ]
     },
     "execution_count": 114,
     "metadata": {},
     "output_type": "execute_result"
    }
   ],
   "source": [
    "# get sql code from tables/views\n",
    "sql = 'SELECT * FROM sqlite_master'\n",
    "pd.read_sql(sql, conn)"
   ]
  },
  {
   "cell_type": "code",
   "execution_count": 110,
   "metadata": {
    "ExecuteTime": {
     "end_time": "2019-12-08T23:42:23.003621Z",
     "start_time": "2019-12-08T23:42:22.999602Z"
    }
   },
   "outputs": [
    {
     "data": {
      "text/plain": [
       "[('table',\n",
       "  'table1',\n",
       "  'table1',\n",
       "  2,\n",
       "  'CREATE TABLE table1 (\\ncolumn1 integer,\\ncolumn2 text\\n)'),\n",
       " ('table',\n",
       "  'table2',\n",
       "  'table2',\n",
       "  3,\n",
       "  'CREATE TABLE \"table2\" (\\n\"0\" INTEGER,\\n  \"1\" INTEGER,\\n  \"2\" INTEGER,\\n  \"3\" INTEGER,\\n  \"4\" INTEGER\\n)'),\n",
       " ('table',\n",
       "  'df',\n",
       "  'df',\n",
       "  5,\n",
       "  'CREATE TABLE \"df\" (\\n\"col1\" INTEGER PRIMARY KEY,\\n  \"col2\" INTEGER,\\n  \"col3\" INTEGER,\\n  \"col4\" INTEGER,\\n  \"col5\" INTEGER\\n)'),\n",
       " ('view',\n",
       "  'test_view2',\n",
       "  'test_view2',\n",
       "  0,\n",
       "  'CREATE VIEW test_view2\\nAS\\nSELECT\\n    col1\\nFROM\\n    df')]"
      ]
     },
     "execution_count": 110,
     "metadata": {},
     "output_type": "execute_result"
    }
   ],
   "source": [
    "sql = 'select * from sqlite_master'\n",
    "c.execute(sql)\n",
    "c.fetchall()"
   ]
  },
  {
   "cell_type": "markdown",
   "metadata": {},
   "source": [
    "todo: auto increment and pandas appending, foreign key setting w pandas, jupyter lab and sql or reading sql out of file"
   ]
  },
  {
   "cell_type": "code",
   "execution_count": 2,
   "metadata": {
    "ExecuteTime": {
     "end_time": "2019-12-09T01:18:22.090936Z",
     "start_time": "2019-12-09T01:18:22.085950Z"
    }
   },
   "outputs": [
    {
     "name": "stderr",
     "output_type": "stream",
     "text": [
      "UsageError: Line magic function `%sql` not found.\n"
     ]
    }
   ],
   "source": [
    "%sql sqlite://"
   ]
  },
  {
   "cell_type": "code",
   "execution_count": 126,
   "metadata": {
    "ExecuteTime": {
     "end_time": "2019-12-09T01:17:34.010892Z",
     "start_time": "2019-12-09T01:17:26.803366Z"
    },
    "collapsed": true
   },
   "outputs": [
    {
     "data": {
      "text/plain": [
       "['Collecting ipython-sql',\n",
       " '  Downloading https://files.pythonhosted.org/packages/ab/df/427e7cf05ffc67e78672ad57dce2436c1e825129033effe6fcaf804d0c60/ipython_sql-0.3.9-py2.py3-none-any.whl',\n",
       " 'Collecting prettytable (from ipython-sql)',\n",
       " '  Downloading https://files.pythonhosted.org/packages/ef/30/4b0746848746ed5941f052479e7c23d2b56d174b82f4fd34a25e389831f5/prettytable-0.7.2.tar.bz2',\n",
       " 'Requirement already satisfied: ipython-genutils>=0.1.0 in c:\\\\program files\\\\python37\\\\lib\\\\site-packages (from ipython-sql) (0.2.0)',\n",
       " 'Requirement already satisfied: ipython>=1.0 in c:\\\\program files\\\\python37\\\\lib\\\\site-packages (from ipython-sql) (7.9.0)',\n",
       " 'Collecting sqlalchemy>=0.6.7 (from ipython-sql)',\n",
       " '  Downloading https://files.pythonhosted.org/packages/34/5c/0e1d7ad0ca52544bb12f9cb8d5cc454af45821c92160ffedd38db0a317f6/SQLAlchemy-1.3.11.tar.gz (6.0MB)',\n",
       " 'Collecting sqlparse (from ipython-sql)',\n",
       " '  Downloading https://files.pythonhosted.org/packages/ef/53/900f7d2a54557c6a37886585a91336520e5539e3ae2423ff1102daf4f3a7/sqlparse-0.3.0-py2.py3-none-any.whl',\n",
       " 'Requirement already satisfied: six in c:\\\\program files\\\\python37\\\\lib\\\\site-packages (from ipython-sql) (1.13.0)',\n",
       " 'Requirement already satisfied: traitlets>=4.2 in c:\\\\program files\\\\python37\\\\lib\\\\site-packages (from ipython>=1.0->ipython-sql) (4.3.3)',\n",
       " 'Requirement already satisfied: pygments in c:\\\\program files\\\\python37\\\\lib\\\\site-packages (from ipython>=1.0->ipython-sql) (2.4.2)',\n",
       " 'Requirement already satisfied: prompt-toolkit<2.1.0,>=2.0.0 in c:\\\\program files\\\\python37\\\\lib\\\\site-packages (from ipython>=1.0->ipython-sql) (2.0.10)',\n",
       " 'Requirement already satisfied: pickleshare in c:\\\\program files\\\\python37\\\\lib\\\\site-packages (from ipython>=1.0->ipython-sql) (0.7.5)',\n",
       " 'Requirement already satisfied: backcall in c:\\\\program files\\\\python37\\\\lib\\\\site-packages (from ipython>=1.0->ipython-sql) (0.1.0)',\n",
       " 'Requirement already satisfied: colorama; sys_platform == \"win32\" in c:\\\\program files\\\\python37\\\\lib\\\\site-packages (from ipython>=1.0->ipython-sql) (0.4.1)',\n",
       " 'Requirement already satisfied: setuptools>=18.5 in c:\\\\program files\\\\python37\\\\lib\\\\site-packages (from ipython>=1.0->ipython-sql) (40.8.0)',\n",
       " 'Requirement already satisfied: jedi>=0.10 in c:\\\\program files\\\\python37\\\\lib\\\\site-packages (from ipython>=1.0->ipython-sql) (0.15.1)',\n",
       " 'Requirement already satisfied: decorator in c:\\\\program files\\\\python37\\\\lib\\\\site-packages (from ipython>=1.0->ipython-sql) (4.4.1)',\n",
       " 'Requirement already satisfied: wcwidth in c:\\\\program files\\\\python37\\\\lib\\\\site-packages (from prompt-toolkit<2.1.0,>=2.0.0->ipython>=1.0->ipython-sql) (0.1.7)',\n",
       " 'Requirement already satisfied: parso>=0.5.0 in c:\\\\program files\\\\python37\\\\lib\\\\site-packages (from jedi>=0.10->ipython>=1.0->ipython-sql) (0.5.1)',\n",
       " 'Installing collected packages: prettytable, sqlalchemy, sqlparse, ipython-sql',\n",
       " '  Running setup.py install for prettytable: started',\n",
       " \"    Running setup.py install for prettytable: finished with status 'error'\",\n",
       " '    Complete output from command \"c:\\\\program files\\\\python37\\\\python.exe\" -u -c \"import setuptools, tokenize;__file__=\\'C:\\\\\\\\Users\\\\\\\\rhohe\\\\\\\\AppData\\\\\\\\Local\\\\\\\\Temp\\\\\\\\pip-install-77307qee\\\\\\\\prettytable\\\\\\\\setup.py\\';f=getattr(tokenize, \\'open\\', open)(__file__);code=f.read().replace(\\'\\\\r\\\\n\\', \\'\\\\n\\');f.close();exec(compile(code, __file__, \\'exec\\'))\" install --record C:\\\\Users\\\\rhohe\\\\AppData\\\\Local\\\\Temp\\\\pip-record-mae8_3sx\\\\install-record.txt --single-version-externally-managed --compile:',\n",
       " '    running install',\n",
       " '    running build',\n",
       " '    running build_py',\n",
       " '    creating build',\n",
       " '    creating build\\\\lib',\n",
       " '    copying prettytable.py -> build\\\\lib',\n",
       " '    running install_lib',\n",
       " '    copying build\\\\lib\\\\prettytable.py -> c:\\\\program files\\\\python37\\\\Lib\\\\site-packages',\n",
       " \"    error: could not create 'c:\\\\program files\\\\python37\\\\Lib\\\\site-packages\\\\prettytable.py': Permission denied\",\n",
       " '    ',\n",
       " '    ----------------------------------------',\n",
       " 'Command \"\"c:\\\\program files\\\\python37\\\\python.exe\" -u -c \"import setuptools, tokenize;__file__=\\'C:\\\\\\\\Users\\\\\\\\rhohe\\\\\\\\AppData\\\\\\\\Local\\\\\\\\Temp\\\\\\\\pip-install-77307qee\\\\\\\\prettytable\\\\\\\\setup.py\\';f=getattr(tokenize, \\'open\\', open)(__file__);code=f.read().replace(\\'\\\\r\\\\n\\', \\'\\\\n\\');f.close();exec(compile(code, __file__, \\'exec\\'))\" install --record C:\\\\Users\\\\rhohe\\\\AppData\\\\Local\\\\Temp\\\\pip-record-mae8_3sx\\\\install-record.txt --single-version-externally-managed --compile\" failed with error code 1 in C:\\\\Users\\\\rhohe\\\\AppData\\\\Local\\\\Temp\\\\pip-install-77307qee\\\\prettytable\\\\',\n",
       " 'You are using pip version 19.0.3, however version 19.3.1 is available.',\n",
       " \"You should consider upgrading via the 'python -m pip install --upgrade pip' command.\"]"
      ]
     },
     "execution_count": 126,
     "metadata": {},
     "output_type": "execute_result"
    }
   ],
   "source": [
    "%%!\n",
    "pip install --trusted-host pypi.org ipython-sql"
   ]
  },
  {
   "cell_type": "code",
   "execution_count": 4,
   "metadata": {
    "ExecuteTime": {
     "end_time": "2019-12-09T01:21:57.621510Z",
     "start_time": "2019-12-09T01:21:52.806390Z"
    }
   },
   "outputs": [
    {
     "name": "stdout",
     "output_type": "stream",
     "text": [
      "Collecting ipython-sql\n",
      "  Using cached https://files.pythonhosted.org/packages/ab/df/427e7cf05ffc67e78672ad57dce2436c1e825129033effe6fcaf804d0c60/ipython_sql-0.3.9-py2.py3-none-any.whl\n",
      "Requirement already satisfied: ipython>=1.0 in c:\\program files\\python37\\lib\\site-packages (from ipython-sql) (7.9.0)\n",
      "Collecting sqlalchemy>=0.6.7 (from ipython-sql)\n",
      "  Using cached https://files.pythonhosted.org/packages/34/5c/0e1d7ad0ca52544bb12f9cb8d5cc454af45821c92160ffedd38db0a317f6/SQLAlchemy-1.3.11.tar.gz\n",
      "Collecting prettytable (from ipython-sql)\n",
      "  Using cached https://files.pythonhosted.org/packages/ef/30/4b0746848746ed5941f052479e7c23d2b56d174b82f4fd34a25e389831f5/prettytable-0.7.2.tar.bz2\n",
      "Requirement already satisfied: ipython-genutils>=0.1.0 in c:\\program files\\python37\\lib\\site-packages (from ipython-sql) (0.2.0)\n",
      "Collecting sqlparse (from ipython-sql)\n",
      "  Using cached https://files.pythonhosted.org/packages/ef/53/900f7d2a54557c6a37886585a91336520e5539e3ae2423ff1102daf4f3a7/sqlparse-0.3.0-py2.py3-none-any.whl\n",
      "Requirement already satisfied: six in c:\\program files\\python37\\lib\\site-packages (from ipython-sql) (1.13.0)\n",
      "Requirement already satisfied: backcall in c:\\program files\\python37\\lib\\site-packages (from ipython>=1.0->ipython-sql) (0.1.0)\n",
      "Requirement already satisfied: colorama; sys_platform == \"win32\" in c:\\program files\\python37\\lib\\site-packages (from ipython>=1.0->ipython-sql) (0.4.1)\n",
      "Requirement already satisfied: prompt-toolkit<2.1.0,>=2.0.0 in c:\\program files\\python37\\lib\\site-packages (from ipython>=1.0->ipython-sql) (2.0.10)\n",
      "Requirement already satisfied: decorator in c:\\program files\\python37\\lib\\site-packages (from ipython>=1.0->ipython-sql) (4.4.1)\n",
      "Requirement already satisfied: traitlets>=4.2 in c:\\program files\\python37\\lib\\site-packages (from ipython>=1.0->ipython-sql) (4.3.3)\n",
      "Requirement already satisfied: pickleshare in c:\\program files\\python37\\lib\\site-packages (from ipython>=1.0->ipython-sql) (0.7.5)\n",
      "Requirement already satisfied: jedi>=0.10 in c:\\program files\\python37\\lib\\site-packages (from ipython>=1.0->ipython-sql) (0.15.1)\n",
      "Requirement already satisfied: setuptools>=18.5 in c:\\program files\\python37\\lib\\site-packages (from ipython>=1.0->ipython-sql) (40.8.0)\n",
      "Requirement already satisfied: pygments in c:\\program files\\python37\\lib\\site-packages (from ipython>=1.0->ipython-sql) (2.4.2)\n",
      "Requirement already satisfied: wcwidth in c:\\program files\\python37\\lib\\site-packages (from prompt-toolkit<2.1.0,>=2.0.0->ipython>=1.0->ipython-sql) (0.1.7)\n",
      "Requirement already satisfied: parso>=0.5.0 in c:\\program files\\python37\\lib\\site-packages (from jedi>=0.10->ipython>=1.0->ipython-sql) (0.5.1)\n",
      "Installing collected packages: sqlalchemy, prettytable, sqlparse, ipython-sql\n",
      "  Running setup.py install for sqlalchemy: started\n",
      "    Running setup.py install for sqlalchemy: finished with status 'error'\n",
      "    Complete output from command \"c:\\program files\\python37\\python.exe\" -u -c \"import setuptools, tokenize;__file__='C:\\\\Users\\\\rhohe\\\\AppData\\\\Local\\\\Temp\\\\pip-install-whqmz5p_\\\\sqlalchemy\\\\setup.py';f=getattr(tokenize, 'open', open)(__file__);code=f.read().replace('\\r\\n', '\\n');f.close();exec(compile(code, __file__, 'exec'))\" install --record C:\\Users\\rhohe\\AppData\\Local\\Temp\\pip-record-z7xa_etn\\install-record.txt --single-version-externally-managed --compile:\n",
      "    running install\n",
      "    running build\n",
      "    running build_py\n",
      "    creating build\n",
      "    creating build\\lib.win-amd64-3.7\n",
      "    creating build\\lib.win-amd64-3.7\\sqlalchemy\n",
      "    copying lib\\sqlalchemy\\events.py -> build\\lib.win-amd64-3.7\\sqlalchemy\n",
      "    copying lib\\sqlalchemy\\exc.py -> build\\lib.win-amd64-3.7\\sqlalchemy\n",
      "    copying lib\\sqlalchemy\\inspection.py -> build\\lib.win-amd64-3.7\\sqlalchemy\n",
      "    copying lib\\sqlalchemy\\interfaces.py -> build\\lib.win-amd64-3.7\\sqlalchemy\n",
      "    copying lib\\sqlalchemy\\log.py -> build\\lib.win-amd64-3.7\\sqlalchemy\n",
      "    copying lib\\sqlalchemy\\processors.py -> build\\lib.win-amd64-3.7\\sqlalchemy\n",
      "    copying lib\\sqlalchemy\\schema.py -> build\\lib.win-amd64-3.7\\sqlalchemy\n",
      "    copying lib\\sqlalchemy\\types.py -> build\\lib.win-amd64-3.7\\sqlalchemy\n",
      "    copying lib\\sqlalchemy\\__init__.py -> build\\lib.win-amd64-3.7\\sqlalchemy\n",
      "    creating build\\lib.win-amd64-3.7\\sqlalchemy\\connectors\n",
      "    copying lib\\sqlalchemy\\connectors\\mxodbc.py -> build\\lib.win-amd64-3.7\\sqlalchemy\\connectors\n",
      "    copying lib\\sqlalchemy\\connectors\\pyodbc.py -> build\\lib.win-amd64-3.7\\sqlalchemy\\connectors\n",
      "    copying lib\\sqlalchemy\\connectors\\zxJDBC.py -> build\\lib.win-amd64-3.7\\sqlalchemy\\connectors\n",
      "    copying lib\\sqlalchemy\\connectors\\__init__.py -> build\\lib.win-amd64-3.7\\sqlalchemy\\connectors\n",
      "    creating build\\lib.win-amd64-3.7\\sqlalchemy\\databases\n",
      "    copying lib\\sqlalchemy\\databases\\__init__.py -> build\\lib.win-amd64-3.7\\sqlalchemy\\databases\n",
      "    creating build\\lib.win-amd64-3.7\\sqlalchemy\\dialects\n",
      "    copying lib\\sqlalchemy\\dialects\\__init__.py -> build\\lib.win-amd64-3.7\\sqlalchemy\\dialects\n",
      "    creating build\\lib.win-amd64-3.7\\sqlalchemy\\engine\n",
      "    copying lib\\sqlalchemy\\engine\\base.py -> build\\lib.win-amd64-3.7\\sqlalchemy\\engine\n",
      "    copying lib\\sqlalchemy\\engine\\default.py -> build\\lib.win-amd64-3.7\\sqlalchemy\\engine\n",
      "    copying lib\\sqlalchemy\\engine\\interfaces.py -> build\\lib.win-amd64-3.7\\sqlalchemy\\engine\n",
      "    copying lib\\sqlalchemy\\engine\\reflection.py -> build\\lib.win-amd64-3.7\\sqlalchemy\\engine\n",
      "    copying lib\\sqlalchemy\\engine\\result.py -> build\\lib.win-amd64-3.7\\sqlalchemy\\engine\n",
      "    copying lib\\sqlalchemy\\engine\\strategies.py -> build\\lib.win-amd64-3.7\\sqlalchemy\\engine\n",
      "    copying lib\\sqlalchemy\\engine\\threadlocal.py -> build\\lib.win-amd64-3.7\\sqlalchemy\\engine\n",
      "    copying lib\\sqlalchemy\\engine\\url.py -> build\\lib.win-amd64-3.7\\sqlalchemy\\engine\n",
      "    copying lib\\sqlalchemy\\engine\\util.py -> build\\lib.win-amd64-3.7\\sqlalchemy\\engine\n",
      "    copying lib\\sqlalchemy\\engine\\__init__.py -> build\\lib.win-amd64-3.7\\sqlalchemy\\engine\n",
      "    creating build\\lib.win-amd64-3.7\\sqlalchemy\\event\n",
      "    copying lib\\sqlalchemy\\event\\api.py -> build\\lib.win-amd64-3.7\\sqlalchemy\\event\n",
      "    copying lib\\sqlalchemy\\event\\attr.py -> build\\lib.win-amd64-3.7\\sqlalchemy\\event\n",
      "    copying lib\\sqlalchemy\\event\\base.py -> build\\lib.win-amd64-3.7\\sqlalchemy\\event\n",
      "    copying lib\\sqlalchemy\\event\\legacy.py -> build\\lib.win-amd64-3.7\\sqlalchemy\\event\n",
      "    copying lib\\sqlalchemy\\event\\registry.py -> build\\lib.win-amd64-3.7\\sqlalchemy\\event\n",
      "    copying lib\\sqlalchemy\\event\\__init__.py -> build\\lib.win-amd64-3.7\\sqlalchemy\\event\n",
      "    creating build\\lib.win-amd64-3.7\\sqlalchemy\\ext\n",
      "    copying lib\\sqlalchemy\\ext\\associationproxy.py -> build\\lib.win-amd64-3.7\\sqlalchemy\\ext\n",
      "    copying lib\\sqlalchemy\\ext\\automap.py -> build\\lib.win-amd64-3.7\\sqlalchemy\\ext\n",
      "    copying lib\\sqlalchemy\\ext\\baked.py -> build\\lib.win-amd64-3.7\\sqlalchemy\\ext\n",
      "    copying lib\\sqlalchemy\\ext\\compiler.py -> build\\lib.win-amd64-3.7\\sqlalchemy\\ext\n",
      "    copying lib\\sqlalchemy\\ext\\horizontal_shard.py -> build\\lib.win-amd64-3.7\\sqlalchemy\\ext\n",
      "    copying lib\\sqlalchemy\\ext\\hybrid.py -> build\\lib.win-amd64-3.7\\sqlalchemy\\ext\n",
      "    copying lib\\sqlalchemy\\ext\\indexable.py -> build\\lib.win-amd64-3.7\\sqlalchemy\\ext\n",
      "    copying lib\\sqlalchemy\\ext\\instrumentation.py -> build\\lib.win-amd64-3.7\\sqlalchemy\\ext\n",
      "    copying lib\\sqlalchemy\\ext\\mutable.py -> build\\lib.win-amd64-3.7\\sqlalchemy\\ext\n",
      "    copying lib\\sqlalchemy\\ext\\orderinglist.py -> build\\lib.win-amd64-3.7\\sqlalchemy\\ext\n",
      "    copying lib\\sqlalchemy\\ext\\serializer.py -> build\\lib.win-amd64-3.7\\sqlalchemy\\ext\n",
      "    copying lib\\sqlalchemy\\ext\\__init__.py -> build\\lib.win-amd64-3.7\\sqlalchemy\\ext\n",
      "    creating build\\lib.win-amd64-3.7\\sqlalchemy\\orm\n",
      "    copying lib\\sqlalchemy\\orm\\attributes.py -> build\\lib.win-amd64-3.7\\sqlalchemy\\orm\n",
      "    copying lib\\sqlalchemy\\orm\\base.py -> build\\lib.win-amd64-3.7\\sqlalchemy\\orm\n",
      "    copying lib\\sqlalchemy\\orm\\collections.py -> build\\lib.win-amd64-3.7\\sqlalchemy\\orm\n",
      "    copying lib\\sqlalchemy\\orm\\dependency.py -> build\\lib.win-amd64-3.7\\sqlalchemy\\orm\n",
      "    copying lib\\sqlalchemy\\orm\\deprecated_interfaces.py -> build\\lib.win-amd64-3.7\\sqlalchemy\\orm\n",
      "    copying lib\\sqlalchemy\\orm\\descriptor_props.py -> build\\lib.win-amd64-3.7\\sqlalchemy\\orm\n",
      "    copying lib\\sqlalchemy\\orm\\dynamic.py -> build\\lib.win-amd64-3.7\\sqlalchemy\\orm\n",
      "    copying lib\\sqlalchemy\\orm\\evaluator.py -> build\\lib.win-amd64-3.7\\sqlalchemy\\orm\n",
      "    copying lib\\sqlalchemy\\orm\\events.py -> build\\lib.win-amd64-3.7\\sqlalchemy\\orm\n",
      "    copying lib\\sqlalchemy\\orm\\exc.py -> build\\lib.win-amd64-3.7\\sqlalchemy\\orm\n",
      "    copying lib\\sqlalchemy\\orm\\identity.py -> build\\lib.win-amd64-3.7\\sqlalchemy\\orm\n",
      "    copying lib\\sqlalchemy\\orm\\instrumentation.py -> build\\lib.win-amd64-3.7\\sqlalchemy\\orm\n",
      "    copying lib\\sqlalchemy\\orm\\interfaces.py -> build\\lib.win-amd64-3.7\\sqlalchemy\\orm\n",
      "    copying lib\\sqlalchemy\\orm\\loading.py -> build\\lib.win-amd64-3.7\\sqlalchemy\\orm\n",
      "    copying lib\\sqlalchemy\\orm\\mapper.py -> build\\lib.win-amd64-3.7\\sqlalchemy\\orm\n",
      "    copying lib\\sqlalchemy\\orm\\path_registry.py -> build\\lib.win-amd64-3.7\\sqlalchemy\\orm\n",
      "    copying lib\\sqlalchemy\\orm\\persistence.py -> build\\lib.win-amd64-3.7\\sqlalchemy\\orm\n",
      "    copying lib\\sqlalchemy\\orm\\properties.py -> build\\lib.win-amd64-3.7\\sqlalchemy\\orm\n",
      "    copying lib\\sqlalchemy\\orm\\query.py -> build\\lib.win-amd64-3.7\\sqlalchemy\\orm\n",
      "    copying lib\\sqlalchemy\\orm\\relationships.py -> build\\lib.win-amd64-3.7\\sqlalchemy\\orm\n",
      "    copying lib\\sqlalchemy\\orm\\scoping.py -> build\\lib.win-amd64-3.7\\sqlalchemy\\orm\n",
      "    copying lib\\sqlalchemy\\orm\\session.py -> build\\lib.win-amd64-3.7\\sqlalchemy\\orm\n",
      "    copying lib\\sqlalchemy\\orm\\state.py -> build\\lib.win-amd64-3.7\\sqlalchemy\\orm\n",
      "    copying lib\\sqlalchemy\\orm\\strategies.py -> build\\lib.win-amd64-3.7\\sqlalchemy\\orm\n",
      "    copying lib\\sqlalchemy\\orm\\strategy_options.py -> build\\lib.win-amd64-3.7\\sqlalchemy\\orm\n",
      "    copying lib\\sqlalchemy\\orm\\sync.py -> build\\lib.win-amd64-3.7\\sqlalchemy\\orm\n",
      "    copying lib\\sqlalchemy\\orm\\unitofwork.py -> build\\lib.win-amd64-3.7\\sqlalchemy\\orm\n",
      "    copying lib\\sqlalchemy\\orm\\util.py -> build\\lib.win-amd64-3.7\\sqlalchemy\\orm\n",
      "    copying lib\\sqlalchemy\\orm\\__init__.py -> build\\lib.win-amd64-3.7\\sqlalchemy\\orm\n",
      "    creating build\\lib.win-amd64-3.7\\sqlalchemy\\pool\n",
      "    copying lib\\sqlalchemy\\pool\\base.py -> build\\lib.win-amd64-3.7\\sqlalchemy\\pool\n",
      "    copying lib\\sqlalchemy\\pool\\dbapi_proxy.py -> build\\lib.win-amd64-3.7\\sqlalchemy\\pool\n",
      "    copying lib\\sqlalchemy\\pool\\impl.py -> build\\lib.win-amd64-3.7\\sqlalchemy\\pool\n",
      "    copying lib\\sqlalchemy\\pool\\__init__.py -> build\\lib.win-amd64-3.7\\sqlalchemy\\pool\n",
      "    creating build\\lib.win-amd64-3.7\\sqlalchemy\\sql\n",
      "    copying lib\\sqlalchemy\\sql\\annotation.py -> build\\lib.win-amd64-3.7\\sqlalchemy\\sql\n",
      "    copying lib\\sqlalchemy\\sql\\base.py -> build\\lib.win-amd64-3.7\\sqlalchemy\\sql\n",
      "    copying lib\\sqlalchemy\\sql\\compiler.py -> build\\lib.win-amd64-3.7\\sqlalchemy\\sql\n",
      "    copying lib\\sqlalchemy\\sql\\crud.py -> build\\lib.win-amd64-3.7\\sqlalchemy\\sql\n",
      "    copying lib\\sqlalchemy\\sql\\ddl.py -> build\\lib.win-amd64-3.7\\sqlalchemy\\sql\n",
      "    copying lib\\sqlalchemy\\sql\\default_comparator.py -> build\\lib.win-amd64-3.7\\sqlalchemy\\sql\n",
      "    copying lib\\sqlalchemy\\sql\\dml.py -> build\\lib.win-amd64-3.7\\sqlalchemy\\sql\n",
      "    copying lib\\sqlalchemy\\sql\\elements.py -> build\\lib.win-amd64-3.7\\sqlalchemy\\sql\n",
      "    copying lib\\sqlalchemy\\sql\\expression.py -> build\\lib.win-amd64-3.7\\sqlalchemy\\sql\n",
      "    copying lib\\sqlalchemy\\sql\\functions.py -> build\\lib.win-amd64-3.7\\sqlalchemy\\sql\n",
      "    copying lib\\sqlalchemy\\sql\\naming.py -> build\\lib.win-amd64-3.7\\sqlalchemy\\sql\n",
      "    copying lib\\sqlalchemy\\sql\\operators.py -> build\\lib.win-amd64-3.7\\sqlalchemy\\sql\n",
      "    copying lib\\sqlalchemy\\sql\\schema.py -> build\\lib.win-amd64-3.7\\sqlalchemy\\sql\n",
      "    copying lib\\sqlalchemy\\sql\\selectable.py -> build\\lib.win-amd64-3.7\\sqlalchemy\\sql\n",
      "    copying lib\\sqlalchemy\\sql\\sqltypes.py -> build\\lib.win-amd64-3.7\\sqlalchemy\\sql\n",
      "    copying lib\\sqlalchemy\\sql\\type_api.py -> build\\lib.win-amd64-3.7\\sqlalchemy\\sql\n",
      "    copying lib\\sqlalchemy\\sql\\util.py -> build\\lib.win-amd64-3.7\\sqlalchemy\\sql\n",
      "    copying lib\\sqlalchemy\\sql\\visitors.py -> build\\lib.win-amd64-3.7\\sqlalchemy\\sql\n",
      "    copying lib\\sqlalchemy\\sql\\__init__.py -> build\\lib.win-amd64-3.7\\sqlalchemy\\sql\n",
      "    creating build\\lib.win-amd64-3.7\\sqlalchemy\\testing\n",
      "    copying lib\\sqlalchemy\\testing\\assertions.py -> build\\lib.win-amd64-3.7\\sqlalchemy\\testing\n",
      "    copying lib\\sqlalchemy\\testing\\assertsql.py -> build\\lib.win-amd64-3.7\\sqlalchemy\\testing\n",
      "    copying lib\\sqlalchemy\\testing\\config.py -> build\\lib.win-amd64-3.7\\sqlalchemy\\testing\n",
      "    copying lib\\sqlalchemy\\testing\\engines.py -> build\\lib.win-amd64-3.7\\sqlalchemy\\testing\n",
      "    copying lib\\sqlalchemy\\testing\\entities.py -> build\\lib.win-amd64-3.7\\sqlalchemy\\testing\n",
      "    copying lib\\sqlalchemy\\testing\\exclusions.py -> build\\lib.win-amd64-3.7\\sqlalchemy\\testing\n",
      "    copying lib\\sqlalchemy\\testing\\fixtures.py -> build\\lib.win-amd64-3.7\\sqlalchemy\\testing\n",
      "    copying lib\\sqlalchemy\\testing\\mock.py -> build\\lib.win-amd64-3.7\\sqlalchemy\\testing\n",
      "    copying lib\\sqlalchemy\\testing\\pickleable.py -> build\\lib.win-amd64-3.7\\sqlalchemy\\testing\n",
      "    copying lib\\sqlalchemy\\testing\\profiling.py -> build\\lib.win-amd64-3.7\\sqlalchemy\\testing\n",
      "    copying lib\\sqlalchemy\\testing\\provision.py -> build\\lib.win-amd64-3.7\\sqlalchemy\\testing\n",
      "    copying lib\\sqlalchemy\\testing\\replay_fixture.py -> build\\lib.win-amd64-3.7\\sqlalchemy\\testing\n",
      "    copying lib\\sqlalchemy\\testing\\requirements.py -> build\\lib.win-amd64-3.7\\sqlalchemy\\testing\n",
      "    copying lib\\sqlalchemy\\testing\\schema.py -> build\\lib.win-amd64-3.7\\sqlalchemy\\testing\n",
      "    copying lib\\sqlalchemy\\testing\\util.py -> build\\lib.win-amd64-3.7\\sqlalchemy\\testing\n",
      "    copying lib\\sqlalchemy\\testing\\warnings.py -> build\\lib.win-amd64-3.7\\sqlalchemy\\testing\n",
      "    copying lib\\sqlalchemy\\testing\\__init__.py -> build\\lib.win-amd64-3.7\\sqlalchemy\\testing\n",
      "    creating build\\lib.win-amd64-3.7\\sqlalchemy\\util\n",
      "    copying lib\\sqlalchemy\\util\\compat.py -> build\\lib.win-amd64-3.7\\sqlalchemy\\util\n",
      "    copying lib\\sqlalchemy\\util\\deprecations.py -> build\\lib.win-amd64-3.7\\sqlalchemy\\util\n",
      "    copying lib\\sqlalchemy\\util\\langhelpers.py -> build\\lib.win-amd64-3.7\\sqlalchemy\\util\n",
      "    copying lib\\sqlalchemy\\util\\queue.py -> build\\lib.win-amd64-3.7\\sqlalchemy\\util\n",
      "    copying lib\\sqlalchemy\\util\\topological.py -> build\\lib.win-amd64-3.7\\sqlalchemy\\util\n",
      "    copying lib\\sqlalchemy\\util\\_collections.py -> build\\lib.win-amd64-3.7\\sqlalchemy\\util\n",
      "    copying lib\\sqlalchemy\\util\\__init__.py -> build\\lib.win-amd64-3.7\\sqlalchemy\\util\n",
      "    creating build\\lib.win-amd64-3.7\\sqlalchemy\\dialects\\firebird\n",
      "    copying lib\\sqlalchemy\\dialects\\firebird\\base.py -> build\\lib.win-amd64-3.7\\sqlalchemy\\dialects\\firebird\n",
      "    copying lib\\sqlalchemy\\dialects\\firebird\\fdb.py -> build\\lib.win-amd64-3.7\\sqlalchemy\\dialects\\firebird\n",
      "    copying lib\\sqlalchemy\\dialects\\firebird\\kinterbasdb.py -> build\\lib.win-amd64-3.7\\sqlalchemy\\dialects\\firebird\n",
      "    copying lib\\sqlalchemy\\dialects\\firebird\\__init__.py -> build\\lib.win-amd64-3.7\\sqlalchemy\\dialects\\firebird\n",
      "    creating build\\lib.win-amd64-3.7\\sqlalchemy\\dialects\\mssql\n",
      "    copying lib\\sqlalchemy\\dialects\\mssql\\adodbapi.py -> build\\lib.win-amd64-3.7\\sqlalchemy\\dialects\\mssql\n",
      "    copying lib\\sqlalchemy\\dialects\\mssql\\base.py -> build\\lib.win-amd64-3.7\\sqlalchemy\\dialects\\mssql\n",
      "    copying lib\\sqlalchemy\\dialects\\mssql\\information_schema.py -> build\\lib.win-amd64-3.7\\sqlalchemy\\dialects\\mssql\n",
      "    copying lib\\sqlalchemy\\dialects\\mssql\\mxodbc.py -> build\\lib.win-amd64-3.7\\sqlalchemy\\dialects\\mssql\n",
      "    copying lib\\sqlalchemy\\dialects\\mssql\\pymssql.py -> build\\lib.win-amd64-3.7\\sqlalchemy\\dialects\\mssql\n",
      "    copying lib\\sqlalchemy\\dialects\\mssql\\pyodbc.py -> build\\lib.win-amd64-3.7\\sqlalchemy\\dialects\\mssql\n",
      "    copying lib\\sqlalchemy\\dialects\\mssql\\zxjdbc.py -> build\\lib.win-amd64-3.7\\sqlalchemy\\dialects\\mssql\n",
      "    copying lib\\sqlalchemy\\dialects\\mssql\\__init__.py -> build\\lib.win-amd64-3.7\\sqlalchemy\\dialects\\mssql\n",
      "    creating build\\lib.win-amd64-3.7\\sqlalchemy\\dialects\\mysql\n",
      "    copying lib\\sqlalchemy\\dialects\\mysql\\base.py -> build\\lib.win-amd64-3.7\\sqlalchemy\\dialects\\mysql\n",
      "    copying lib\\sqlalchemy\\dialects\\mysql\\cymysql.py -> build\\lib.win-amd64-3.7\\sqlalchemy\\dialects\\mysql\n",
      "    copying lib\\sqlalchemy\\dialects\\mysql\\dml.py -> build\\lib.win-amd64-3.7\\sqlalchemy\\dialects\\mysql\n",
      "    copying lib\\sqlalchemy\\dialects\\mysql\\enumerated.py -> build\\lib.win-amd64-3.7\\sqlalchemy\\dialects\\mysql\n",
      "    copying lib\\sqlalchemy\\dialects\\mysql\\gaerdbms.py -> build\\lib.win-amd64-3.7\\sqlalchemy\\dialects\\mysql\n",
      "    copying lib\\sqlalchemy\\dialects\\mysql\\json.py -> build\\lib.win-amd64-3.7\\sqlalchemy\\dialects\\mysql\n",
      "    copying lib\\sqlalchemy\\dialects\\mysql\\mysqlconnector.py -> build\\lib.win-amd64-3.7\\sqlalchemy\\dialects\\mysql\n",
      "    copying lib\\sqlalchemy\\dialects\\mysql\\mysqldb.py -> build\\lib.win-amd64-3.7\\sqlalchemy\\dialects\\mysql\n",
      "    copying lib\\sqlalchemy\\dialects\\mysql\\oursql.py -> build\\lib.win-amd64-3.7\\sqlalchemy\\dialects\\mysql\n",
      "    copying lib\\sqlalchemy\\dialects\\mysql\\pymysql.py -> build\\lib.win-amd64-3.7\\sqlalchemy\\dialects\\mysql\n",
      "    copying lib\\sqlalchemy\\dialects\\mysql\\pyodbc.py -> build\\lib.win-amd64-3.7\\sqlalchemy\\dialects\\mysql\n",
      "    copying lib\\sqlalchemy\\dialects\\mysql\\reflection.py -> build\\lib.win-amd64-3.7\\sqlalchemy\\dialects\\mysql\n",
      "    copying lib\\sqlalchemy\\dialects\\mysql\\types.py -> build\\lib.win-amd64-3.7\\sqlalchemy\\dialects\\mysql\n",
      "    copying lib\\sqlalchemy\\dialects\\mysql\\zxjdbc.py -> build\\lib.win-amd64-3.7\\sqlalchemy\\dialects\\mysql\n",
      "    copying lib\\sqlalchemy\\dialects\\mysql\\__init__.py -> build\\lib.win-amd64-3.7\\sqlalchemy\\dialects\\mysql\n",
      "    creating build\\lib.win-amd64-3.7\\sqlalchemy\\dialects\\oracle\n",
      "    copying lib\\sqlalchemy\\dialects\\oracle\\base.py -> build\\lib.win-amd64-3.7\\sqlalchemy\\dialects\\oracle\n",
      "    copying lib\\sqlalchemy\\dialects\\oracle\\cx_oracle.py -> build\\lib.win-amd64-3.7\\sqlalchemy\\dialects\\oracle\n",
      "    copying lib\\sqlalchemy\\dialects\\oracle\\zxjdbc.py -> build\\lib.win-amd64-3.7\\sqlalchemy\\dialects\\oracle\n",
      "    copying lib\\sqlalchemy\\dialects\\oracle\\__init__.py -> build\\lib.win-amd64-3.7\\sqlalchemy\\dialects\\oracle\n",
      "    creating build\\lib.win-amd64-3.7\\sqlalchemy\\dialects\\postgresql\n",
      "    copying lib\\sqlalchemy\\dialects\\postgresql\\array.py -> build\\lib.win-amd64-3.7\\sqlalchemy\\dialects\\postgresql\n",
      "    copying lib\\sqlalchemy\\dialects\\postgresql\\base.py -> build\\lib.win-amd64-3.7\\sqlalchemy\\dialects\\postgresql\n",
      "    copying lib\\sqlalchemy\\dialects\\postgresql\\dml.py -> build\\lib.win-amd64-3.7\\sqlalchemy\\dialects\\postgresql\n",
      "    copying lib\\sqlalchemy\\dialects\\postgresql\\ext.py -> build\\lib.win-amd64-3.7\\sqlalchemy\\dialects\\postgresql\n",
      "    copying lib\\sqlalchemy\\dialects\\postgresql\\hstore.py -> build\\lib.win-amd64-3.7\\sqlalchemy\\dialects\\postgresql\n",
      "    copying lib\\sqlalchemy\\dialects\\postgresql\\json.py -> build\\lib.win-amd64-3.7\\sqlalchemy\\dialects\\postgresql\n",
      "    copying lib\\sqlalchemy\\dialects\\postgresql\\pg8000.py -> build\\lib.win-amd64-3.7\\sqlalchemy\\dialects\\postgresql\n",
      "    copying lib\\sqlalchemy\\dialects\\postgresql\\psycopg2.py -> build\\lib.win-amd64-3.7\\sqlalchemy\\dialects\\postgresql\n",
      "    copying lib\\sqlalchemy\\dialects\\postgresql\\psycopg2cffi.py -> build\\lib.win-amd64-3.7\\sqlalchemy\\dialects\\postgresql\n",
      "    copying lib\\sqlalchemy\\dialects\\postgresql\\pygresql.py -> build\\lib.win-amd64-3.7\\sqlalchemy\\dialects\\postgresql\n",
      "    copying lib\\sqlalchemy\\dialects\\postgresql\\pypostgresql.py -> build\\lib.win-amd64-3.7\\sqlalchemy\\dialects\\postgresql\n",
      "    copying lib\\sqlalchemy\\dialects\\postgresql\\ranges.py -> build\\lib.win-amd64-3.7\\sqlalchemy\\dialects\\postgresql\n",
      "    copying lib\\sqlalchemy\\dialects\\postgresql\\zxjdbc.py -> build\\lib.win-amd64-3.7\\sqlalchemy\\dialects\\postgresql\n",
      "    copying lib\\sqlalchemy\\dialects\\postgresql\\__init__.py -> build\\lib.win-amd64-3.7\\sqlalchemy\\dialects\\postgresql\n",
      "    creating build\\lib.win-amd64-3.7\\sqlalchemy\\dialects\\sqlite\n",
      "    copying lib\\sqlalchemy\\dialects\\sqlite\\base.py -> build\\lib.win-amd64-3.7\\sqlalchemy\\dialects\\sqlite\n",
      "    copying lib\\sqlalchemy\\dialects\\sqlite\\json.py -> build\\lib.win-amd64-3.7\\sqlalchemy\\dialects\\sqlite\n",
      "    copying lib\\sqlalchemy\\dialects\\sqlite\\pysqlcipher.py -> build\\lib.win-amd64-3.7\\sqlalchemy\\dialects\\sqlite\n",
      "    copying lib\\sqlalchemy\\dialects\\sqlite\\pysqlite.py -> build\\lib.win-amd64-3.7\\sqlalchemy\\dialects\\sqlite\n",
      "    copying lib\\sqlalchemy\\dialects\\sqlite\\__init__.py -> build\\lib.win-amd64-3.7\\sqlalchemy\\dialects\\sqlite\n",
      "    creating build\\lib.win-amd64-3.7\\sqlalchemy\\dialects\\sybase\n",
      "    copying lib\\sqlalchemy\\dialects\\sybase\\base.py -> build\\lib.win-amd64-3.7\\sqlalchemy\\dialects\\sybase\n",
      "    copying lib\\sqlalchemy\\dialects\\sybase\\mxodbc.py -> build\\lib.win-amd64-3.7\\sqlalchemy\\dialects\\sybase\n",
      "    copying lib\\sqlalchemy\\dialects\\sybase\\pyodbc.py -> build\\lib.win-amd64-3.7\\sqlalchemy\\dialects\\sybase\n",
      "    copying lib\\sqlalchemy\\dialects\\sybase\\pysybase.py -> build\\lib.win-amd64-3.7\\sqlalchemy\\dialects\\sybase\n",
      "    copying lib\\sqlalchemy\\dialects\\sybase\\__init__.py -> build\\lib.win-amd64-3.7\\sqlalchemy\\dialects\\sybase\n",
      "    creating build\\lib.win-amd64-3.7\\sqlalchemy\\ext\\declarative\n",
      "    copying lib\\sqlalchemy\\ext\\declarative\\api.py -> build\\lib.win-amd64-3.7\\sqlalchemy\\ext\\declarative\n",
      "    copying lib\\sqlalchemy\\ext\\declarative\\base.py -> build\\lib.win-amd64-3.7\\sqlalchemy\\ext\\declarative\n",
      "    copying lib\\sqlalchemy\\ext\\declarative\\clsregistry.py -> build\\lib.win-amd64-3.7\\sqlalchemy\\ext\\declarative\n",
      "    copying lib\\sqlalchemy\\ext\\declarative\\__init__.py -> build\\lib.win-amd64-3.7\\sqlalchemy\\ext\\declarative\n",
      "    creating build\\lib.win-amd64-3.7\\sqlalchemy\\testing\\plugin\n",
      "    copying lib\\sqlalchemy\\testing\\plugin\\bootstrap.py -> build\\lib.win-amd64-3.7\\sqlalchemy\\testing\\plugin\n",
      "    copying lib\\sqlalchemy\\testing\\plugin\\plugin_base.py -> build\\lib.win-amd64-3.7\\sqlalchemy\\testing\\plugin\n",
      "    copying lib\\sqlalchemy\\testing\\plugin\\pytestplugin.py -> build\\lib.win-amd64-3.7\\sqlalchemy\\testing\\plugin\n",
      "    copying lib\\sqlalchemy\\testing\\plugin\\__init__.py -> build\\lib.win-amd64-3.7\\sqlalchemy\\testing\\plugin\n",
      "    creating build\\lib.win-amd64-3.7\\sqlalchemy\\testing\\suite\n",
      "    copying lib\\sqlalchemy\\testing\\suite\\test_cte.py -> build\\lib.win-amd64-3.7\\sqlalchemy\\testing\\suite\n",
      "    copying lib\\sqlalchemy\\testing\\suite\\test_ddl.py -> build\\lib.win-amd64-3.7\\sqlalchemy\\testing\\suite\n",
      "    copying lib\\sqlalchemy\\testing\\suite\\test_dialect.py -> build\\lib.win-amd64-3.7\\sqlalchemy\\testing\\suite\n",
      "    copying lib\\sqlalchemy\\testing\\suite\\test_insert.py -> build\\lib.win-amd64-3.7\\sqlalchemy\\testing\\suite\n",
      "    copying lib\\sqlalchemy\\testing\\suite\\test_reflection.py -> build\\lib.win-amd64-3.7\\sqlalchemy\\testing\\suite\n",
      "    copying lib\\sqlalchemy\\testing\\suite\\test_results.py -> build\\lib.win-amd64-3.7\\sqlalchemy\\testing\\suite\n",
      "    copying lib\\sqlalchemy\\testing\\suite\\test_select.py -> build\\lib.win-amd64-3.7\\sqlalchemy\\testing\\suite\n",
      "    copying lib\\sqlalchemy\\testing\\suite\\test_sequence.py -> build\\lib.win-amd64-3.7\\sqlalchemy\\testing\\suite\n",
      "    copying lib\\sqlalchemy\\testing\\suite\\test_types.py -> build\\lib.win-amd64-3.7\\sqlalchemy\\testing\\suite\n",
      "    copying lib\\sqlalchemy\\testing\\suite\\test_update_delete.py -> build\\lib.win-amd64-3.7\\sqlalchemy\\testing\\suite\n",
      "    copying lib\\sqlalchemy\\testing\\suite\\__init__.py -> build\\lib.win-amd64-3.7\\sqlalchemy\\testing\\suite\n",
      "    running build_ext\n",
      "    building 'sqlalchemy.cprocessors' extension\n",
      "    ***************************************************************************\n",
      "    Microsoft Visual C++ 14.0 is required. Get it with \"Microsoft Visual C++ Build Tools\": https://visualstudio.microsoft.com/downloads/\n",
      "    WARNING: The C extension could not be compiled, speedups are not enabled.\n",
      "    Failure information, if any, is above.\n",
      "    Retrying the build without the C extension now.\n",
      "    ***************************************************************************\n",
      "    running install\n",
      "    running build\n",
      "    running build_py\n",
      "    creating build\\lib\n",
      "    creating build\\lib\\sqlalchemy\n",
      "    copying lib\\sqlalchemy\\events.py -> build\\lib\\sqlalchemy\n",
      "    copying lib\\sqlalchemy\\exc.py -> build\\lib\\sqlalchemy\n",
      "    copying lib\\sqlalchemy\\inspection.py -> build\\lib\\sqlalchemy\n",
      "    copying lib\\sqlalchemy\\interfaces.py -> build\\lib\\sqlalchemy\n",
      "    copying lib\\sqlalchemy\\log.py -> build\\lib\\sqlalchemy\n",
      "    copying lib\\sqlalchemy\\processors.py -> build\\lib\\sqlalchemy\n",
      "    copying lib\\sqlalchemy\\schema.py -> build\\lib\\sqlalchemy\n",
      "    copying lib\\sqlalchemy\\types.py -> build\\lib\\sqlalchemy\n",
      "    copying lib\\sqlalchemy\\__init__.py -> build\\lib\\sqlalchemy\n",
      "    creating build\\lib\\sqlalchemy\\connectors\n",
      "    copying lib\\sqlalchemy\\connectors\\mxodbc.py -> build\\lib\\sqlalchemy\\connectors\n",
      "    copying lib\\sqlalchemy\\connectors\\pyodbc.py -> build\\lib\\sqlalchemy\\connectors\n",
      "    copying lib\\sqlalchemy\\connectors\\zxJDBC.py -> build\\lib\\sqlalchemy\\connectors\n",
      "    copying lib\\sqlalchemy\\connectors\\__init__.py -> build\\lib\\sqlalchemy\\connectors\n",
      "    creating build\\lib\\sqlalchemy\\databases\n",
      "    copying lib\\sqlalchemy\\databases\\__init__.py -> build\\lib\\sqlalchemy\\databases\n",
      "    creating build\\lib\\sqlalchemy\\dialects\n",
      "    copying lib\\sqlalchemy\\dialects\\__init__.py -> build\\lib\\sqlalchemy\\dialects\n",
      "    creating build\\lib\\sqlalchemy\\engine\n",
      "    copying lib\\sqlalchemy\\engine\\base.py -> build\\lib\\sqlalchemy\\engine\n",
      "    copying lib\\sqlalchemy\\engine\\default.py -> build\\lib\\sqlalchemy\\engine\n",
      "    copying lib\\sqlalchemy\\engine\\interfaces.py -> build\\lib\\sqlalchemy\\engine\n",
      "    copying lib\\sqlalchemy\\engine\\reflection.py -> build\\lib\\sqlalchemy\\engine\n",
      "    copying lib\\sqlalchemy\\engine\\result.py -> build\\lib\\sqlalchemy\\engine\n",
      "    copying lib\\sqlalchemy\\engine\\strategies.py -> build\\lib\\sqlalchemy\\engine\n",
      "    copying lib\\sqlalchemy\\engine\\threadlocal.py -> build\\lib\\sqlalchemy\\engine\n",
      "    copying lib\\sqlalchemy\\engine\\url.py -> build\\lib\\sqlalchemy\\engine\n",
      "    copying lib\\sqlalchemy\\engine\\util.py -> build\\lib\\sqlalchemy\\engine\n",
      "    copying lib\\sqlalchemy\\engine\\__init__.py -> build\\lib\\sqlalchemy\\engine\n",
      "    creating build\\lib\\sqlalchemy\\event\n",
      "    copying lib\\sqlalchemy\\event\\api.py -> build\\lib\\sqlalchemy\\event\n",
      "    copying lib\\sqlalchemy\\event\\attr.py -> build\\lib\\sqlalchemy\\event\n",
      "    copying lib\\sqlalchemy\\event\\base.py -> build\\lib\\sqlalchemy\\event\n",
      "    copying lib\\sqlalchemy\\event\\legacy.py -> build\\lib\\sqlalchemy\\event\n",
      "    copying lib\\sqlalchemy\\event\\registry.py -> build\\lib\\sqlalchemy\\event\n",
      "    copying lib\\sqlalchemy\\event\\__init__.py -> build\\lib\\sqlalchemy\\event\n",
      "    creating build\\lib\\sqlalchemy\\ext\n",
      "    copying lib\\sqlalchemy\\ext\\associationproxy.py -> build\\lib\\sqlalchemy\\ext\n",
      "    copying lib\\sqlalchemy\\ext\\automap.py -> build\\lib\\sqlalchemy\\ext\n",
      "    copying lib\\sqlalchemy\\ext\\baked.py -> build\\lib\\sqlalchemy\\ext\n",
      "    copying lib\\sqlalchemy\\ext\\compiler.py -> build\\lib\\sqlalchemy\\ext\n",
      "    copying lib\\sqlalchemy\\ext\\horizontal_shard.py -> build\\lib\\sqlalchemy\\ext\n",
      "    copying lib\\sqlalchemy\\ext\\hybrid.py -> build\\lib\\sqlalchemy\\ext\n",
      "    copying lib\\sqlalchemy\\ext\\indexable.py -> build\\lib\\sqlalchemy\\ext\n",
      "    copying lib\\sqlalchemy\\ext\\instrumentation.py -> build\\lib\\sqlalchemy\\ext\n",
      "    copying lib\\sqlalchemy\\ext\\mutable.py -> build\\lib\\sqlalchemy\\ext\n",
      "    copying lib\\sqlalchemy\\ext\\orderinglist.py -> build\\lib\\sqlalchemy\\ext\n",
      "    copying lib\\sqlalchemy\\ext\\serializer.py -> build\\lib\\sqlalchemy\\ext\n",
      "    copying lib\\sqlalchemy\\ext\\__init__.py -> build\\lib\\sqlalchemy\\ext\n",
      "    creating build\\lib\\sqlalchemy\\orm\n",
      "    copying lib\\sqlalchemy\\orm\\attributes.py -> build\\lib\\sqlalchemy\\orm\n",
      "    copying lib\\sqlalchemy\\orm\\base.py -> build\\lib\\sqlalchemy\\orm\n",
      "    copying lib\\sqlalchemy\\orm\\collections.py -> build\\lib\\sqlalchemy\\orm\n",
      "    copying lib\\sqlalchemy\\orm\\dependency.py -> build\\lib\\sqlalchemy\\orm\n",
      "    copying lib\\sqlalchemy\\orm\\deprecated_interfaces.py -> build\\lib\\sqlalchemy\\orm\n",
      "    copying lib\\sqlalchemy\\orm\\descriptor_props.py -> build\\lib\\sqlalchemy\\orm\n",
      "    copying lib\\sqlalchemy\\orm\\dynamic.py -> build\\lib\\sqlalchemy\\orm\n",
      "    copying lib\\sqlalchemy\\orm\\evaluator.py -> build\\lib\\sqlalchemy\\orm\n",
      "    copying lib\\sqlalchemy\\orm\\events.py -> build\\lib\\sqlalchemy\\orm\n",
      "    copying lib\\sqlalchemy\\orm\\exc.py -> build\\lib\\sqlalchemy\\orm\n",
      "    copying lib\\sqlalchemy\\orm\\identity.py -> build\\lib\\sqlalchemy\\orm\n",
      "    copying lib\\sqlalchemy\\orm\\instrumentation.py -> build\\lib\\sqlalchemy\\orm\n",
      "    copying lib\\sqlalchemy\\orm\\interfaces.py -> build\\lib\\sqlalchemy\\orm\n",
      "    copying lib\\sqlalchemy\\orm\\loading.py -> build\\lib\\sqlalchemy\\orm\n",
      "    copying lib\\sqlalchemy\\orm\\mapper.py -> build\\lib\\sqlalchemy\\orm\n",
      "    copying lib\\sqlalchemy\\orm\\path_registry.py -> build\\lib\\sqlalchemy\\orm\n",
      "    copying lib\\sqlalchemy\\orm\\persistence.py -> build\\lib\\sqlalchemy\\orm\n",
      "    copying lib\\sqlalchemy\\orm\\properties.py -> build\\lib\\sqlalchemy\\orm\n",
      "    copying lib\\sqlalchemy\\orm\\query.py -> build\\lib\\sqlalchemy\\orm\n",
      "    copying lib\\sqlalchemy\\orm\\relationships.py -> build\\lib\\sqlalchemy\\orm\n",
      "    copying lib\\sqlalchemy\\orm\\scoping.py -> build\\lib\\sqlalchemy\\orm\n",
      "    copying lib\\sqlalchemy\\orm\\session.py -> build\\lib\\sqlalchemy\\orm\n",
      "    copying lib\\sqlalchemy\\orm\\state.py -> build\\lib\\sqlalchemy\\orm\n",
      "    copying lib\\sqlalchemy\\orm\\strategies.py -> build\\lib\\sqlalchemy\\orm\n",
      "    copying lib\\sqlalchemy\\orm\\strategy_options.py -> build\\lib\\sqlalchemy\\orm\n",
      "    copying lib\\sqlalchemy\\orm\\sync.py -> build\\lib\\sqlalchemy\\orm\n",
      "    copying lib\\sqlalchemy\\orm\\unitofwork.py -> build\\lib\\sqlalchemy\\orm\n",
      "    copying lib\\sqlalchemy\\orm\\util.py -> build\\lib\\sqlalchemy\\orm\n",
      "    copying lib\\sqlalchemy\\orm\\__init__.py -> build\\lib\\sqlalchemy\\orm\n",
      "    creating build\\lib\\sqlalchemy\\pool\n",
      "    copying lib\\sqlalchemy\\pool\\base.py -> build\\lib\\sqlalchemy\\pool\n",
      "    copying lib\\sqlalchemy\\pool\\dbapi_proxy.py -> build\\lib\\sqlalchemy\\pool\n",
      "    copying lib\\sqlalchemy\\pool\\impl.py -> build\\lib\\sqlalchemy\\pool\n",
      "    copying lib\\sqlalchemy\\pool\\__init__.py -> build\\lib\\sqlalchemy\\pool\n",
      "    creating build\\lib\\sqlalchemy\\sql\n",
      "    copying lib\\sqlalchemy\\sql\\annotation.py -> build\\lib\\sqlalchemy\\sql\n",
      "    copying lib\\sqlalchemy\\sql\\base.py -> build\\lib\\sqlalchemy\\sql\n",
      "    copying lib\\sqlalchemy\\sql\\compiler.py -> build\\lib\\sqlalchemy\\sql\n",
      "    copying lib\\sqlalchemy\\sql\\crud.py -> build\\lib\\sqlalchemy\\sql\n",
      "    copying lib\\sqlalchemy\\sql\\ddl.py -> build\\lib\\sqlalchemy\\sql\n",
      "    copying lib\\sqlalchemy\\sql\\default_comparator.py -> build\\lib\\sqlalchemy\\sql\n",
      "    copying lib\\sqlalchemy\\sql\\dml.py -> build\\lib\\sqlalchemy\\sql\n",
      "    copying lib\\sqlalchemy\\sql\\elements.py -> build\\lib\\sqlalchemy\\sql\n",
      "    copying lib\\sqlalchemy\\sql\\expression.py -> build\\lib\\sqlalchemy\\sql\n",
      "    copying lib\\sqlalchemy\\sql\\functions.py -> build\\lib\\sqlalchemy\\sql\n",
      "    copying lib\\sqlalchemy\\sql\\naming.py -> build\\lib\\sqlalchemy\\sql\n",
      "    copying lib\\sqlalchemy\\sql\\operators.py -> build\\lib\\sqlalchemy\\sql\n",
      "    copying lib\\sqlalchemy\\sql\\schema.py -> build\\lib\\sqlalchemy\\sql\n",
      "    copying lib\\sqlalchemy\\sql\\selectable.py -> build\\lib\\sqlalchemy\\sql\n",
      "    copying lib\\sqlalchemy\\sql\\sqltypes.py -> build\\lib\\sqlalchemy\\sql\n",
      "    copying lib\\sqlalchemy\\sql\\type_api.py -> build\\lib\\sqlalchemy\\sql\n",
      "    copying lib\\sqlalchemy\\sql\\util.py -> build\\lib\\sqlalchemy\\sql\n",
      "    copying lib\\sqlalchemy\\sql\\visitors.py -> build\\lib\\sqlalchemy\\sql\n",
      "    copying lib\\sqlalchemy\\sql\\__init__.py -> build\\lib\\sqlalchemy\\sql\n",
      "    creating build\\lib\\sqlalchemy\\testing\n",
      "    copying lib\\sqlalchemy\\testing\\assertions.py -> build\\lib\\sqlalchemy\\testing\n",
      "    copying lib\\sqlalchemy\\testing\\assertsql.py -> build\\lib\\sqlalchemy\\testing\n",
      "    copying lib\\sqlalchemy\\testing\\config.py -> build\\lib\\sqlalchemy\\testing\n",
      "    copying lib\\sqlalchemy\\testing\\engines.py -> build\\lib\\sqlalchemy\\testing\n",
      "    copying lib\\sqlalchemy\\testing\\entities.py -> build\\lib\\sqlalchemy\\testing\n",
      "    copying lib\\sqlalchemy\\testing\\exclusions.py -> build\\lib\\sqlalchemy\\testing\n",
      "    copying lib\\sqlalchemy\\testing\\fixtures.py -> build\\lib\\sqlalchemy\\testing\n",
      "    copying lib\\sqlalchemy\\testing\\mock.py -> build\\lib\\sqlalchemy\\testing\n",
      "    copying lib\\sqlalchemy\\testing\\pickleable.py -> build\\lib\\sqlalchemy\\testing\n",
      "    copying lib\\sqlalchemy\\testing\\profiling.py -> build\\lib\\sqlalchemy\\testing\n",
      "    copying lib\\sqlalchemy\\testing\\provision.py -> build\\lib\\sqlalchemy\\testing\n",
      "    copying lib\\sqlalchemy\\testing\\replay_fixture.py -> build\\lib\\sqlalchemy\\testing\n",
      "    copying lib\\sqlalchemy\\testing\\requirements.py -> build\\lib\\sqlalchemy\\testing\n",
      "    copying lib\\sqlalchemy\\testing\\schema.py -> build\\lib\\sqlalchemy\\testing\n",
      "    copying lib\\sqlalchemy\\testing\\util.py -> build\\lib\\sqlalchemy\\testing\n",
      "    copying lib\\sqlalchemy\\testing\\warnings.py -> build\\lib\\sqlalchemy\\testing\n",
      "    copying lib\\sqlalchemy\\testing\\__init__.py -> build\\lib\\sqlalchemy\\testing\n",
      "    creating build\\lib\\sqlalchemy\\util\n",
      "    copying lib\\sqlalchemy\\util\\compat.py -> build\\lib\\sqlalchemy\\util\n",
      "    copying lib\\sqlalchemy\\util\\deprecations.py -> build\\lib\\sqlalchemy\\util\n",
      "    copying lib\\sqlalchemy\\util\\langhelpers.py -> build\\lib\\sqlalchemy\\util\n",
      "    copying lib\\sqlalchemy\\util\\queue.py -> build\\lib\\sqlalchemy\\util\n",
      "    copying lib\\sqlalchemy\\util\\topological.py -> build\\lib\\sqlalchemy\\util\n",
      "    copying lib\\sqlalchemy\\util\\_collections.py -> build\\lib\\sqlalchemy\\util\n",
      "    copying lib\\sqlalchemy\\util\\__init__.py -> build\\lib\\sqlalchemy\\util\n",
      "    creating build\\lib\\sqlalchemy\\dialects\\firebird\n",
      "    copying lib\\sqlalchemy\\dialects\\firebird\\base.py -> build\\lib\\sqlalchemy\\dialects\\firebird\n",
      "    copying lib\\sqlalchemy\\dialects\\firebird\\fdb.py -> build\\lib\\sqlalchemy\\dialects\\firebird\n",
      "    copying lib\\sqlalchemy\\dialects\\firebird\\kinterbasdb.py -> build\\lib\\sqlalchemy\\dialects\\firebird\n",
      "    copying lib\\sqlalchemy\\dialects\\firebird\\__init__.py -> build\\lib\\sqlalchemy\\dialects\\firebird\n",
      "    creating build\\lib\\sqlalchemy\\dialects\\mssql\n",
      "    copying lib\\sqlalchemy\\dialects\\mssql\\adodbapi.py -> build\\lib\\sqlalchemy\\dialects\\mssql\n",
      "    copying lib\\sqlalchemy\\dialects\\mssql\\base.py -> build\\lib\\sqlalchemy\\dialects\\mssql\n",
      "    copying lib\\sqlalchemy\\dialects\\mssql\\information_schema.py -> build\\lib\\sqlalchemy\\dialects\\mssql\n",
      "    copying lib\\sqlalchemy\\dialects\\mssql\\mxodbc.py -> build\\lib\\sqlalchemy\\dialects\\mssql\n",
      "    copying lib\\sqlalchemy\\dialects\\mssql\\pymssql.py -> build\\lib\\sqlalchemy\\dialects\\mssql\n",
      "    copying lib\\sqlalchemy\\dialects\\mssql\\pyodbc.py -> build\\lib\\sqlalchemy\\dialects\\mssql\n",
      "    copying lib\\sqlalchemy\\dialects\\mssql\\zxjdbc.py -> build\\lib\\sqlalchemy\\dialects\\mssql\n",
      "    copying lib\\sqlalchemy\\dialects\\mssql\\__init__.py -> build\\lib\\sqlalchemy\\dialects\\mssql\n",
      "    creating build\\lib\\sqlalchemy\\dialects\\mysql\n",
      "    copying lib\\sqlalchemy\\dialects\\mysql\\base.py -> build\\lib\\sqlalchemy\\dialects\\mysql\n",
      "    copying lib\\sqlalchemy\\dialects\\mysql\\cymysql.py -> build\\lib\\sqlalchemy\\dialects\\mysql\n",
      "    copying lib\\sqlalchemy\\dialects\\mysql\\dml.py -> build\\lib\\sqlalchemy\\dialects\\mysql\n",
      "    copying lib\\sqlalchemy\\dialects\\mysql\\enumerated.py -> build\\lib\\sqlalchemy\\dialects\\mysql\n",
      "    copying lib\\sqlalchemy\\dialects\\mysql\\gaerdbms.py -> build\\lib\\sqlalchemy\\dialects\\mysql\n",
      "    copying lib\\sqlalchemy\\dialects\\mysql\\json.py -> build\\lib\\sqlalchemy\\dialects\\mysql\n",
      "    copying lib\\sqlalchemy\\dialects\\mysql\\mysqlconnector.py -> build\\lib\\sqlalchemy\\dialects\\mysql\n",
      "    copying lib\\sqlalchemy\\dialects\\mysql\\mysqldb.py -> build\\lib\\sqlalchemy\\dialects\\mysql\n",
      "    copying lib\\sqlalchemy\\dialects\\mysql\\oursql.py -> build\\lib\\sqlalchemy\\dialects\\mysql\n",
      "    copying lib\\sqlalchemy\\dialects\\mysql\\pymysql.py -> build\\lib\\sqlalchemy\\dialects\\mysql\n",
      "    copying lib\\sqlalchemy\\dialects\\mysql\\pyodbc.py -> build\\lib\\sqlalchemy\\dialects\\mysql\n",
      "    copying lib\\sqlalchemy\\dialects\\mysql\\reflection.py -> build\\lib\\sqlalchemy\\dialects\\mysql\n",
      "    copying lib\\sqlalchemy\\dialects\\mysql\\types.py -> build\\lib\\sqlalchemy\\dialects\\mysql\n",
      "    copying lib\\sqlalchemy\\dialects\\mysql\\zxjdbc.py -> build\\lib\\sqlalchemy\\dialects\\mysql\n",
      "    copying lib\\sqlalchemy\\dialects\\mysql\\__init__.py -> build\\lib\\sqlalchemy\\dialects\\mysql\n",
      "    creating build\\lib\\sqlalchemy\\dialects\\oracle\n",
      "    copying lib\\sqlalchemy\\dialects\\oracle\\base.py -> build\\lib\\sqlalchemy\\dialects\\oracle\n",
      "    copying lib\\sqlalchemy\\dialects\\oracle\\cx_oracle.py -> build\\lib\\sqlalchemy\\dialects\\oracle\n",
      "    copying lib\\sqlalchemy\\dialects\\oracle\\zxjdbc.py -> build\\lib\\sqlalchemy\\dialects\\oracle\n",
      "    copying lib\\sqlalchemy\\dialects\\oracle\\__init__.py -> build\\lib\\sqlalchemy\\dialects\\oracle\n",
      "    creating build\\lib\\sqlalchemy\\dialects\\postgresql\n",
      "    copying lib\\sqlalchemy\\dialects\\postgresql\\array.py -> build\\lib\\sqlalchemy\\dialects\\postgresql\n",
      "    copying lib\\sqlalchemy\\dialects\\postgresql\\base.py -> build\\lib\\sqlalchemy\\dialects\\postgresql\n",
      "    copying lib\\sqlalchemy\\dialects\\postgresql\\dml.py -> build\\lib\\sqlalchemy\\dialects\\postgresql\n",
      "    copying lib\\sqlalchemy\\dialects\\postgresql\\ext.py -> build\\lib\\sqlalchemy\\dialects\\postgresql\n",
      "    copying lib\\sqlalchemy\\dialects\\postgresql\\hstore.py -> build\\lib\\sqlalchemy\\dialects\\postgresql\n",
      "    copying lib\\sqlalchemy\\dialects\\postgresql\\json.py -> build\\lib\\sqlalchemy\\dialects\\postgresql\n",
      "    copying lib\\sqlalchemy\\dialects\\postgresql\\pg8000.py -> build\\lib\\sqlalchemy\\dialects\\postgresql\n",
      "    copying lib\\sqlalchemy\\dialects\\postgresql\\psycopg2.py -> build\\lib\\sqlalchemy\\dialects\\postgresql\n",
      "    copying lib\\sqlalchemy\\dialects\\postgresql\\psycopg2cffi.py -> build\\lib\\sqlalchemy\\dialects\\postgresql\n",
      "    copying lib\\sqlalchemy\\dialects\\postgresql\\pygresql.py -> build\\lib\\sqlalchemy\\dialects\\postgresql\n",
      "    copying lib\\sqlalchemy\\dialects\\postgresql\\pypostgresql.py -> build\\lib\\sqlalchemy\\dialects\\postgresql\n",
      "    copying lib\\sqlalchemy\\dialects\\postgresql\\ranges.py -> build\\lib\\sqlalchemy\\dialects\\postgresql\n",
      "    copying lib\\sqlalchemy\\dialects\\postgresql\\zxjdbc.py -> build\\lib\\sqlalchemy\\dialects\\postgresql\n",
      "    copying lib\\sqlalchemy\\dialects\\postgresql\\__init__.py -> build\\lib\\sqlalchemy\\dialects\\postgresql\n",
      "    creating build\\lib\\sqlalchemy\\dialects\\sqlite\n",
      "    copying lib\\sqlalchemy\\dialects\\sqlite\\base.py -> build\\lib\\sqlalchemy\\dialects\\sqlite\n",
      "    copying lib\\sqlalchemy\\dialects\\sqlite\\json.py -> build\\lib\\sqlalchemy\\dialects\\sqlite\n",
      "    copying lib\\sqlalchemy\\dialects\\sqlite\\pysqlcipher.py -> build\\lib\\sqlalchemy\\dialects\\sqlite\n",
      "    copying lib\\sqlalchemy\\dialects\\sqlite\\pysqlite.py -> build\\lib\\sqlalchemy\\dialects\\sqlite\n",
      "    copying lib\\sqlalchemy\\dialects\\sqlite\\__init__.py -> build\\lib\\sqlalchemy\\dialects\\sqlite\n",
      "    creating build\\lib\\sqlalchemy\\dialects\\sybase\n",
      "    copying lib\\sqlalchemy\\dialects\\sybase\\base.py -> build\\lib\\sqlalchemy\\dialects\\sybase\n",
      "    copying lib\\sqlalchemy\\dialects\\sybase\\mxodbc.py -> build\\lib\\sqlalchemy\\dialects\\sybase\n",
      "    copying lib\\sqlalchemy\\dialects\\sybase\\pyodbc.py -> build\\lib\\sqlalchemy\\dialects\\sybase\n",
      "    copying lib\\sqlalchemy\\dialects\\sybase\\pysybase.py -> build\\lib\\sqlalchemy\\dialects\\sybase\n",
      "    copying lib\\sqlalchemy\\dialects\\sybase\\__init__.py -> build\\lib\\sqlalchemy\\dialects\\sybase\n",
      "    creating build\\lib\\sqlalchemy\\ext\\declarative\n",
      "    copying lib\\sqlalchemy\\ext\\declarative\\api.py -> build\\lib\\sqlalchemy\\ext\\declarative\n",
      "    copying lib\\sqlalchemy\\ext\\declarative\\base.py -> build\\lib\\sqlalchemy\\ext\\declarative\n",
      "    copying lib\\sqlalchemy\\ext\\declarative\\clsregistry.py -> build\\lib\\sqlalchemy\\ext\\declarative\n",
      "    copying lib\\sqlalchemy\\ext\\declarative\\__init__.py -> build\\lib\\sqlalchemy\\ext\\declarative\n",
      "    creating build\\lib\\sqlalchemy\\testing\\plugin\n",
      "    copying lib\\sqlalchemy\\testing\\plugin\\bootstrap.py -> build\\lib\\sqlalchemy\\testing\\plugin\n",
      "    copying lib\\sqlalchemy\\testing\\plugin\\plugin_base.py -> build\\lib\\sqlalchemy\\testing\\plugin\n",
      "    copying lib\\sqlalchemy\\testing\\plugin\\pytestplugin.py -> build\\lib\\sqlalchemy\\testing\\plugin\n",
      "    copying lib\\sqlalchemy\\testing\\plugin\\__init__.py -> build\\lib\\sqlalchemy\\testing\\plugin\n",
      "    creating build\\lib\\sqlalchemy\\testing\\suite\n",
      "    copying lib\\sqlalchemy\\testing\\suite\\test_cte.py -> build\\lib\\sqlalchemy\\testing\\suite\n",
      "    copying lib\\sqlalchemy\\testing\\suite\\test_ddl.py -> build\\lib\\sqlalchemy\\testing\\suite\n",
      "    copying lib\\sqlalchemy\\testing\\suite\\test_dialect.py -> build\\lib\\sqlalchemy\\testing\\suite\n",
      "    copying lib\\sqlalchemy\\testing\\suite\\test_insert.py -> build\\lib\\sqlalchemy\\testing\\suite\n",
      "    copying lib\\sqlalchemy\\testing\\suite\\test_reflection.py -> build\\lib\\sqlalchemy\\testing\\suite\n",
      "    copying lib\\sqlalchemy\\testing\\suite\\test_results.py -> build\\lib\\sqlalchemy\\testing\\suite\n",
      "    copying lib\\sqlalchemy\\testing\\suite\\test_select.py -> build\\lib\\sqlalchemy\\testing\\suite\n",
      "    copying lib\\sqlalchemy\\testing\\suite\\test_sequence.py -> build\\lib\\sqlalchemy\\testing\\suite\n",
      "    copying lib\\sqlalchemy\\testing\\suite\\test_types.py -> build\\lib\\sqlalchemy\\testing\\suite\n",
      "    copying lib\\sqlalchemy\\testing\\suite\\test_update_delete.py -> build\\lib\\sqlalchemy\\testing\\suite\n",
      "    copying lib\\sqlalchemy\\testing\\suite\\__init__.py -> build\\lib\\sqlalchemy\\testing\\suite\n",
      "    running build_ext\n",
      "    running install_lib\n",
      "    creating c:\\program files\\python37\\Lib\\site-packages\\sqlalchemy\n",
      "    error: could not create 'c:\\program files\\python37\\Lib\\site-packages\\sqlalchemy': Access is denied\n",
      "    \n",
      "    ----------------------------------------\n"
     ]
    },
    {
     "name": "stderr",
     "output_type": "stream",
     "text": [
      "Command \"\"c:\\program files\\python37\\python.exe\" -u -c \"import setuptools, tokenize;__file__='C:\\\\Users\\\\rhohe\\\\AppData\\\\Local\\\\Temp\\\\pip-install-whqmz5p_\\\\sqlalchemy\\\\setup.py';f=getattr(tokenize, 'open', open)(__file__);code=f.read().replace('\\r\\n', '\\n');f.close();exec(compile(code, __file__, 'exec'))\" install --record C:\\Users\\rhohe\\AppData\\Local\\Temp\\pip-record-z7xa_etn\\install-record.txt --single-version-externally-managed --compile\" failed with error code 1 in C:\\Users\\rhohe\\AppData\\Local\\Temp\\pip-install-whqmz5p_\\sqlalchemy\\\n",
      "You are using pip version 19.0.3, however version 19.3.1 is available.\n",
      "You should consider upgrading via the 'python -m pip install --upgrade pip' command.\n"
     ]
    }
   ],
   "source": [
    "!pip install ipython-sql"
   ]
  },
  {
   "cell_type": "code",
   "execution_count": 3,
   "metadata": {
    "ExecuteTime": {
     "end_time": "2019-12-09T01:19:05.713952Z",
     "start_time": "2019-12-09T01:19:05.709962Z"
    }
   },
   "outputs": [
    {
     "name": "stderr",
     "output_type": "stream",
     "text": [
      "UsageError: Missing module name.\n"
     ]
    }
   ],
   "source": [
    "%load_ext"
   ]
  },
  {
   "cell_type": "code",
   "execution_count": 122,
   "metadata": {
    "ExecuteTime": {
     "end_time": "2019-12-09T01:01:13.744732Z",
     "start_time": "2019-12-09T01:01:13.726779Z"
    }
   },
   "outputs": [
    {
     "name": "stdout",
     "output_type": "stream",
     "text": [
      " Volume in drive D is TOSHIBA EXT\n",
      " Volume Serial Number is ACC6-FDA2\n",
      "\n",
      " Directory of D:\\Documents\\Projects\\Notes\n",
      "\n",
      "12/08/2019  05:01 PM    <DIR>          .\n",
      "12/08/2019  05:01 PM    <DIR>          ..\n",
      "12/08/2019  02:13 PM    <DIR>          .ipynb_checkpoints\n",
      "12/08/2019  03:34 PM            28,672 example.db\n",
      "11/10/2019  02:50 PM    <DIR>          foldertozip\n",
      "11/15/2019  11:41 PM            12,768 git-notes.ipynb\n",
      "10/14/2019  09:21 PM             4,251 json-notes.ipynb\n",
      "10/14/2019  09:48 PM               163 movie.json\n",
      "11/10/2019  02:50 PM    <DIR>          my_python_files\n",
      "10/15/2019  09:16 PM               294 my_python_files.zip\n",
      "10/14/2019  09:49 PM            17,652 pandas-notes.ipynb\n",
      "10/28/2019  01:08 PM            36,436 pysimplegui-notes.ipynb\n",
      "12/08/2019  05:01 PM            30,744 sqlite3-notes.ipynb\n",
      "11/16/2019  06:40 PM             6,236 unit-testing-notes.ipynb\n",
      "10/15/2019  12:55 PM                72 Untitled.ipynb\n",
      "10/15/2019  09:17 PM            15,107 Untitled1.ipynb\n",
      "11/01/2019  09:13 PM               867 Untitled2.ipynb\n",
      "11/16/2019  06:48 PM                72 Untitled3.ipynb\n",
      "11/16/2019  06:52 PM            16,375 Untitled4.ipynb\n",
      "              14 File(s)        169,709 bytes\n",
      "               5 Dir(s)  745,139,683,328 bytes free\n"
     ]
    }
   ],
   "source": [
    "!dir"
   ]
  }
 ],
 "metadata": {
  "kernelspec": {
   "display_name": "Python 3",
   "language": "python",
   "name": "python3"
  },
  "language_info": {
   "codemirror_mode": {
    "name": "ipython",
    "version": 3
   },
   "file_extension": ".py",
   "mimetype": "text/x-python",
   "name": "python",
   "nbconvert_exporter": "python",
   "pygments_lexer": "ipython3",
   "version": "3.7.4"
  },
  "toc": {
   "base_numbering": 1,
   "nav_menu": {},
   "number_sections": true,
   "sideBar": true,
   "skip_h1_title": false,
   "title_cell": "Table of Contents",
   "title_sidebar": "Contents",
   "toc_cell": false,
   "toc_position": {},
   "toc_section_display": true,
   "toc_window_display": false
  }
 },
 "nbformat": 4,
 "nbformat_minor": 2
}
