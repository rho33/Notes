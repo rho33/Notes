{
 "cells": [
  {
   "cell_type": "code",
   "execution_count": 1,
   "metadata": {
    "ExecuteTime": {
     "end_time": "2019-10-22T19:03:30.471033Z",
     "start_time": "2019-10-22T19:03:30.466035Z"
    }
   },
   "outputs": [],
   "source": [
    "from IPython.display import Image"
   ]
  },
  {
   "cell_type": "markdown",
   "metadata": {},
   "source": [
    "Starting a Git Repository\n",
    "- git init\n",
    "- git clone\n",
    "- git config\n",
    "\n",
    "Making Changes to Local Branch\n",
    "- git add\n",
    "- git commit\n",
    "\n",
    "Viewing Changes\n",
    "- git status\n",
    "- git diff\n",
    "- git log\n",
    "\n",
    "Working with Branches\n",
    "- git branch\n",
    "- git merge\n",
    "- git checkout\n",
    "\n",
    "Remote Repository\n",
    "- git pull\n",
    "- git push\n",
    "- git fetch"
   ]
  },
  {
   "cell_type": "markdown",
   "metadata": {},
   "source": [
    "Basics\n",
    "\n",
    "\n",
    "Terminology\n",
    "- working tree\n",
    "- staging area\n",
    "- branch\n",
    "- repository\n",
    "- local vs remote\n",
    "- \n",
    "\n",
    "Commands\n",
    "\n",
    "\n",
    "- git init\n",
    "- git clone\n",
    "- git add\n",
    "- git status\n",
    "- git branch\n",
    "- git checkout\n",
    "- git fetch\n",
    "- git pull\n",
    "- git push\n",
    "- git merge\n",
    "- git commit"
   ]
  },
  {
   "cell_type": "code",
   "execution_count": 2,
   "metadata": {
    "ExecuteTime": {
     "end_time": "2019-10-22T19:03:35.603098Z",
     "start_time": "2019-10-22T19:03:35.581115Z"
    }
   },
   "outputs": [
    {
     "data": {
      "text/html": [
       "<img src=\"https://i.redd.it/nm1w0gnf2zh11.png\"/>"
      ],
      "text/plain": [
       "<IPython.core.display.Image object>"
      ]
     },
     "execution_count": 2,
     "metadata": {},
     "output_type": "execute_result"
    }
   ],
   "source": [
    "Image(url=r'https://i.redd.it/nm1w0gnf2zh11.png')"
   ]
  },
  {
   "cell_type": "code",
   "execution_count": 3,
   "metadata": {
    "ExecuteTime": {
     "end_time": "2019-10-22T19:11:49.220896Z",
     "start_time": "2019-10-22T19:11:49.212907Z"
    }
   },
   "outputs": [
    {
     "data": {
      "text/html": [
       "<img src=\"https://git-scm.com/book/en/v2/images/lifecycle.png\"/>"
      ],
      "text/plain": [
       "<IPython.core.display.Image object>"
      ]
     },
     "execution_count": 3,
     "metadata": {},
     "output_type": "execute_result"
    }
   ],
   "source": [
    "Image(url='https://git-scm.com/book/en/v2/images/lifecycle.png')"
   ]
  }
 ],
 "metadata": {
  "kernelspec": {
   "display_name": "Python 3",
   "language": "python",
   "name": "python3"
  },
  "language_info": {
   "codemirror_mode": {
    "name": "ipython",
    "version": 3
   },
   "file_extension": ".py",
   "mimetype": "text/x-python",
   "name": "python",
   "nbconvert_exporter": "python",
   "pygments_lexer": "ipython3",
   "version": "3.7.1"
  },
  "toc": {
   "base_numbering": 1,
   "nav_menu": {},
   "number_sections": true,
   "sideBar": true,
   "skip_h1_title": false,
   "title_cell": "Table of Contents",
   "title_sidebar": "Contents",
   "toc_cell": false,
   "toc_position": {},
   "toc_section_display": true,
   "toc_window_display": false
  }
 },
 "nbformat": 4,
 "nbformat_minor": 2
}
