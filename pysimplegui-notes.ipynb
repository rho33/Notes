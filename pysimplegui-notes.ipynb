{
 "cells": [
  {
   "cell_type": "markdown",
   "metadata": {},
   "source": [
    "Note: PySimpleGui windows seem to crash after submit button press when called from jupyter notebooks and jupyter notebook kernels seem to crash after PySimpleGui window submit button press. But the same code seems to work fine in a .py file."
   ]
  },
  {
   "cell_type": "markdown",
   "metadata": {},
   "source": [
    "TODO:\n",
    "- explore key kw\n",
    "- list "
   ]
  },
  {
   "cell_type": "code",
   "execution_count": 1,
   "metadata": {
    "ExecuteTime": {
     "end_time": "2019-10-16T23:09:06.804930Z",
     "start_time": "2019-10-16T23:09:06.748967Z"
    }
   },
   "outputs": [],
   "source": [
    "import PySimpleGUI as sg"
   ]
  },
  {
   "cell_type": "markdown",
   "metadata": {},
   "source": [
    "Primary functions/classes/methods\n",
    "- sg.Window()\n",
    "    - methods:\n",
    "        - Read()\n",
    "        - close()\n",
    "- sg.Input()\n",
    "- sg.Text()\n",
    "- sg.Checkbox()\n",
    "- sg.Button()"
   ]
  },
  {
   "cell_type": "code",
   "execution_count": 3,
   "metadata": {
    "ExecuteTime": {
     "end_time": "2019-10-16T19:35:05.978374Z",
     "start_time": "2019-10-16T19:35:05.972374Z"
    }
   },
   "outputs": [],
   "source": [
    "import inspect"
   ]
  },
  {
   "cell_type": "code",
   "execution_count": 12,
   "metadata": {
    "ExecuteTime": {
     "end_time": "2019-10-15T21:02:09.386085Z",
     "start_time": "2019-10-15T21:02:09.379078Z"
    }
   },
   "outputs": [
    {
     "data": {
      "text/plain": [
       "True"
      ]
     },
     "execution_count": 12,
     "metadata": {},
     "output_type": "execute_result"
    }
   ],
   "source": [
    "inspect.isclass(sg.In)"
   ]
  },
  {
   "cell_type": "code",
   "execution_count": null,
   "metadata": {},
   "outputs": [],
   "source": [
    "sg.DropDown()"
   ]
  },
  {
   "cell_type": "code",
   "execution_count": 2,
   "metadata": {
    "ExecuteTime": {
     "end_time": "2019-10-28T21:07:04.711117Z",
     "start_time": "2019-10-28T21:07:04.695146Z"
    }
   },
   "outputs": [
    {
     "data": {
      "text/plain": [
       "'None'"
      ]
     },
     "execution_count": 2,
     "metadata": {},
     "output_type": "execute_result"
    }
   ],
   "source": [
    "'{}'.format(None)"
   ]
  },
  {
   "cell_type": "markdown",
   "metadata": {},
   "source": [
    "Note: PySimpleGui often seems to have multiple element classes for the same element. Elements on same line are equivalent\n",
    "\n",
    "Elements\n",
    "\n",
    "- sg.Text(text), sg.Txt(), sg.T()\n",
    "    - self explanatory\n",
    "    - often above input line\n",
    "- sg.Input(), sg.InputText(), sg.In()\n",
    "    - can pass default_text as arg\n",
    "- sg.DropDown(values, default_value=None), sg.InputCombo(), sg.Combo()\n",
    "    - values should be python list\n",
    "    - dropdown menu selection\n",
    "- Checkbox(text, default=True), CBox(), CB(), Check()\n",
    "    - checkbox returning true or false\n",
    "- sg.Radio(text, group_id)\n",
    "    - makes button group based on group_id arg. only one button in group checked at time\n",
    "    - haven't found a way to uncheck all in group after one has been checked. Maybe use disable based on another checkbox?\n",
    "- sg.Listbox(values)\n",
    "    -  Provide a list of values for the user to choose one or more of\n",
    "    - values should be python list\n",
    "- sg.Slider(range, orientation)\n",
    "    - range = 2 item tuple for min and max values e.g. (1, 500)\n",
    "    - oreintation = 'horizaontal' or 'vertical'\n",
    "- sg.Spin(values)\n",
    "    - up/down spinner. pass list of values to scroll through e.g. sg.Spin(list(range(100))\n",
    "- sg.Multiline()\n",
    "    - Display and/or read multiple lines of text\n",
    "    - use sg.Text() with \\n to display only, use Multiline to take input or make text modifiable\n",
    "- sg.VerticalSeparator()\n",
    "    - Vertical Separator Element draws a vertical line at the given location. It will span 1 \"row\". Usually paired with Column Element if extra height is needed\n",
    "- sg.ProgressBar()\n",
    "    - see example below\n",
    "- sg.OptionMenu()\n",
    "    - basically like a dropdown/combobox\n",
    "- sg.Menu()\n",
    "    - puts menu bar across top of window (file, edit, help...)\n",
    "- sg.ButtonMenu(button_text, menu_def)\n",
    "    - It's a button, that when clicked, shows you a menu.\n",
    "    - menu_def\tList[List[str]] A list of lists of Menu items to show when this element is clicked. See docs for format as they are the same for all menu types\n",
    "- Frame\n",
    "    - Frames work exactly the same way as Columns. You create layout that is then used to initialize the Frame. Like a Column element, it's a \"Container Element\" that holds one or more elements inside.\n",
    "- sg.Column(col_layout)\n",
    "    - Columns are needed when you want to specify more than 1 element in a single row.\n",
    "    - need a col_layout (list of lists with elements just like window layout)\n",
    "    - see example below\n",
    "- Graph\n",
    "    - see example below\n",
    "    - more examples at https://github.com/PySimpleGUI/PySimpleGUI/tree/master/DemoPrograms\n",
    "- sg.Image()\n",
    "    - supports png, gif, ppm/pgm\n",
    "    - Does not support jpg, use PIL to convert to png\n",
    "- sg.Table()\n",
    "    - can display tabular data\n",
    "    - see table example below that displays csv file in gui\n",
    "- sg.Tree()\n",
    "    - displays format similar to registry editor, like a gui version of TREE in cmd prompt\n",
    "    - needs a TreeData() object as argument\n",
    "    - example use https://github.com/PySimpleGUI/PySimpleGUI/issues/1058\n",
    "- Tab, TabGroup\n",
    "- sg.StatusBar()\n",
    "    - basically seems to be a sunken textbox\n",
    "    - maybe useful in seqeuntial windows (e.g. w/ text reading \"window 2/4\")\n",
    "- sg.Pane()\n",
    "    - sliding panes that uses Columns to create individual panes\n",
    "    - see example below\n",
    "- sg.FileBrowse()\n",
    "    - button to launch file dialog\n",
    "    - gets associated with input element next to it (typically to the right of an input box)\n",
    "    - can specify file type w/ file_type kw (e.g. file_type='*.txt')\n",
    "        - I assume file_type kw uses regex but can't find that stated explicitly in documentation\n",
    "    - seems to open initially to documents folder or last folder navigated to if gui had previous file dialog element\n",
    "        - has initial_folder kw to set initial opening folder\n",
    "- sg.FolderBrowse()\n",
    "    - like FileBrowse but for folders\n",
    "- sg.CalendarButton()\n",
    "- sg.ColorChooserButton()\n",
    "- sg.FileSaveAs()\n",
    "- sg.RealtimeButton()\n",
    "- sg.DummyButton()\n",
    "\n",
    "    \n",
    "- Buttons including these types:\n",
    "    - File Browse\n",
    "    - Folder Browse\n",
    "    - Calendar picker\n",
    "    - Date Chooser\n",
    "    - Read window\n",
    "    - Close window (\"Button\" & all shortcut buttons)\n",
    "    - Realtime\n",
    "\n",
    "- sg.Button()\n",
    "    - Pre-made buttons (function names match button text and params set to commonly used values) \n",
    "        - sg.OK()\n",
    "        - sg.Ok()\n",
    "        - sg.Submit()\n",
    "        - sg.Cancel()\n",
    "        - sg.Yes()\n",
    "        - sg.No()\n",
    "        - sg.Exit()\n",
    "        - sg.Quit()\n",
    "        - sg.Help()\n",
    "        - sg.Save()\n",
    "        - sg.SaveAs()\n",
    "        - sg.Open()"
   ]
  },
  {
   "cell_type": "code",
   "execution_count": null,
   "metadata": {},
   "outputs": [],
   "source": [
    "sg.FileBrowse()"
   ]
  },
  {
   "cell_type": "markdown",
   "metadata": {},
   "source": [
    "- sg.ChangeLookAndFeel()"
   ]
  },
  {
   "cell_type": "code",
   "execution_count": null,
   "metadata": {},
   "outputs": [],
   "source": [
    "sg.FileSaveAs()"
   ]
  },
  {
   "cell_type": "code",
   "execution_count": 6,
   "metadata": {
    "ExecuteTime": {
     "end_time": "2019-10-16T19:39:01.717085Z",
     "start_time": "2019-10-16T19:39:01.696095Z"
    }
   },
   "outputs": [
    {
     "ename": "TypeError",
     "evalue": "__init__() missing 1 required positional argument: 'values'",
     "output_type": "error",
     "traceback": [
      "\u001b[1;31m---------------------------------------------------------------------------\u001b[0m",
      "\u001b[1;31mTypeError\u001b[0m                                 Traceback (most recent call last)",
      "\u001b[1;32m<ipython-input-6-c3f62841a7da>\u001b[0m in \u001b[0;36m<module>\u001b[1;34m\u001b[0m\n\u001b[0;32m     13\u001b[0m     \u001b[1;33m[\u001b[0m\u001b[0msg\u001b[0m\u001b[1;33m.\u001b[0m\u001b[0mCheckbox\u001b[0m\u001b[1;33m(\u001b[0m\u001b[1;34m'This is a Checkbox'\u001b[0m\u001b[1;33m)\u001b[0m\u001b[1;33m]\u001b[0m\u001b[1;33m,\u001b[0m\u001b[1;33m\u001b[0m\u001b[1;33m\u001b[0m\u001b[0m\n\u001b[0;32m     14\u001b[0m     \u001b[1;33m[\u001b[0m\u001b[0msg\u001b[0m\u001b[1;33m.\u001b[0m\u001b[0mMultiline\u001b[0m\u001b[1;33m(\u001b[0m\u001b[1;34m'random'\u001b[0m\u001b[1;33m)\u001b[0m\u001b[1;33m]\u001b[0m\u001b[1;33m,\u001b[0m\u001b[1;33m\u001b[0m\u001b[1;33m\u001b[0m\u001b[0m\n\u001b[1;32m---> 15\u001b[1;33m     \u001b[1;33m[\u001b[0m\u001b[0msg\u001b[0m\u001b[1;33m.\u001b[0m\u001b[0mTable\u001b[0m\u001b[1;33m(\u001b[0m\u001b[1;33m)\u001b[0m\u001b[1;33m]\u001b[0m\u001b[1;33m,\u001b[0m\u001b[1;33m\u001b[0m\u001b[1;33m\u001b[0m\u001b[0m\n\u001b[0m\u001b[0;32m     16\u001b[0m     \u001b[1;33m[\u001b[0m\u001b[0msg\u001b[0m\u001b[1;33m.\u001b[0m\u001b[0mButton\u001b[0m\u001b[1;33m(\u001b[0m\u001b[1;34m'dont press this button yabish'\u001b[0m\u001b[1;33m)\u001b[0m\u001b[1;33m]\u001b[0m\u001b[1;33m,\u001b[0m\u001b[1;33m\u001b[0m\u001b[1;33m\u001b[0m\u001b[0m\n\u001b[0;32m     17\u001b[0m \u001b[1;33m\u001b[0m\u001b[0m\n",
      "\u001b[1;31mTypeError\u001b[0m: __init__() missing 1 required positional argument: 'values'"
     ]
    }
   ],
   "source": [
    "import PySimpleGUI as sg\n",
    "# Syntax\n",
    "\n",
    "# Make layout variable which should be list of lists, each representing a horizontal line in gui\n",
    "# and containing gui element classes\n",
    "layout = [\n",
    "    [sg.Text('This is Text Input')],\n",
    "    [sg.Input(key='Input')],\n",
    "    [sg.Text('This is a File Dialog')],\n",
    "    [sg.Input(), sg.FileBrowse()],\n",
    "    [sg.Text('This is a Folder Dialog')],\n",
    "    [sg.Input(), sg.FolderBrowse()],\n",
    "    [sg.Checkbox('This is a Checkbox')],\n",
    "    [sg.Multiline('random')],\n",
    "    [sg.Table()],\n",
    "    [sg.Button('dont press this button yabish')],\n",
    "    \n",
    "]\n",
    "\n",
    "# Instantiate window class and pass string for window name and layout variable\n",
    "window = sg.Window('Window Name', layout)\n",
    "\n",
    "# window.Read() returns \n",
    "window.Read()"
   ]
  },
  {
   "cell_type": "code",
   "execution_count": 6,
   "metadata": {
    "ExecuteTime": {
     "end_time": "2019-10-16T07:43:12.236798Z",
     "start_time": "2019-10-16T07:43:01.338064Z"
    }
   },
   "outputs": [],
   "source": [
    "# progress bar example\n",
    "import PySimpleGUI as sg\n",
    "\n",
    "# layout the window\n",
    "layout = [[sg.Text('A custom progress meter')],\n",
    "          [sg.ProgressBar(10000, orientation='h', size=(20, 20), key='progressbar')],\n",
    "          [sg.Cancel()]]\n",
    "\n",
    "# create the window`\n",
    "window = sg.Window('Custom Progress Meter', layout)\n",
    "progress_bar = window.FindElement('progressbar')\n",
    "# loop that would normally do something useful\n",
    "for i in range(10000):\n",
    "    # check to see if the cancel button was clicked and exit loop if clicked\n",
    "    event, values = window.Read(timeout=0)\n",
    "    \n",
    "    if event == 'Cancel'  or event is None:\n",
    "        break\n",
    "    # update bar with loop value +1 so that bar eventually reaches the maximum\n",
    "    progress_bar.UpdateBar(i + 1)\n",
    "# done with loop... need to destroy the window as it's still open\n",
    "window.Close()"
   ]
  },
  {
   "cell_type": "code",
   "execution_count": null,
   "metadata": {},
   "outputs": [],
   "source": [
    "def gui_window():\n",
    "    layout = [\n",
    "        [sg.Text('TV Model')],\n",
    "        [sg.Input()],\n",
    "        [sg.Text('Test Data File')],\n",
    "        [sg.Input(), sg.FileBrowse()],\n",
    "        [sg.Text('Test Sequence File')],\n",
    "        [sg.Input(), sg.FileBrowse()],\n",
    "        [sg.Text('Destination Folder')],\n",
    "        [sg.Input(), sg.FolderBrowse()],\n",
    "        [sg.Checkbox('Open File on Completion')],\n",
    "        [sg.Submit()]\n",
    "    ]\n",
    "    window = sg.Window('File Selection', layout)\n",
    "    _, values = window.Read()\n",
    "    window.close()\n",
    "    return values"
   ]
  },
  {
   "cell_type": "code",
   "execution_count": 7,
   "metadata": {
    "ExecuteTime": {
     "end_time": "2019-10-16T08:01:17.003073Z",
     "start_time": "2019-10-16T07:50:09.325496Z"
    }
   },
   "outputs": [],
   "source": [
    "import PySimpleGUI as sg\n",
    "\n",
    "sg.ChangeLookAndFeel('GreenTan')\n",
    "\n",
    "# ------ Menu Definition ------ #\n",
    "menu_def = [['&File', ['&Open', '&Save', 'E&xit', 'Properties']],\n",
    "            ['&Edit', ['Paste', ['Special', 'Normal', ], 'Undo'], ],\n",
    "            ['&Help', '&About...'], ]\n",
    "\n",
    "# ------ Column Definition ------ #\n",
    "column1 = [[sg.Text('Column 1', background_color='lightblue', justification='center', size=(10, 1))],\n",
    "           [sg.Spin(values=('Spin Box 1', '2', '3'), initial_value='Spin Box 1')],\n",
    "           [sg.Spin(values=('Spin Box 1', '2', '3'), initial_value='Spin Box 2')],\n",
    "           [sg.Spin(values=('Spin Box 1', '2', '3'), initial_value='Spin Box 3')]]\n",
    "\n",
    "layout = [\n",
    "    [sg.Menu(menu_def, tearoff=True)],\n",
    "    [sg.Text('(Almost) All widgets in one Window!', size=(30, 1), justification='center', font=(\"Helvetica\", 25), relief=sg.RELIEF_RIDGE)],\n",
    "    [sg.Text('Here is some text.... and a place to enter text')],\n",
    "    [sg.InputText('This is my text')],\n",
    "    [sg.Frame(layout=[\n",
    "    [sg.Checkbox('Checkbox', size=(10,1)),  sg.Checkbox('My second checkbox!', default=True)],\n",
    "    [sg.Radio('My first Radio!     ', \"RADIO1\", default=True, size=(10,1)), sg.Radio('My second Radio!', \"RADIO1\")]], title='Options',title_color='red', relief=sg.RELIEF_SUNKEN, tooltip='Use these to set flags')],\n",
    "    [sg.Multiline(default_text='This is the default Text should you decide not to type anything', size=(35, 3)),\n",
    "     sg.Multiline(default_text='A second multi-line', size=(35, 3))],\n",
    "    [sg.InputCombo(('Combobox 1', 'Combobox 2'), size=(20, 1)),\n",
    "     sg.Slider(range=(1, 100), orientation='h', size=(34, 20), default_value=85)],\n",
    "    [sg.InputOptionMenu(('Menu Option 1', 'Menu Option 2', 'Menu Option 3'))],\n",
    "    [sg.Listbox(values=('Listbox 1', 'Listbox 2', 'Listbox 3'), size=(30, 3)),\n",
    "     sg.Frame('Labelled Group',[[\n",
    "     sg.Slider(range=(1, 100), orientation='v', size=(5, 20), default_value=25, tick_interval=25),\n",
    "     sg.Slider(range=(1, 100), orientation='v', size=(5, 20), default_value=75),\n",
    "     sg.Slider(range=(1, 100), orientation='v', size=(5, 20), default_value=10),\n",
    "     sg.Column(column1, background_color='lightblue')]])],\n",
    "    [sg.Text('_' * 80)],\n",
    "    [sg.Text('Choose A Folder', size=(35, 1))],\n",
    "    [sg.Text('Your Folder', size=(15, 1), auto_size_text=False, justification='right'),\n",
    "     sg.InputText('Default Folder'), sg.FolderBrowse()],\n",
    "    [sg.Submit(tooltip='Click to submit this form'), sg.Cancel()]]\n",
    "\n",
    "window = sg.Window('Everything bagel', layout, default_element_size=(40, 1), grab_anywhere=False)\n",
    "event, values = window.Read()\n",
    "\n",
    "sg.Popup('Title',\n",
    "         'The results of the window.',\n",
    "         'The button clicked was \"{}\"'.format(event),\n",
    "         'The values are', values)\n"
   ]
  },
  {
   "cell_type": "code",
   "execution_count": 45,
   "metadata": {
    "ExecuteTime": {
     "end_time": "2019-10-16T08:21:59.612697Z",
     "start_time": "2019-10-16T08:21:32.112332Z"
    }
   },
   "outputs": [
    {
     "ename": "PermissionError",
     "evalue": "[WinError 5] Access is denied: 'C:/Users/Toshiba P55w/Documents\\\\My Music'",
     "output_type": "error",
     "traceback": [
      "\u001b[1;31m---------------------------------------------------------------------------\u001b[0m",
      "\u001b[1;31mPermissionError\u001b[0m                           Traceback (most recent call last)",
      "\u001b[1;32m<ipython-input-45-61676f23ff71>\u001b[0m in \u001b[0;36m<module>\u001b[1;34m\u001b[0m\n\u001b[0;32m     25\u001b[0m             \u001b[0mtreedata\u001b[0m\u001b[1;33m.\u001b[0m\u001b[0mInsert\u001b[0m\u001b[1;33m(\u001b[0m\u001b[0mparent\u001b[0m\u001b[1;33m,\u001b[0m \u001b[0mfullname\u001b[0m\u001b[1;33m,\u001b[0m \u001b[0mf\u001b[0m\u001b[1;33m,\u001b[0m \u001b[0mvalues\u001b[0m\u001b[1;33m=\u001b[0m\u001b[1;33m[\u001b[0m\u001b[1;33m]\u001b[0m\u001b[1;33m,\u001b[0m \u001b[0micon\u001b[0m\u001b[1;33m=\u001b[0m\u001b[1;34mr'C:\\Python\\PycharmProjects\\GooeyGUI\\ButtonGraphics\\base64\\newfile_1.png'\u001b[0m\u001b[1;33m)\u001b[0m\u001b[1;33m\u001b[0m\u001b[1;33m\u001b[0m\u001b[0m\n\u001b[0;32m     26\u001b[0m \u001b[1;33m\u001b[0m\u001b[0m\n\u001b[1;32m---> 27\u001b[1;33m \u001b[0madd_files_in_folder\u001b[0m\u001b[1;33m(\u001b[0m\u001b[1;34m''\u001b[0m\u001b[1;33m,\u001b[0m \u001b[0mSTARTING_PATH\u001b[0m\u001b[1;33m)\u001b[0m\u001b[1;33m\u001b[0m\u001b[1;33m\u001b[0m\u001b[0m\n\u001b[0m\u001b[0;32m     28\u001b[0m \u001b[1;33m\u001b[0m\u001b[0m\n\u001b[0;32m     29\u001b[0m \u001b[1;33m\u001b[0m\u001b[0m\n",
      "\u001b[1;32m<ipython-input-45-61676f23ff71>\u001b[0m in \u001b[0;36madd_files_in_folder\u001b[1;34m(parent, dirname)\u001b[0m\n\u001b[0;32m     21\u001b[0m         \u001b[1;32mif\u001b[0m \u001b[0mos\u001b[0m\u001b[1;33m.\u001b[0m\u001b[0mpath\u001b[0m\u001b[1;33m.\u001b[0m\u001b[0misdir\u001b[0m\u001b[1;33m(\u001b[0m\u001b[0mfullname\u001b[0m\u001b[1;33m)\u001b[0m\u001b[1;33m:\u001b[0m            \u001b[1;31m# if it's a folder, add folder and recurse\u001b[0m\u001b[1;33m\u001b[0m\u001b[1;33m\u001b[0m\u001b[0m\n\u001b[0;32m     22\u001b[0m             \u001b[0mtreedata\u001b[0m\u001b[1;33m.\u001b[0m\u001b[0mInsert\u001b[0m\u001b[1;33m(\u001b[0m\u001b[0mparent\u001b[0m\u001b[1;33m,\u001b[0m \u001b[0mfullname\u001b[0m\u001b[1;33m,\u001b[0m \u001b[0mf\u001b[0m\u001b[1;33m,\u001b[0m \u001b[0mvalues\u001b[0m\u001b[1;33m=\u001b[0m\u001b[1;33m[\u001b[0m\u001b[1;33m]\u001b[0m\u001b[1;33m,\u001b[0m \u001b[0micon\u001b[0m\u001b[1;33m=\u001b[0m\u001b[1;34mr'C:\\Python\\PycharmProjects\\GooeyGUI\\ButtonGraphics\\base64\\folder_1.png'\u001b[0m\u001b[1;33m)\u001b[0m\u001b[1;33m\u001b[0m\u001b[1;33m\u001b[0m\u001b[0m\n\u001b[1;32m---> 23\u001b[1;33m             \u001b[0madd_files_in_folder\u001b[0m\u001b[1;33m(\u001b[0m\u001b[0mfullname\u001b[0m\u001b[1;33m,\u001b[0m \u001b[0mfullname\u001b[0m\u001b[1;33m)\u001b[0m\u001b[1;33m\u001b[0m\u001b[1;33m\u001b[0m\u001b[0m\n\u001b[0m\u001b[0;32m     24\u001b[0m         \u001b[1;32melse\u001b[0m\u001b[1;33m:\u001b[0m\u001b[1;33m\u001b[0m\u001b[1;33m\u001b[0m\u001b[0m\n\u001b[0;32m     25\u001b[0m             \u001b[0mtreedata\u001b[0m\u001b[1;33m.\u001b[0m\u001b[0mInsert\u001b[0m\u001b[1;33m(\u001b[0m\u001b[0mparent\u001b[0m\u001b[1;33m,\u001b[0m \u001b[0mfullname\u001b[0m\u001b[1;33m,\u001b[0m \u001b[0mf\u001b[0m\u001b[1;33m,\u001b[0m \u001b[0mvalues\u001b[0m\u001b[1;33m=\u001b[0m\u001b[1;33m[\u001b[0m\u001b[1;33m]\u001b[0m\u001b[1;33m,\u001b[0m \u001b[0micon\u001b[0m\u001b[1;33m=\u001b[0m\u001b[1;34mr'C:\\Python\\PycharmProjects\\GooeyGUI\\ButtonGraphics\\base64\\newfile_1.png'\u001b[0m\u001b[1;33m)\u001b[0m\u001b[1;33m\u001b[0m\u001b[1;33m\u001b[0m\u001b[0m\n",
      "\u001b[1;32m<ipython-input-45-61676f23ff71>\u001b[0m in \u001b[0;36madd_files_in_folder\u001b[1;34m(parent, dirname)\u001b[0m\n\u001b[0;32m     16\u001b[0m \u001b[1;33m\u001b[0m\u001b[0m\n\u001b[0;32m     17\u001b[0m \u001b[1;32mdef\u001b[0m \u001b[0madd_files_in_folder\u001b[0m\u001b[1;33m(\u001b[0m\u001b[0mparent\u001b[0m\u001b[1;33m,\u001b[0m \u001b[0mdirname\u001b[0m\u001b[1;33m)\u001b[0m\u001b[1;33m:\u001b[0m\u001b[1;33m\u001b[0m\u001b[1;33m\u001b[0m\u001b[0m\n\u001b[1;32m---> 18\u001b[1;33m     \u001b[0mfiles\u001b[0m \u001b[1;33m=\u001b[0m \u001b[0mos\u001b[0m\u001b[1;33m.\u001b[0m\u001b[0mlistdir\u001b[0m\u001b[1;33m(\u001b[0m\u001b[0mdirname\u001b[0m\u001b[1;33m)\u001b[0m\u001b[1;33m\u001b[0m\u001b[1;33m\u001b[0m\u001b[0m\n\u001b[0m\u001b[0;32m     19\u001b[0m     \u001b[1;32mfor\u001b[0m \u001b[0mf\u001b[0m \u001b[1;32min\u001b[0m \u001b[0mfiles\u001b[0m\u001b[1;33m:\u001b[0m\u001b[1;33m\u001b[0m\u001b[1;33m\u001b[0m\u001b[0m\n\u001b[0;32m     20\u001b[0m         \u001b[0mfullname\u001b[0m \u001b[1;33m=\u001b[0m \u001b[0mos\u001b[0m\u001b[1;33m.\u001b[0m\u001b[0mpath\u001b[0m\u001b[1;33m.\u001b[0m\u001b[0mjoin\u001b[0m\u001b[1;33m(\u001b[0m\u001b[0mdirname\u001b[0m\u001b[1;33m,\u001b[0m\u001b[0mf\u001b[0m\u001b[1;33m)\u001b[0m\u001b[1;33m\u001b[0m\u001b[1;33m\u001b[0m\u001b[0m\n",
      "\u001b[1;31mPermissionError\u001b[0m: [WinError 5] Access is denied: 'C:/Users/Toshiba P55w/Documents\\\\My Music'"
     ]
    }
   ],
   "source": [
    "#!/usr/bin/env python\n",
    "import sys\n",
    "import os\n",
    "if sys.version_info[0] >= 3:\n",
    "    import PySimpleGUI as sg\n",
    "else:\n",
    "    import PySimpleGUI27 as sg\n",
    "\n",
    "folder_icon = b'iVBORw0KGgoAAAANSUhEUgAAABAAAAAQCAYAAAAf8/9hAAAACXBIWXMAAAsSAAALEgHS3X78AAABnUlEQVQ4y8WSv2rUQRSFv7vZgJFFsQg2EkWb4AvEJ8hqKVilSmFn3iNvIAp21oIW9haihBRKiqwElMVsIJjNrprsOr/5dyzml3UhEQIWHhjmcpn7zblw4B9lJ8Xag9mlmQb3AJzX3tOX8Tngzg349q7t5xcfzpKGhOFHnjx+9qLTzW8wsmFTL2Gzk7Y2O/k9kCbtwUZbV+Zvo8Md3PALrjoiqsKSR9ljpAJpwOsNtlfXfRvoNU8Arr/NsVo0ry5z4dZN5hoGqEzYDChBOoKwS/vSq0XW3y5NAI/uN1cvLqzQur4MCpBGEEd1PQDfQ74HYR+LfeQOAOYAmgAmbly+dgfid5CHPIKqC74L8RDyGPIYy7+QQjFWa7ICsQ8SpB/IfcJSDVMAJUwJkYDMNOEPIBxA/gnuMyYPijXAI3lMse7FGnIKsIuqrxgRSeXOoYZUCI8pIKW/OHA7kD2YYcpAKgM5ABXk4qSsdJaDOMCsgTIYAlL5TQFTyUIZDmev0N/bnwqnylEBQS45UKnHx/lUlFvA3fo+jwR8ALb47/oNma38cuqiJ9AAAAAASUVORK5CYII='\n",
    "\n",
    "file_icon = b'iVBORw0KGgoAAAANSUhEUgAAABAAAAAQCAYAAAAf8/9hAAAACXBIWXMAAAsSAAALEgHS3X78AAABU0lEQVQ4y52TzStEURiHn/ecc6XG54JSdlMkNhYWsiILS0lsJaUsLW2Mv8CfIDtr2VtbY4GUEvmIZnKbZsY977Uwt2HcyW1+dTZvt6fn9557BGB+aaNQKBR2ifkbgWR+cX13ubO1svz++niVTA1ArDHDg91UahHFsMxbKWycYsjze4muTsP64vT43v7hSf/A0FgdjQPQWAmco68nB+T+SFSqNUQgcIbN1bn8Z3RwvL22MAvcu8TACFgrpMVZ4aUYcn77BMDkxGgemAGOHIBXxRjBWZMKoCPA2h6qEUSRR2MF6GxUUMUaIUgBCNTnAcm3H2G5YQfgvccYIXAtDH7FoKq/AaqKlbrBj2trFVXfBPAea4SOIIsBeN9kkCwxsNkAqRWy7+B7Z00G3xVc2wZeMSI4S7sVYkSk5Z/4PyBWROqvox3A28PN2cjUwinQC9QyckKALxj4kv2auK0xAAAAAElFTkSuQmCC'\n",
    "\n",
    "STARTING_PATH = sg.PopupGetFolder('Folder to display')\n",
    "\n",
    "treedata = sg.TreeData()\n",
    "\n",
    "def add_files_in_folder(parent, dirname):\n",
    "    files = os.listdir(dirname)\n",
    "    for f in files:\n",
    "        fullname = os.path.join(dirname,f)\n",
    "        if os.path.isdir(fullname):            # if it's a folder, add folder and recurse\n",
    "            treedata.Insert(parent, fullname, f, values=[], icon=r'C:\\Python\\PycharmProjects\\GooeyGUI\\ButtonGraphics\\base64\\folder_1.png')\n",
    "            add_files_in_folder(fullname, fullname)\n",
    "        else:\n",
    "            treedata.Insert(parent, fullname, f, values=[], icon=r'C:\\Python\\PycharmProjects\\GooeyGUI\\ButtonGraphics\\base64\\newfile_1.png')\n",
    "\n",
    "add_files_in_folder('', STARTING_PATH)\n",
    "\n",
    "\n",
    "layout = [[ sg.Text('File and folder browser Test') ],\n",
    "          [ sg.Tree(data=treedata, headings=['col1', 'col2', 'col3'], auto_size_columns=True, num_rows=20, col0_width=30, key='_TREE_', show_expanded=False,),\n",
    "            ],\n",
    "          [ sg.Button('Ok'), sg.Button('Cancel')]]\n",
    "\n",
    "window = sg.Window('Tree Element Test').Layout(layout)\n",
    "\n",
    "\n",
    "while True:     # Event Loop\n",
    "    event, values = window.Read()\n",
    "    if event in (None, 'Cancel'):\n",
    "        break\n",
    "    print(event, values)"
   ]
  },
  {
   "cell_type": "code",
   "execution_count": 7,
   "metadata": {
    "ExecuteTime": {
     "end_time": "2019-10-16T19:59:41.118407Z",
     "start_time": "2019-10-16T19:40:40.804189Z"
    }
   },
   "outputs": [
    {
     "ename": "SystemExit",
     "evalue": "69",
     "output_type": "error",
     "traceback": [
      "An exception has occurred, use %tb to see the full traceback.\n",
      "\u001b[1;31mSystemExit\u001b[0m\u001b[1;31m:\u001b[0m 69\n"
     ]
    },
    {
     "name": "stderr",
     "output_type": "stream",
     "text": [
      "c:\\python37\\lib\\site-packages\\IPython\\core\\interactiveshell.py:3275: UserWarning: To exit: use 'exit', 'quit', or Ctrl-D.\n",
      "  warn(\"To exit: use 'exit', 'quit', or Ctrl-D.\", stacklevel=1)\n",
      "Exception ignored in: <function Variable.__del__ at 0x0000021093969840>\n",
      "Traceback (most recent call last):\n",
      "  File \"c:\\python37\\lib\\tkinter\\__init__.py\", line 332, in __del__\n",
      "    if self._tk.getboolean(self._tk.call(\"info\", \"exists\", self._name)):\n",
      "RuntimeError: main thread is not in main loop\n",
      "Exception ignored in: <function Variable.__del__ at 0x0000021093969840>\n",
      "Traceback (most recent call last):\n",
      "  File \"c:\\python37\\lib\\tkinter\\__init__.py\", line 332, in __del__\n",
      "    if self._tk.getboolean(self._tk.call(\"info\", \"exists\", self._name)):\n",
      "RuntimeError: main thread is not in main loop\n",
      "Exception ignored in: <function Variable.__del__ at 0x0000021093969840>\n",
      "Traceback (most recent call last):\n",
      "  File \"c:\\python37\\lib\\tkinter\\__init__.py\", line 332, in __del__\n",
      "    if self._tk.getboolean(self._tk.call(\"info\", \"exists\", self._name)):\n",
      "RuntimeError: main thread is not in main loop\n",
      "Exception ignored in: <function Image.__del__ at 0x00000210939A3840>\n",
      "Traceback (most recent call last):\n",
      "  File \"c:\\python37\\lib\\tkinter\\__init__.py\", line 3507, in __del__\n",
      "    self.tk.call('image', 'delete', self.name)\n",
      "RuntimeError: main thread is not in main loop\n"
     ]
    }
   ],
   "source": [
    "# table example\n",
    "#!/usr/bin/env python\n",
    "import sys\n",
    "if sys.version_info[0] >= 3:\n",
    "    import PySimpleGUI as sg\n",
    "else:\n",
    "    import PySimpleGUI27 as sg\n",
    "import csv\n",
    "\n",
    "def table_example():\n",
    "    filename = sg.PopupGetFile('filename to open', no_window=True, file_types=((\"CSV Files\",\"*.csv\"),))\n",
    "    # --- populate table with file contents --- #\n",
    "    if filename == '':\n",
    "        sys.exit(69)\n",
    "    data = []\n",
    "    header_list = []\n",
    "    button = sg.PopupYesNo('Does this file have column names already?')\n",
    "    if filename is not None:\n",
    "        with open(filename, \"r\") as infile:\n",
    "            reader = csv.reader(infile)\n",
    "            if button == 'Yes':\n",
    "                header_list = next(reader)\n",
    "            try:\n",
    "                data = list(reader)  # read everything else into a list of rows\n",
    "                if button == 'No':\n",
    "                    header_list = ['column' + str(x) for x in range(len(data[0]))]\n",
    "            except:\n",
    "                sg.PopupError('Error reading file')\n",
    "                sys.exit(69)\n",
    "    sg.SetOptions(element_padding=(0, 0))\n",
    "\n",
    "    layout = [[sg.Table(values=data,\n",
    "                            headings=header_list,\n",
    "                            max_col_width=25,\n",
    "                            auto_size_columns=True,\n",
    "                            justification='right',\n",
    "                            alternating_row_color='lightblue',\n",
    "                            num_rows=min(len(data), 20))]]\n",
    "\n",
    "\n",
    "    window = sg.Window('Table', grab_anywhere=False).Layout(layout)\n",
    "    event, values = window.Read()\n",
    "\n",
    "    sys.exit(69)\n",
    "\n",
    "table_example()"
   ]
  },
  {
   "cell_type": "code",
   "execution_count": 10,
   "metadata": {
    "ExecuteTime": {
     "end_time": "2019-10-16T20:03:19.744000Z",
     "start_time": "2019-10-16T20:03:10.277322Z"
    }
   },
   "outputs": [
    {
     "name": "stderr",
     "output_type": "stream",
     "text": [
      "c:\\python37\\lib\\site-packages\\PySimpleGUI\\PySimpleGUI.py:5124: UserWarning: Your title is not a string.  Are you passing in the right parameters?\n",
      "  warnings.warn('Your title is not a string.  Are you passing in the right parameters?', UserWarning)\n"
     ]
    },
    {
     "data": {
      "text/plain": [
       "'OK'"
      ]
     },
     "execution_count": 10,
     "metadata": {},
     "output_type": "execute_result"
    }
   ],
   "source": [
    "import PySimpleGUI as sg\n",
    "\n",
    "# Demo of how columns work\n",
    "# window has on row 1 a vertical slider followed by a COLUMN with 7 rows\n",
    "# Prior to the Column element, this layout was not possible\n",
    "# Columns layouts look identical to window layouts, they are a list of lists of elements.\n",
    "\n",
    "window = sg.Window('Columns')                                   # blank window\n",
    "\n",
    "# Column layout\n",
    "col = [[sg.Text('col Row 1')],\n",
    "       [sg.Text('col Row 2'), sg.Input('col input 1')],\n",
    "       [sg.Text('col Row 3'), sg.Input('col input 2')],\n",
    "       [sg.Text('col Row 4'), sg.Input('col input 3')],\n",
    "       [sg.Text('col Row 5'), sg.Input('col input 4')],\n",
    "       [sg.Text('col Row 6'), sg.Input('col input 5')],\n",
    "       [sg.Text('col Row 7'), sg.Input('col input 6')]]\n",
    "\n",
    "layout = [[sg.Slider(range=(1,100), default_value=10, orientation='v', size=(8,20)), sg.Column(col)],\n",
    "          [sg.In('Last input')],\n",
    "          [sg.OK()]]\n",
    "\n",
    "# Display the window and get values\n",
    "\n",
    "window = sg.Window('Compact 1-line window with column', layout)\n",
    "event, values = window.Read()\n",
    "window.Close()\n",
    "\n",
    "sg.Popup(event, values, line_width=200)\n"
   ]
  },
  {
   "cell_type": "code",
   "execution_count": null,
   "metadata": {},
   "outputs": [],
   "source": [
    "sg.Graph()"
   ]
  },
  {
   "cell_type": "code",
   "execution_count": 4,
   "metadata": {
    "ExecuteTime": {
     "end_time": "2019-10-17T04:25:13.909276Z",
     "start_time": "2019-10-17T04:24:01.366646Z"
    }
   },
   "outputs": [],
   "source": [
    "# graph element example\n",
    "\n",
    "import PySimpleGUI as sg\n",
    "import random\n",
    "\n",
    "BAR_WIDTH = 50\n",
    "BAR_SPACING = 75\n",
    "EDGE_OFFSET = 3\n",
    "GRAPH_SIZE = (500,500)\n",
    "DATA_SIZE = (500,500)\n",
    "\n",
    "graph = sg.Graph(GRAPH_SIZE, (0,0), DATA_SIZE)\n",
    "\n",
    "layout = [[sg.Text('Bar graphs using PySimpleGUI')],\n",
    "          [graph],\n",
    "          [sg.Button('OK')]]\n",
    "\n",
    "window = sg.Window('Window Title', layout)\n",
    "\n",
    "while True:\n",
    "    event, values = window.Read()\n",
    "    graph.Erase()\n",
    "    if event is None:\n",
    "        break\n",
    "\n",
    "    for i in range(7):\n",
    "        graph_value = random.randint(0, 400)\n",
    "        graph.DrawRectangle(top_left=(i * BAR_SPACING + EDGE_OFFSET, graph_value),\n",
    "                            bottom_right=(i * BAR_SPACING + EDGE_OFFSET + BAR_WIDTH, 0), fill_color='blue')\n",
    "        graph.DrawText(text=graph_value, location=(i*BAR_SPACING+EDGE_OFFSET+25, graph_value+10))\n",
    "window.Close()"
   ]
  },
  {
   "cell_type": "code",
   "execution_count": 5,
   "metadata": {
    "ExecuteTime": {
     "end_time": "2019-10-17T04:28:20.981646Z",
     "start_time": "2019-10-17T04:27:37.797853Z"
    }
   },
   "outputs": [
    {
     "name": "stdout",
     "output_type": "stream",
     "text": [
      "Add {0: 'd', '_IN2_': '', 1: '', '_PANE_': None, '_IN3_': ''}\n",
      "Add {0: 'd', '_IN2_': '', 1: '', '_PANE_': None, '_IN3_': ''}\n",
      "Add {0: 'd', '_IN2_': '', 1: '', '_PANE_': None, '_IN3_': ''}\n",
      "Add {0: 'd', '_IN2_': '', 1: '', '_PANE_': None, '_IN3_': ''}\n",
      "Add {0: 'd', '_IN2_': '', 1: '', '_PANE_': None, '_IN3_': ''}\n",
      "None None\n"
     ]
    }
   ],
   "source": [
    "# Pane example\n",
    "import PySimpleGUI as sg\n",
    "\n",
    "sg.ChangeLookAndFeel('GreenTan')\n",
    "\n",
    "col1 = sg.Column([[sg.Text('in pane1', text_color='blue')],\n",
    "                  [sg.T('Pane1')],\n",
    "                  [sg.T('Pane1')],\n",
    "                  ])\n",
    "col2 = sg.Column([[sg.Text('in pane2', text_color='red')],\n",
    "                  [sg.T('Pane2')],\n",
    "                  [sg.Input(key='_IN2_', do_not_clear=True)],\n",
    "                  [sg.T('Pane2')],\n",
    "                  [sg.T('Pane2')],\n",
    "                  ], key='_COL2_', visible=False)\n",
    "col3 = sg.Column([[sg.Text('in pane 4', text_color='green')],\n",
    "                  [sg.In(key='_IN3_', enable_events=True, do_not_clear=True)],\n",
    "                  ], key='_COL3_', visible=False)\n",
    "col4 = sg.Column([[sg.Text('Column 4', text_color='firebrick')],\n",
    "                  [sg.In()],\n",
    "                  ], key='_COL4_')\n",
    "col5 = sg.Column([[sg.Frame('Frame', [[sg.Text('Column 5', text_color='purple')],\n",
    "                  [sg.In()],\n",
    "                  ])]])\n",
    "\n",
    "layout = [ [sg.Text('Click'), sg.Text('', key='_OUTPUT_')],\n",
    "           [sg.Button('Remove'), sg.Button('Add')],\n",
    "           [sg.Pane([col5, sg.Column([[sg.Pane([col1, col2, col4], handle_size=15, orientation='v',  background_color='red', show_handle=True, visible=True, key='_PANE_', border_width=0,  relief=sg.RELIEF_GROOVE),]]),col3 ], orientation='h', background_color=None, size=(160,160), relief=sg.RELIEF_RAISED, border_width=0)]\n",
    "        ]\n",
    "\n",
    "window = sg.Window('Window Title', default_element_size=(15,1), resizable=True, border_depth=5).Layout(layout)\n",
    "\n",
    "while True:             # Event Loop\n",
    "    event, values = window.Read()\n",
    "    print(event, values)\n",
    "    if event is None or event == 'Exit':\n",
    "        break\n",
    "    if event == 'Remove':\n",
    "        window.Element('_COL2_').Update(visible=False)\n",
    "        window.Element('_COL3_').Update(visible=False)\n",
    "    elif event == 'Add':\n",
    "        window.Element('_COL2_').Update(visible=True)\n",
    "        window.Element('_COL3_').Update(visible=True)\n",
    "    window.Element('_IN2_').Update(values['_IN3_'])\n",
    "\n",
    "window.Close()"
   ]
  }
 ],
 "metadata": {
  "kernelspec": {
   "display_name": "Python 3",
   "language": "python",
   "name": "python3"
  },
  "language_info": {
   "codemirror_mode": {
    "name": "ipython",
    "version": 3
   },
   "file_extension": ".py",
   "mimetype": "text/x-python",
   "name": "python",
   "nbconvert_exporter": "python",
   "pygments_lexer": "ipython3",
   "version": "3.7.1"
  },
  "toc": {
   "base_numbering": 1,
   "nav_menu": {},
   "number_sections": true,
   "sideBar": true,
   "skip_h1_title": false,
   "title_cell": "Table of Contents",
   "title_sidebar": "Contents",
   "toc_cell": false,
   "toc_position": {},
   "toc_section_display": true,
   "toc_window_display": false
  }
 },
 "nbformat": 4,
 "nbformat_minor": 2
}
