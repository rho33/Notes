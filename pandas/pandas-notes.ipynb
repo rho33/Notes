{
 "cells": [
  {
   "cell_type": "markdown",
   "metadata": {},
   "source": [
    "TODO:\n",
    "Formats:\n",
    "- excel\n",
    "- JSON\n",
    "- SQL\n",
    "\n",
    "then call it good"
   ]
  },
  {
   "cell_type": "markdown",
   "metadata": {},
   "source": [
    "pandas categories\n",
    "- reading/writing data 1\n",
    "- column transformations 2\n",
    "    - apply\n",
    "    - string methods https://pandas.pydata.org/pandas-docs/stable/user_guide/text.html\n",
    "- corr,transposing, reshaping 2\n",
    "- merging/joining 2, 3\n",
    "- selecting columns/rows 4\n",
    "- masking/boolean indexing/ queries 4\n",
    "- multi index/ reindex 5\n",
    "- groupby 3, 6\n",
    "- viewing data (https://pandas.pydata.org/pandas-docs/stable/user_guide/style.html) 4,\n",
    "    - descriptive functions (describe, head, tail...)\n",
    "    - styling\n",
    "        - heatmap, bar chart... background\n",
    "    - rounding\n",
    "- data types (especially dates) 7 \n",
    "- dealing w nulls 2, 8\n",
    "- basic plotting 4, 9\n",
    "- sparse data\n",
    "- pivot tables 4, 9\n",
    "- shallow vs deep copy 10\n",
    "- sampling 4, 11\n",
    "- "
   ]
  },
  {
   "cell_type": "markdown",
   "metadata": {},
   "source": [
    "exploring data\n",
    "creating new data, cleaning,\n",
    "mechanics\n",
    "\n",
    "exploration, manipulation, formatting?\n",
    "\n",
    "exploration, nulls, cleaning, transformations, plotting\n",
    "\n",
    "exploration\n",
    "- de"
   ]
  },
  {
   "cell_type": "markdown",
   "metadata": {},
   "source": [
    "notebooks:\n",
    "- reading/writing\n",
    "- exploration\n",
    "    - descriptive functions\n",
    "    - "
   ]
  },
  {
   "cell_type": "code",
   "execution_count": 4,
   "metadata": {
    "ExecuteTime": {
     "end_time": "2019-10-15T05:46:28.134661Z",
     "start_time": "2019-10-15T05:46:26.963065Z"
    }
   },
   "outputs": [],
   "source": [
    "import pandas as pd"
   ]
  },
  {
   "cell_type": "markdown",
   "metadata": {},
   "source": [
    "# Reading in Data"
   ]
  },
  {
   "cell_type": "markdown",
   "metadata": {},
   "source": [
    "## CSV (Flat Files)"
   ]
  },
  {
   "cell_type": "markdown",
   "metadata": {},
   "source": [
    "pd.read_csv() Arguments:\n",
    "- filepath_or_buffer\n",
    "- sep=','\n",
    "    - if file is tab separated values (.tsv) set to \\t\n",
    "- delimiter=None\n",
    "    - same as sep\n",
    "- header='infer'\n",
    "    - leave on infer most time\n",
    "    - pass None to have columns numbered and first row of data be the first row of df\n",
    "    - if column names passed explicitly thru names kw then header will be set to None\n",
    "    - header=0 denotes the first line of data rather than the first line of the file\n",
    "    - if set to 1 or greater, rows before header will be excluded\n",
    "- names=None\n",
    "    - list of column names to use\n",
    "- index_col=None\n",
    "    - column to use as index. (str or int)\n",
    "    - can pass sequence for multi-indexed df\n",
    "- usecols=None\n",
    "    - pass sequence of col names or ints to get subset of data\n",
    "    - order of sequence ignored\n",
    "- squeeze=False\n",
    "    - if True and data is one column long series is returned instead of df\n",
    "- prefix=None\n",
    "    - adds prefix to column names\n",
    "    - unsure of good use case for this. Could be helpful before combining dfs (merge, append, concat...)\n",
    "- mangle_dupe_cols=True\n",
    "    - renames duplicate columns\n",
    "    - can't set to false yet:\n",
    "        - Value Error: Setting mangle_dupe_cols=False is not supported yet\n",
    "- dtype=None\n",
    "    - single type sets dtype for whole df\n",
    "    - or use dict of column -> type\n",
    "- engine=None\n",
    "    - can set to 'c' or 'python'\n",
    "    - 'c' is faster but some features may be lost\n",
    "    - probably only relevant for very large datasets\n",
    "- converters=None\n",
    "    - dictionary of column->function meant to convert values in certain columns\n",
    "    - seems to pass numeric column values into functions as strings so adjust with type conversion w/in functions\n",
    "- true_values=None\n",
    "    - list of values to consider True\n",
    "    - combo of true_values and false values needs to account for entire column in order to work\n",
    "        - i.e. every value in given column must map to bool else no value will be converted\n",
    "- false_values=None\n",
    "    - see true_values\n",
    "- skipinitialspace=False\n",
    "    - skip spaces after commas (delimiters). \n",
    "    - comparable to string.lstrip()\n",
    "- skiprows=None\n",
    "    - seqeunce of line numbers to skip\n",
    "    - or int of lines to skip at start\n",
    "    - or callable function which takes row index and returns bool\n",
    "- skipfooter \n",
    "    - unsupported w/ engine='c'\n",
    "    - int for bottom lines to skip\n",
    "- nrows=None\n",
    "    - number of rows to read\n",
    "    - useful for large files\n",
    "- na_values=None\n",
    "    - additional values to recognize as NA/NaN\n",
    "    - list, str, or scalar to apply to entire df\n",
    "    - dictionary w/ columns as keys to apply to specific columns\n",
    "- keep_default_na=True\n",
    "    - include default na_values (e.g. blank cell)\n",
    "    - set to false and keep na_values=None to have no NA in df\n",
    "- na_filter=True\n",
    "    - another way to detect/not detect na values\n",
    "    - can set False w/ big data that has no NAs to improve performance\n",
    "- verbose=False\n",
    "    - function appears different from docs\n",
    "    - documentation says: Indicate number of NA values placed in non-numeric columns\n",
    "    - appears to print execution time information\n",
    "- skip_blank_lines=True\n",
    "    - skip blank lines instead of reading as NA\n",
    "- parse_dates=False\n",
    "    - bool - True -> try parsing index\n",
    "    - list of col names or nums to parse\n",
    "    - list of lists to combine cols in inner list and parse as single date column\n",
    "    - dict with lists of cols to combine and parse as vals (e.g. {'foo': [1, 3]} -> parse columns 1, 3 as date and call result ‘foo’)\n",
    "- infer_datetime_format=False\n",
    "- keep_date_col=False\n",
    "- date_parser=None\n",
    "- dayfirst=False\n",
    "- iterator=False\n",
    "- chunksize=None\n",
    "- compression='infer'\n",
    "    - If using ‘zip’, the ZIP file must contain only one data file to be read in\n",
    "- thousands=None\n",
    "    - thoursands separator\n",
    "- decimal=b'.'\n",
    "    - Character to recognize as decimal point. E.g. use ',' for European data.\n",
    "- lineterminator=None\n",
    "    - Character to break file into lines. Only valid with C parser.\n",
    "- quotechar='\"'\n",
    "- quoting=0\n",
    "- escapechar=None\n",
    "- comment=None\n",
    "- encoding=None\n",
    "    - Encoding to use for UTF when reading/writing (e.g. 'utf-8')\n",
    "    - investigate encoding options when throwing UnicodeDecodeError or similar\n",
    "- dialect=None\n",
    "- tupleize_cols=None\n",
    "- error_bad_lines=True\n",
    "- warn_bad_lines=True\n",
    "- skipfooter=0\n",
    "- doublequote=True\n",
    "- delim_whitespace=False\n",
    "- low_memory=True\n",
    "- memory_map=False\n",
    "- float_precision=None"
   ]
  },
  {
   "cell_type": "markdown",
   "metadata": {},
   "source": [
    "## JSON"
   ]
  },
  {
   "cell_type": "code",
   "execution_count": 1,
   "metadata": {
    "ExecuteTime": {
     "end_time": "2019-10-15T04:43:44.458499Z",
     "start_time": "2019-10-15T04:43:44.450502Z"
    }
   },
   "outputs": [],
   "source": [
    "import json"
   ]
  },
  {
   "cell_type": "code",
   "execution_count": 7,
   "metadata": {
    "ExecuteTime": {
     "end_time": "2019-10-15T05:48:25.541194Z",
     "start_time": "2019-10-15T05:48:25.492234Z"
    }
   },
   "outputs": [
    {
     "data": {
      "text/html": [
       "<div>\n",
       "<style scoped>\n",
       "    .dataframe tbody tr th:only-of-type {\n",
       "        vertical-align: middle;\n",
       "    }\n",
       "\n",
       "    .dataframe tbody tr th {\n",
       "        vertical-align: top;\n",
       "    }\n",
       "\n",
       "    .dataframe thead th {\n",
       "        text-align: right;\n",
       "    }\n",
       "</style>\n",
       "<table border=\"1\" class=\"dataframe\">\n",
       "  <thead>\n",
       "    <tr style=\"text-align: right;\">\n",
       "      <th></th>\n",
       "      <th>0</th>\n",
       "      <th>1</th>\n",
       "      <th>2</th>\n",
       "    </tr>\n",
       "  </thead>\n",
       "  <tbody>\n",
       "    <tr>\n",
       "      <th>title</th>\n",
       "      <td>Pulp Fiction</td>\n",
       "      <td>Pulp Fiction</td>\n",
       "      <td>Pulp Fiction</td>\n",
       "    </tr>\n",
       "    <tr>\n",
       "      <th>director</th>\n",
       "      <td>Quentin Tarantino</td>\n",
       "      <td>Quentin Tarantino</td>\n",
       "      <td>Quentin Tarantino</td>\n",
       "    </tr>\n",
       "    <tr>\n",
       "      <th>actors</th>\n",
       "      <td>Samuel L. Jackson</td>\n",
       "      <td>John Travolta</td>\n",
       "      <td>Bruce Willis</td>\n",
       "    </tr>\n",
       "    <tr>\n",
       "      <th>is_awesome</th>\n",
       "      <td>True</td>\n",
       "      <td>True</td>\n",
       "      <td>True</td>\n",
       "    </tr>\n",
       "    <tr>\n",
       "      <th>budget</th>\n",
       "      <td>8500000</td>\n",
       "      <td>8500000</td>\n",
       "      <td>8500000</td>\n",
       "    </tr>\n",
       "  </tbody>\n",
       "</table>\n",
       "</div>"
      ],
      "text/plain": [
       "                            0                  1                  2\n",
       "title            Pulp Fiction       Pulp Fiction       Pulp Fiction\n",
       "director    Quentin Tarantino  Quentin Tarantino  Quentin Tarantino\n",
       "actors      Samuel L. Jackson      John Travolta       Bruce Willis\n",
       "is_awesome               True               True               True\n",
       "budget                8500000            8500000            8500000"
      ]
     },
     "execution_count": 7,
     "metadata": {},
     "output_type": "execute_result"
    }
   ],
   "source": [
    "movie = {\n",
    "    'title': 'Pulp Fiction',\n",
    "    'director': 'Quentin Tarantino',\n",
    "    'actors': ['Samuel L. Jackson', 'John Travolta', 'Bruce Willis'],\n",
    "    'is_awesome': True,\n",
    "    'budget': 8500000,\n",
    "}\n",
    "\n",
    "with open('movie.json', 'w') as f:\n",
    "    json.dump(movie, f)\n",
    "\n",
    "pd.read_json('movie.json', orient='index')"
   ]
  },
  {
   "cell_type": "code",
   "execution_count": 155,
   "metadata": {
    "ExecuteTime": {
     "end_time": "2019-10-14T10:12:25.699660Z",
     "start_time": "2019-10-14T10:12:25.682671Z"
    }
   },
   "outputs": [],
   "source": [
    "a = [[ 'df', None, 'No'],\n",
    "    ['No', 'Yes', 'No'],\n",
    "    ['Yes', '', 1]]\n",
    "\n",
    "pd.DataFrame(a).to_csv('a.csv', index=False)"
   ]
  },
  {
   "cell_type": "code",
   "execution_count": 158,
   "metadata": {
    "ExecuteTime": {
     "end_time": "2019-10-14T18:51:09.242189Z",
     "start_time": "2019-10-14T18:51:09.210207Z"
    }
   },
   "outputs": [],
   "source": [
    "\n",
    "df = pd.read_csv('a.csv')"
   ]
  },
  {
   "cell_type": "code",
   "execution_count": 126,
   "metadata": {
    "ExecuteTime": {
     "end_time": "2019-10-14T09:05:35.354729Z",
     "start_time": "2019-10-14T09:05:35.348733Z"
    }
   },
   "outputs": [
    {
     "data": {
      "text/plain": [
       "'Yes'"
      ]
     },
     "execution_count": 126,
     "metadata": {},
     "output_type": "execute_result"
    }
   ],
   "source": [
    "' Yes'.lstrip()"
   ]
  },
  {
   "cell_type": "code",
   "execution_count": 8,
   "metadata": {
    "ExecuteTime": {
     "end_time": "2019-10-14T07:52:32.184947Z",
     "start_time": "2019-10-14T07:52:32.175957Z"
    },
    "collapsed": true
   },
   "outputs": [
    {
     "data": {
      "text/plain": [
       "['filepath_or_buffer',\n",
       " \"sep=','\",\n",
       " 'delimiter=None',\n",
       " \"header='infer'\",\n",
       " 'names=None',\n",
       " 'index_col=None',\n",
       " 'usecols=None',\n",
       " 'squeeze=False',\n",
       " 'prefix=None',\n",
       " 'mangle_dupe_cols=True',\n",
       " 'dtype=None',\n",
       " 'engine=None',\n",
       " 'converters=None',\n",
       " 'true_values=None',\n",
       " 'false_values=None',\n",
       " 'skipinitialspace=False',\n",
       " 'skiprows=None',\n",
       " 'nrows=None',\n",
       " 'na_values=None',\n",
       " 'keep_default_na=True',\n",
       " 'na_filter=True',\n",
       " 'verbose=False',\n",
       " 'skip_blank_lines=True',\n",
       " 'parse_dates=False',\n",
       " 'infer_datetime_format=False',\n",
       " 'keep_date_col=False',\n",
       " 'date_parser=None',\n",
       " 'dayfirst=False',\n",
       " 'iterator=False',\n",
       " 'chunksize=None',\n",
       " \"compression='infer'\",\n",
       " 'thousands=None',\n",
       " \"decimal=b'.'\",\n",
       " 'lineterminator=None',\n",
       " 'quotechar=\\'\"\\'',\n",
       " 'quoting=0',\n",
       " 'escapechar=None',\n",
       " 'comment=None',\n",
       " 'encoding=None',\n",
       " 'dialect=None',\n",
       " 'tupleize_cols=None',\n",
       " 'error_bad_lines=True',\n",
       " 'warn_bad_lines=True',\n",
       " 'skipfooter=0',\n",
       " 'doublequote=True',\n",
       " 'delim_whitespace=False',\n",
       " 'low_memory=True',\n",
       " 'memory_map=False',\n",
       " 'float_precision=None']"
      ]
     },
     "execution_count": 8,
     "metadata": {},
     "output_type": "execute_result"
    }
   ],
   "source": [
    "L[0]"
   ]
  },
  {
   "cell_type": "code",
   "execution_count": 10,
   "metadata": {
    "ExecuteTime": {
     "end_time": "2019-10-14T07:52:52.908738Z",
     "start_time": "2019-10-14T07:52:52.896765Z"
    }
   },
   "outputs": [
    {
     "name": "stdout",
     "output_type": "stream",
     "text": [
      "- filepath_or_buffer\n",
      "- sep=','\n",
      "- delimiter=None\n",
      "- header='infer'\n",
      "- names=None\n",
      "- index_col=None\n",
      "- usecols=None\n",
      "- squeeze=False\n",
      "- prefix=None\n",
      "- mangle_dupe_cols=True\n",
      "- dtype=None\n",
      "- engine=None\n",
      "- converters=None\n",
      "- true_values=None\n",
      "- false_values=None\n",
      "- skipinitialspace=False\n",
      "- skiprows=None\n",
      "- nrows=None\n",
      "- na_values=None\n",
      "- keep_default_na=True\n",
      "- na_filter=True\n",
      "- verbose=False\n",
      "- skip_blank_lines=True\n",
      "- parse_dates=False\n",
      "- infer_datetime_format=False\n",
      "- keep_date_col=False\n",
      "- date_parser=None\n",
      "- dayfirst=False\n",
      "- iterator=False\n",
      "- chunksize=None\n",
      "- compression='infer'\n",
      "- thousands=None\n",
      "- decimal=b'.'\n",
      "- lineterminator=None\n",
      "- quotechar='\"'\n",
      "- quoting=0\n",
      "- escapechar=None\n",
      "- comment=None\n",
      "- encoding=None\n",
      "- dialect=None\n",
      "- tupleize_cols=None\n",
      "- error_bad_lines=True\n",
      "- warn_bad_lines=True\n",
      "- skipfooter=0\n",
      "- doublequote=True\n",
      "- delim_whitespace=False\n",
      "- low_memory=True\n",
      "- memory_map=False\n",
      "- float_precision=None\n"
     ]
    }
   ],
   "source": [
    "for i, item in enumerate(L[0]):\n",
    "    print('-', item)"
   ]
  },
  {
   "cell_type": "code",
   "execution_count": 4,
   "metadata": {
    "ExecuteTime": {
     "end_time": "2019-10-14T07:51:46.634425Z",
     "start_time": "2019-10-14T07:51:46.625434Z"
    }
   },
   "outputs": [],
   "source": [
    "L = ['filepath_or_buffer', \"sep=','\", 'delimiter=None', \"header='infer'\", 'names=None', 'index_col=None', 'usecols=None', 'squeeze=False', 'prefix=None', 'mangle_dupe_cols=True', 'dtype=None', 'engine=None', 'converters=None', 'true_values=None', 'false_values=None', 'skipinitialspace=False', 'skiprows=None', 'nrows=None', 'na_values=None', 'keep_default_na=True', 'na_filter=True', 'verbose=False', 'skip_blank_lines=True', 'parse_dates=False', 'infer_datetime_format=False', 'keep_date_col=False', 'date_parser=None', 'dayfirst=False', 'iterator=False', 'chunksize=None', \"compression='infer'\", 'thousands=None', \"decimal=b'.'\", 'lineterminator=None', 'quotechar=\\'\"\\'', 'quoting=0', 'escapechar=None', 'comment=None', 'encoding=None', 'dialect=None', 'tupleize_cols=None', 'error_bad_lines=True', 'warn_bad_lines=True', 'skipfooter=0', 'doublequote=True', 'delim_whitespace=False', 'low_memory=True', 'memory_map=False', 'float_precision=None'],"
   ]
  },
  {
   "cell_type": "code",
   "execution_count": 2,
   "metadata": {
    "ExecuteTime": {
     "end_time": "2019-10-14T07:43:51.677422Z",
     "start_time": "2019-10-14T07:43:51.554499Z"
    }
   },
   "outputs": [
    {
     "ename": "TypeError",
     "evalue": "parser_f() missing 1 required positional argument: 'filepath_or_buffer'",
     "output_type": "error",
     "traceback": [
      "\u001b[1;31m---------------------------------------------------------------------------\u001b[0m",
      "\u001b[1;31mTypeError\u001b[0m                                 Traceback (most recent call last)",
      "\u001b[1;32m<ipython-input-2-2e425d9f1eb5>\u001b[0m in \u001b[0;36m<module>\u001b[1;34m\u001b[0m\n\u001b[1;32m----> 1\u001b[1;33m \u001b[0mpd\u001b[0m\u001b[1;33m.\u001b[0m\u001b[0mread_csv\u001b[0m\u001b[1;33m(\u001b[0m\u001b[1;33m)\u001b[0m\u001b[1;33m\u001b[0m\u001b[1;33m\u001b[0m\u001b[0m\n\u001b[0m",
      "\u001b[1;31mTypeError\u001b[0m: parser_f() missing 1 required positional argument: 'filepath_or_buffer'"
     ]
    }
   ],
   "source": [
    "pd.read_csv()"
   ]
  },
  {
   "cell_type": "markdown",
   "metadata": {},
   "source": [
    "## Excel"
   ]
  },
  {
   "cell_type": "code",
   "execution_count": null,
   "metadata": {},
   "outputs": [],
   "source": [
    "pd.read_e"
   ]
  }
 ],
 "metadata": {
  "kernelspec": {
   "display_name": "Python 3",
   "language": "python",
   "name": "python3"
  },
  "language_info": {
   "codemirror_mode": {
    "name": "ipython",
    "version": 3
   },
   "file_extension": ".py",
   "mimetype": "text/x-python",
   "name": "python",
   "nbconvert_exporter": "python",
   "pygments_lexer": "ipython3",
   "version": "3.7.4"
  },
  "toc": {
   "base_numbering": 1,
   "nav_menu": {},
   "number_sections": true,
   "sideBar": true,
   "skip_h1_title": false,
   "title_cell": "Table of Contents",
   "title_sidebar": "Contents",
   "toc_cell": false,
   "toc_position": {},
   "toc_section_display": true,
   "toc_window_display": true
  }
 },
 "nbformat": 4,
 "nbformat_minor": 2
}
