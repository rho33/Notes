{
 "cells": [
  {
   "cell_type": "code",
   "execution_count": 2,
   "metadata": {
    "ExecuteTime": {
     "end_time": "2020-05-09T23:35:22.206684Z",
     "start_time": "2020-05-09T23:35:20.106792Z"
    }
   },
   "outputs": [],
   "source": [
    "from statsmodels.sandbox.stats.runs import runstest_1samp\n",
    "import scipy.stats as st\n",
    "import numpy as np\n",
    "import pandas as pd"
   ]
  },
  {
   "cell_type": "markdown",
   "metadata": {},
   "source": [
    "# On Random Data"
   ]
  },
  {
   "cell_type": "code",
   "execution_count": 2,
   "metadata": {
    "ExecuteTime": {
     "end_time": "2020-05-08T23:59:27.639510Z",
     "start_time": "2020-05-08T23:59:27.631566Z"
    }
   },
   "outputs": [
    {
     "data": {
      "text/plain": [
       "(-0.8730565722994805, 0.3826322430748368)"
      ]
     },
     "execution_count": 2,
     "metadata": {},
     "output_type": "execute_result"
    }
   ],
   "source": [
    "# generate random array of True and False\n",
    "x = np.random.normal(size=100) > 0"
   ]
  },
  {
   "cell_type": "code",
   "execution_count": 3,
   "metadata": {
    "ExecuteTime": {
     "end_time": "2020-05-08T23:59:27.649484Z",
     "start_time": "2020-05-08T23:59:27.640508Z"
    }
   },
   "outputs": [
    {
     "data": {
      "text/plain": [
       "(44, 56, 50.28, 24.032711111111112)"
      ]
     },
     "execution_count": 3,
     "metadata": {},
     "output_type": "execute_result"
    }
   ],
   "source": [
    "true_count = sum(x)\n",
    "false_count = len(x) - true_count\n",
    "# expected mean runs and variance + stdev for independent trials\n",
    "mean = 2*true_count*false_count/len(x) + 1\n",
    "variance = (mean-1)*(mean-2)/(len(x)-1)\n",
    "stdev = variance**.5\n",
    "\n",
    "true_count, false_count, mean, variance"
   ]
  },
  {
   "cell_type": "code",
   "execution_count": 4,
   "metadata": {
    "ExecuteTime": {
     "end_time": "2020-05-08T23:59:27.655469Z",
     "start_time": "2020-05-08T23:59:27.650481Z"
    }
   },
   "outputs": [
    {
     "data": {
      "text/plain": [
       "46"
      ]
     },
     "execution_count": 4,
     "metadata": {},
     "output_type": "execute_result"
    }
   ],
   "source": [
    "# manually count runs\n",
    "run_count = 1\n",
    "for i, val in enumerate(x[1:]):\n",
    "    prev_val = x[i]\n",
    "    if val is not prev_val:\n",
    "        run_count += 1\n",
    "run_count        "
   ]
  },
  {
   "cell_type": "code",
   "execution_count": 5,
   "metadata": {
    "ExecuteTime": {
     "end_time": "2020-05-08T23:59:27.662449Z",
     "start_time": "2020-05-08T23:59:27.656467Z"
    }
   },
   "outputs": [
    {
     "data": {
      "text/plain": [
       "(-0.8730565722994805, 0.3826322430748368)"
      ]
     },
     "execution_count": 5,
     "metadata": {},
     "output_type": "execute_result"
    }
   ],
   "source": [
    "# calculate z statistic and p value\n",
    "z = (run_count - mean)/variance**.5\n",
    "p_value = 2*(1 - st.norm.cdf(abs(z)))\n",
    "# z and p_value should match output of runstest_1samp\n",
    "z, p_value"
   ]
  },
  {
   "cell_type": "code",
   "execution_count": 6,
   "metadata": {
    "ExecuteTime": {
     "end_time": "2020-05-08T23:59:27.668435Z",
     "start_time": "2020-05-08T23:59:27.663446Z"
    }
   },
   "outputs": [
    {
     "data": {
      "text/plain": [
       "(-0.8730565722994805, 0.3826322430748368)"
      ]
     },
     "execution_count": 6,
     "metadata": {},
     "output_type": "execute_result"
    }
   ],
   "source": [
    "# verify against statsmodels function\n",
    "runstest_1samp(x)"
   ]
  },
  {
   "cell_type": "markdown",
   "metadata": {},
   "source": [
    "# On SPY"
   ]
  },
  {
   "cell_type": "code",
   "execution_count": 5,
   "metadata": {
    "ExecuteTime": {
     "end_time": "2020-05-09T23:36:32.760768Z",
     "start_time": "2020-05-09T23:36:32.738799Z"
    }
   },
   "outputs": [
    {
     "data": {
      "text/html": [
       "<div>\n",
       "<style scoped>\n",
       "    .dataframe tbody tr th:only-of-type {\n",
       "        vertical-align: middle;\n",
       "    }\n",
       "\n",
       "    .dataframe tbody tr th {\n",
       "        vertical-align: top;\n",
       "    }\n",
       "\n",
       "    .dataframe thead th {\n",
       "        text-align: right;\n",
       "    }\n",
       "</style>\n",
       "<table border=\"1\" class=\"dataframe\">\n",
       "  <thead>\n",
       "    <tr style=\"text-align: right;\">\n",
       "      <th></th>\n",
       "      <th>Adj Close</th>\n",
       "      <th>pct_change</th>\n",
       "      <th>positive_return</th>\n",
       "    </tr>\n",
       "  </thead>\n",
       "  <tbody>\n",
       "    <tr>\n",
       "      <th>0</th>\n",
       "      <td>26.299288</td>\n",
       "      <td>NaN</td>\n",
       "      <td>False</td>\n",
       "    </tr>\n",
       "    <tr>\n",
       "      <th>1</th>\n",
       "      <td>26.486324</td>\n",
       "      <td>0.007112</td>\n",
       "      <td>True</td>\n",
       "    </tr>\n",
       "    <tr>\n",
       "      <th>2</th>\n",
       "      <td>26.542448</td>\n",
       "      <td>0.002119</td>\n",
       "      <td>True</td>\n",
       "    </tr>\n",
       "    <tr>\n",
       "      <th>3</th>\n",
       "      <td>26.822998</td>\n",
       "      <td>0.010570</td>\n",
       "      <td>True</td>\n",
       "    </tr>\n",
       "    <tr>\n",
       "      <th>4</th>\n",
       "      <td>26.935240</td>\n",
       "      <td>0.004185</td>\n",
       "      <td>True</td>\n",
       "    </tr>\n",
       "  </tbody>\n",
       "</table>\n",
       "</div>"
      ],
      "text/plain": [
       "   Adj Close  pct_change  positive_return\n",
       "0  26.299288         NaN            False\n",
       "1  26.486324    0.007112             True\n",
       "2  26.542448    0.002119             True\n",
       "3  26.822998    0.010570             True\n",
       "4  26.935240    0.004185             True"
      ]
     },
     "execution_count": 5,
     "metadata": {},
     "output_type": "execute_result"
    }
   ],
   "source": [
    "df = pd.read_csv('SPY.csv')\n",
    "df['pct_change'] = df['Adj Close'].pct_change()\n",
    "df['positive_return'] = df['pct_change'] > 0\n",
    "df[['Adj Close', 'pct_change', 'positive_return']].head()"
   ]
  },
  {
   "cell_type": "code",
   "execution_count": 11,
   "metadata": {
    "ExecuteTime": {
     "end_time": "2020-05-09T23:40:04.767307Z",
     "start_time": "2020-05-09T23:40:04.762292Z"
    }
   },
   "outputs": [
    {
     "data": {
      "text/plain": [
       "3103"
      ]
     },
     "execution_count": 11,
     "metadata": {},
     "output_type": "execute_result"
    }
   ],
   "source": [
    "len(df[df['pct_change']<0])"
   ]
  },
  {
   "cell_type": "code",
   "execution_count": 21,
   "metadata": {
    "ExecuteTime": {
     "end_time": "2020-05-09T23:43:53.270477Z",
     "start_time": "2020-05-09T23:43:53.266463Z"
    }
   },
   "outputs": [
    {
     "name": "stdout",
     "output_type": "stream",
     "text": [
      "up days: 3690 (53.84%)\n",
      "down/even days: 3164 (46.16%)\n"
     ]
    }
   ],
   "source": [
    "total_days = len(df['positive_return'])\n",
    "up_days = sum(df['positive_return'])\n",
    "down_days = total_days - up_days\n",
    "up_pct, down_pct = round(100*up_days/total_days, 2), round(100*down_days/total_days, 2)\n",
    "\n",
    "print(f'up days: {up_days} ({up_pct}%)\\ndown/even days: {down_days} ({down_pct}%)')"
   ]
  },
  {
   "cell_type": "code",
   "execution_count": 24,
   "metadata": {
    "ExecuteTime": {
     "end_time": "2020-05-09T23:47:18.343157Z",
     "start_time": "2020-05-09T23:47:18.323210Z"
    }
   },
   "outputs": [
    {
     "name": "stdout",
     "output_type": "stream",
     "text": [
      "expected run count 3407.8164575430405\n",
      "actual run count 3502\n"
     ]
    }
   ],
   "source": [
    "run_count = 1\n",
    "for i, val in enumerate(df['positive_return'].values[1:]):\n",
    "    prev_val = df['positive_return'].values[i]\n",
    "    if val is not prev_val:\n",
    "        run_count += 1\n",
    "expected_run_count = 2*up_days*down_days/len(df['positive_return']) + 1\n",
    "\n",
    "print(f'expected run count {expected_run_count}\\nactual run count: {run_count}')"
   ]
  },
  {
   "cell_type": "code",
   "execution_count": 25,
   "metadata": {
    "ExecuteTime": {
     "end_time": "2020-05-09T23:47:44.080268Z",
     "start_time": "2020-05-09T23:47:44.075277Z"
    }
   },
   "outputs": [
    {
     "data": {
      "text/plain": [
       "(2.2889188671396647, 0.022084066820886827)"
      ]
     },
     "execution_count": 25,
     "metadata": {},
     "output_type": "execute_result"
    }
   ],
   "source": [
    "runstest_1samp(df['positive_return'])"
   ]
  }
 ],
 "metadata": {
  "kernelspec": {
   "display_name": "Python 3",
   "language": "python",
   "name": "python3"
  },
  "language_info": {
   "codemirror_mode": {
    "name": "ipython",
    "version": 3
   },
   "file_extension": ".py",
   "mimetype": "text/x-python",
   "name": "python",
   "nbconvert_exporter": "python",
   "pygments_lexer": "ipython3",
   "version": "3.6.8"
  },
  "toc": {
   "base_numbering": 1,
   "nav_menu": {},
   "number_sections": true,
   "sideBar": true,
   "skip_h1_title": false,
   "title_cell": "Table of Contents",
   "title_sidebar": "Contents",
   "toc_cell": false,
   "toc_position": {},
   "toc_section_display": true,
   "toc_window_display": false
  }
 },
 "nbformat": 4,
 "nbformat_minor": 4
}
