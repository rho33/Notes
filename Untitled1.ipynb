{
 "cells": [
  {
   "cell_type": "code",
   "execution_count": 12,
   "metadata": {
    "ExecuteTime": {
     "end_time": "2019-10-16T05:08:23.307464Z",
     "start_time": "2019-10-16T05:08:23.295490Z"
    }
   },
   "outputs": [],
   "source": [
    "import zipfile"
   ]
  },
  {
   "cell_type": "code",
   "execution_count": null,
   "metadata": {},
   "outputs": [],
   "source": [
    "fda"
   ]
  },
  {
   "cell_type": "code",
   "execution_count": 16,
   "metadata": {
    "ExecuteTime": {
     "end_time": "2019-10-16T05:16:22.195762Z",
     "start_time": "2019-10-16T05:16:22.178771Z"
    }
   },
   "outputs": [],
   "source": [
    "from zipfile import ZipFile \n",
    "import os \n",
    "  \n",
    "def get_all_file_paths(directory): \n",
    "  \n",
    "    # initializing empty file paths list \n",
    "    file_paths = [] \n",
    "  \n",
    "    # crawling through directory and subdirectories \n",
    "    for root, directories, files in os.walk(directory): \n",
    "        for filename in files: \n",
    "            # join the two strings in order to form the full filepath. \n",
    "            filepath = os.path.join(root, filename) \n",
    "            file_paths.append(filepath) \n",
    "  \n",
    "    # returning all file paths \n",
    "    return file_paths         \n",
    "  \n",
    "def main(): \n",
    "    # path to folder which needs to be zipped \n",
    "    directory = \"foldertozip\"\n",
    "  \n",
    "    # calling function to get all file paths in the directory \n",
    "    file_paths = get_all_file_paths(directory) \n",
    "  \n",
    "    # printing the list of all files to be zipped \n",
    "    print('Following files will be zipped:') \n",
    "    for file_name in file_paths: \n",
    "        print(file_name) \n",
    "  \n",
    "    # writing files to a zipfile \n",
    "    with ZipFile('my_python_files.zip','w') as zip: \n",
    "        # writing each file one by one \n",
    "        for file in file_paths: \n",
    "            zip.write(file) \n",
    "  \n",
    "    print('All files zipped successfully!')"
   ]
  },
  {
   "cell_type": "code",
   "execution_count": 17,
   "metadata": {
    "ExecuteTime": {
     "end_time": "2019-10-16T05:16:22.942330Z",
     "start_time": "2019-10-16T05:16:22.928338Z"
    }
   },
   "outputs": [
    {
     "name": "stdout",
     "output_type": "stream",
     "text": [
      "Following files will be zipped:\n",
      "foldertozip\\random.txt\n",
      "foldertozip\\subfoldertozip\\random2.txt\n",
      "All files zipped successfully!\n"
     ]
    }
   ],
   "source": [
    "main()"
   ]
  },
  {
   "cell_type": "code",
   "execution_count": 13,
   "metadata": {
    "ExecuteTime": {
     "end_time": "2019-10-16T05:08:38.719202Z",
     "start_time": "2019-10-16T05:08:38.708206Z"
    }
   },
   "outputs": [
    {
     "data": {
      "text/plain": [
       "['BZIP2_VERSION',\n",
       " 'BadZipFile',\n",
       " 'BadZipfile',\n",
       " 'DEFAULT_VERSION',\n",
       " 'LZMACompressor',\n",
       " 'LZMADecompressor',\n",
       " 'LZMA_VERSION',\n",
       " 'LargeZipFile',\n",
       " 'MAX_EXTRACT_VERSION',\n",
       " 'PyZipFile',\n",
       " 'ZIP64_LIMIT',\n",
       " 'ZIP64_VERSION',\n",
       " 'ZIP_BZIP2',\n",
       " 'ZIP_DEFLATED',\n",
       " 'ZIP_FILECOUNT_LIMIT',\n",
       " 'ZIP_LZMA',\n",
       " 'ZIP_MAX_COMMENT',\n",
       " 'ZIP_STORED',\n",
       " 'ZipExtFile',\n",
       " 'ZipFile',\n",
       " 'ZipInfo',\n",
       " '_CD64_CREATE_VERSION',\n",
       " '_CD64_DIRECTORY_RECSIZE',\n",
       " '_CD64_DIRECTORY_SIZE',\n",
       " '_CD64_DISK_NUMBER',\n",
       " '_CD64_DISK_NUMBER_START',\n",
       " '_CD64_EXTRACT_VERSION',\n",
       " '_CD64_NUMBER_ENTRIES_THIS_DISK',\n",
       " '_CD64_NUMBER_ENTRIES_TOTAL',\n",
       " '_CD64_OFFSET_START_CENTDIR',\n",
       " '_CD64_SIGNATURE',\n",
       " '_CD_COMMENT_LENGTH',\n",
       " '_CD_COMPRESSED_SIZE',\n",
       " '_CD_COMPRESS_TYPE',\n",
       " '_CD_CRC',\n",
       " '_CD_CREATE_SYSTEM',\n",
       " '_CD_CREATE_VERSION',\n",
       " '_CD_DATE',\n",
       " '_CD_DISK_NUMBER_START',\n",
       " '_CD_EXTERNAL_FILE_ATTRIBUTES',\n",
       " '_CD_EXTRACT_SYSTEM',\n",
       " '_CD_EXTRACT_VERSION',\n",
       " '_CD_EXTRA_FIELD_LENGTH',\n",
       " '_CD_FILENAME_LENGTH',\n",
       " '_CD_FLAG_BITS',\n",
       " '_CD_INTERNAL_FILE_ATTRIBUTES',\n",
       " '_CD_LOCAL_HEADER_OFFSET',\n",
       " '_CD_SIGNATURE',\n",
       " '_CD_TIME',\n",
       " '_CD_UNCOMPRESSED_SIZE',\n",
       " '_DD_SIGNATURE',\n",
       " '_ECD_COMMENT',\n",
       " '_ECD_COMMENT_SIZE',\n",
       " '_ECD_DISK_NUMBER',\n",
       " '_ECD_DISK_START',\n",
       " '_ECD_ENTRIES_THIS_DISK',\n",
       " '_ECD_ENTRIES_TOTAL',\n",
       " '_ECD_LOCATION',\n",
       " '_ECD_OFFSET',\n",
       " '_ECD_SIGNATURE',\n",
       " '_ECD_SIZE',\n",
       " '_EXTRA_FIELD_STRUCT',\n",
       " '_EndRecData',\n",
       " '_EndRecData64',\n",
       " '_FH_COMPRESSED_SIZE',\n",
       " '_FH_COMPRESSION_METHOD',\n",
       " '_FH_CRC',\n",
       " '_FH_EXTRACT_SYSTEM',\n",
       " '_FH_EXTRACT_VERSION',\n",
       " '_FH_EXTRA_FIELD_LENGTH',\n",
       " '_FH_FILENAME_LENGTH',\n",
       " '_FH_GENERAL_PURPOSE_FLAG_BITS',\n",
       " '_FH_LAST_MOD_DATE',\n",
       " '_FH_LAST_MOD_TIME',\n",
       " '_FH_SIGNATURE',\n",
       " '_FH_UNCOMPRESSED_SIZE',\n",
       " '_SharedFile',\n",
       " '_Tellable',\n",
       " '_ZipDecrypter',\n",
       " '_ZipWriteFile',\n",
       " '__all__',\n",
       " '__builtins__',\n",
       " '__cached__',\n",
       " '__doc__',\n",
       " '__file__',\n",
       " '__loader__',\n",
       " '__name__',\n",
       " '__package__',\n",
       " '__spec__',\n",
       " '_check_compression',\n",
       " '_check_zipfile',\n",
       " '_crctable',\n",
       " '_gen_crc',\n",
       " '_get_compressor',\n",
       " '_get_decompressor',\n",
       " '_strip_extra',\n",
       " 'binascii',\n",
       " 'bz2',\n",
       " 'compressor_names',\n",
       " 'crc32',\n",
       " 'error',\n",
       " 'importlib',\n",
       " 'io',\n",
       " 'is_zipfile',\n",
       " 'lzma',\n",
       " 'main',\n",
       " 'os',\n",
       " 'shutil',\n",
       " 'sizeCentralDir',\n",
       " 'sizeEndCentDir',\n",
       " 'sizeEndCentDir64',\n",
       " 'sizeEndCentDir64Locator',\n",
       " 'sizeFileHeader',\n",
       " 'stat',\n",
       " 'stringCentralDir',\n",
       " 'stringEndArchive',\n",
       " 'stringEndArchive64',\n",
       " 'stringEndArchive64Locator',\n",
       " 'stringFileHeader',\n",
       " 'struct',\n",
       " 'structCentralDir',\n",
       " 'structEndArchive',\n",
       " 'structEndArchive64',\n",
       " 'structEndArchive64Locator',\n",
       " 'structFileHeader',\n",
       " 'sys',\n",
       " 'threading',\n",
       " 'time',\n",
       " 'zlib']"
      ]
     },
     "execution_count": 13,
     "metadata": {},
     "output_type": "execute_result"
    }
   ],
   "source": [
    "dir(zipfile)"
   ]
  },
  {
   "cell_type": "code",
   "execution_count": 1,
   "metadata": {
    "ExecuteTime": {
     "end_time": "2019-10-16T04:02:18.979845Z",
     "start_time": "2019-10-16T04:02:18.894697Z"
    }
   },
   "outputs": [],
   "source": [
    "from cx_Freeze import setup, Executable"
   ]
  },
  {
   "cell_type": "code",
   "execution_count": 2,
   "metadata": {
    "ExecuteTime": {
     "end_time": "2019-10-16T04:03:58.380745Z",
     "start_time": "2019-10-16T04:03:58.375748Z"
    }
   },
   "outputs": [],
   "source": [
    "import inspect"
   ]
  },
  {
   "cell_type": "code",
   "execution_count": 5,
   "metadata": {
    "ExecuteTime": {
     "end_time": "2019-10-16T04:04:37.958146Z",
     "start_time": "2019-10-16T04:04:37.953152Z"
    }
   },
   "outputs": [],
   "source": [
    "import cx_Freeze"
   ]
  },
  {
   "cell_type": "code",
   "execution_count": 8,
   "metadata": {
    "ExecuteTime": {
     "end_time": "2019-10-16T04:09:35.226093Z",
     "start_time": "2019-10-16T04:09:34.393417Z"
    }
   },
   "outputs": [],
   "source": [
    "from setuptools import setup"
   ]
  },
  {
   "cell_type": "code",
   "execution_count": 10,
   "metadata": {
    "ExecuteTime": {
     "end_time": "2019-10-16T04:10:16.197853Z",
     "start_time": "2019-10-16T04:10:16.194854Z"
    }
   },
   "outputs": [],
   "source": [
    "import distutils"
   ]
  },
  {
   "cell_type": "code",
   "execution_count": null,
   "metadata": {},
   "outputs": [],
   "source": [
    "distutils.core.setup()"
   ]
  },
  {
   "cell_type": "code",
   "execution_count": 11,
   "metadata": {
    "ExecuteTime": {
     "end_time": "2019-10-16T04:10:43.853977Z",
     "start_time": "2019-10-16T04:10:43.838988Z"
    }
   },
   "outputs": [
    {
     "name": "stdout",
     "output_type": "stream",
     "text": [
      "def setup (**attrs):\n",
      "    \"\"\"The gateway to the Distutils: do everything your setup script needs\n",
      "    to do, in a highly flexible and user-driven way.  Briefly: create a\n",
      "    Distribution instance; find and parse config files; parse the command\n",
      "    line; run each Distutils command found there, customized by the options\n",
      "    supplied to 'setup()' (as keyword arguments), in config files, and on\n",
      "    the command line.\n",
      "\n",
      "    The Distribution instance might be an instance of a class supplied via\n",
      "    the 'distclass' keyword argument to 'setup'; if no such class is\n",
      "    supplied, then the Distribution class (in dist.py) is instantiated.\n",
      "    All other arguments to 'setup' (except for 'cmdclass') are used to set\n",
      "    attributes of the Distribution instance.\n",
      "\n",
      "    The 'cmdclass' argument, if supplied, is a dictionary mapping command\n",
      "    names to command classes.  Each command encountered on the command line\n",
      "    will be turned into a command class, which is in turn instantiated; any\n",
      "    class found in 'cmdclass' is used in place of the default, which is\n",
      "    (for command 'foo_bar') class 'foo_bar' in module\n",
      "    'distutils.command.foo_bar'.  The command class must provide a\n",
      "    'user_options' attribute which is a list of option specifiers for\n",
      "    'distutils.fancy_getopt'.  Any command-line options between the current\n",
      "    and the next command are used to set attributes of the current command\n",
      "    object.\n",
      "\n",
      "    When the entire command-line has been successfully parsed, calls the\n",
      "    'run()' method on each command object in turn.  This method will be\n",
      "    driven entirely by the Distribution object (which each command object\n",
      "    has a reference to, thanks to its constructor), and the\n",
      "    command-specific options that became attributes of each command\n",
      "    object.\n",
      "    \"\"\"\n",
      "\n",
      "    global _setup_stop_after, _setup_distribution\n",
      "\n",
      "    # Determine the distribution class -- either caller-supplied or\n",
      "    # our Distribution (see below).\n",
      "    klass = attrs.get('distclass')\n",
      "    if klass:\n",
      "        del attrs['distclass']\n",
      "    else:\n",
      "        klass = Distribution\n",
      "\n",
      "    if 'script_name' not in attrs:\n",
      "        attrs['script_name'] = os.path.basename(sys.argv[0])\n",
      "    if 'script_args'  not in attrs:\n",
      "        attrs['script_args'] = sys.argv[1:]\n",
      "\n",
      "    # Create the Distribution instance, using the remaining arguments\n",
      "    # (ie. everything except distclass) to initialize it\n",
      "    try:\n",
      "        _setup_distribution = dist = klass(attrs)\n",
      "    except DistutilsSetupError as msg:\n",
      "        if 'name' not in attrs:\n",
      "            raise SystemExit(\"error in setup command: %s\" % msg)\n",
      "        else:\n",
      "            raise SystemExit(\"error in %s setup command: %s\" % \\\n",
      "                  (attrs['name'], msg))\n",
      "\n",
      "    if _setup_stop_after == \"init\":\n",
      "        return dist\n",
      "\n",
      "    # Find and parse the config file(s): they will override options from\n",
      "    # the setup script, but be overridden by the command line.\n",
      "    dist.parse_config_files()\n",
      "\n",
      "    if DEBUG:\n",
      "        print(\"options (after parsing config files):\")\n",
      "        dist.dump_option_dicts()\n",
      "\n",
      "    if _setup_stop_after == \"config\":\n",
      "        return dist\n",
      "\n",
      "    # Parse the command line and override config files; any\n",
      "    # command-line errors are the end user's fault, so turn them into\n",
      "    # SystemExit to suppress tracebacks.\n",
      "    try:\n",
      "        ok = dist.parse_command_line()\n",
      "    except DistutilsArgError as msg:\n",
      "        raise SystemExit(gen_usage(dist.script_name) + \"\\nerror: %s\" % msg)\n",
      "\n",
      "    if DEBUG:\n",
      "        print(\"options (after parsing command line):\")\n",
      "        dist.dump_option_dicts()\n",
      "\n",
      "    if _setup_stop_after == \"commandline\":\n",
      "        return dist\n",
      "\n",
      "    # And finally, run all the commands found on the command line.\n",
      "    if ok:\n",
      "        try:\n",
      "            dist.run_commands()\n",
      "        except KeyboardInterrupt:\n",
      "            raise SystemExit(\"interrupted\")\n",
      "        except OSError as exc:\n",
      "            if DEBUG:\n",
      "                sys.stderr.write(\"error: %s\\n\" % (exc,))\n",
      "                raise\n",
      "            else:\n",
      "                raise SystemExit(\"error: %s\" % (exc,))\n",
      "\n",
      "        except (DistutilsError,\n",
      "                CCompilerError) as msg:\n",
      "            if DEBUG:\n",
      "                raise\n",
      "            else:\n",
      "                raise SystemExit(\"error: \" + str(msg))\n",
      "\n",
      "    return dist\n",
      "\n"
     ]
    }
   ],
   "source": [
    "print(inspect.getsource(distutils.core.setup))"
   ]
  }
 ],
 "metadata": {
  "kernelspec": {
   "display_name": "Python 3",
   "language": "python",
   "name": "python3"
  },
  "language_info": {
   "codemirror_mode": {
    "name": "ipython",
    "version": 3
   },
   "file_extension": ".py",
   "mimetype": "text/x-python",
   "name": "python",
   "nbconvert_exporter": "python",
   "pygments_lexer": "ipython3",
   "version": "3.7.1"
  },
  "toc": {
   "base_numbering": 1,
   "nav_menu": {},
   "number_sections": true,
   "sideBar": true,
   "skip_h1_title": false,
   "title_cell": "Table of Contents",
   "title_sidebar": "Contents",
   "toc_cell": false,
   "toc_position": {},
   "toc_section_display": true,
   "toc_window_display": false
  }
 },
 "nbformat": 4,
 "nbformat_minor": 2
}
