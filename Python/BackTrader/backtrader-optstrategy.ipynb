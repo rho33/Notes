{
 "cells": [
  {
   "cell_type": "code",
   "execution_count": 1,
   "metadata": {
    "ExecuteTime": {
     "end_time": "2020-07-21T05:48:32.111289Z",
     "start_time": "2020-07-21T05:48:31.702357Z"
    }
   },
   "outputs": [],
   "source": [
    "import os\n",
    "import datetime\n",
    "import backtrader as bt\n",
    "import matplotlib.pyplot as plt\n",
    "import numpy as np\n",
    "plt.rcParams['figure.figsize']=[15, 10]"
   ]
  },
  {
   "cell_type": "code",
   "execution_count": 2,
   "metadata": {
    "ExecuteTime": {
     "end_time": "2020-07-21T05:48:33.958142Z",
     "start_time": "2020-07-21T05:48:32.112258Z"
    }
   },
   "outputs": [],
   "source": [
    "# import jtplot submodule from jupyterthemes\n",
    "from jupyterthemes import jtplot\n",
    "\n",
    "# currently installed theme will be used to\n",
    "# set plot style if no arguments provided\n",
    "jtplot.style()"
   ]
  },
  {
   "cell_type": "code",
   "execution_count": 3,
   "metadata": {
    "ExecuteTime": {
     "end_time": "2020-07-21T05:48:33.967012Z",
     "start_time": "2020-07-21T05:48:33.959060Z"
    }
   },
   "outputs": [],
   "source": [
    "class MyStrat(bt.Strategy):\n",
    "    params = dict(\n",
    "        period=20,\n",
    "        devfactor=2\n",
    "    )\n",
    "    \n",
    "    def __init__(self):\n",
    "        self.bb = bt.indicators.BollingerBands(period=self.p.period, devfactor=self.p.devfactor)\n",
    "        self.slope = self.bb\n",
    "\n",
    "    def next(self):\n",
    "        self.positive_slope = (self.bb.mid[0] - self.bb.mid[-1]) > 0\n",
    "        if not self.position:\n",
    "            \n",
    "            #if trend is positive and price below bb mid line, go all in\n",
    "            if self.data.close[0] <= self.bb.mid and self.positive_slope:\n",
    "                self.order_target_percent(target=1)\n",
    "            # if trend is negative and price above bb mid line short\n",
    "            elif self.data.close[0] >= self.bb.mid and not self.positive_slope:\n",
    "                self.order_target_percent(target=-1)\n",
    "        else:\n",
    "            is_short = self.position.size < 0\n",
    "            is_long = self.position.size > 0\n",
    "            if is_short:\n",
    "                # if trend turns positive or price goes below bb bottom line close position\n",
    "                if self.data.close[0] < self.bb.bot or self.positive_slope:\n",
    "                    self.close()\n",
    "            elif is_long:\n",
    "                # if trend turns negative or price goes above bb top line, close position\n",
    "                if self.data.close[0] > self.bb.top or not self.positive_slope:\n",
    "                    self.close()\n",
    "                    \n",
    "    def stop(self):\n",
    "        self.thevalue = self.broker.get_value()\n",
    "            "
   ]
  },
  {
   "cell_type": "code",
   "execution_count": 4,
   "metadata": {
    "ExecuteTime": {
     "end_time": "2020-07-21T05:48:38.133868Z",
     "start_time": "2020-07-21T05:48:33.968010Z"
    }
   },
   "outputs": [],
   "source": [
    "cerebro = bt.Cerebro()\n",
    "\n",
    "cerebro.optstrategy(MyStrat, period=range(10, 50), devfactor=[1, 1.5, 2], )\n",
    "\n",
    "fromdate, todate = datetime.datetime(2019, 6, 15), datetime.datetime(2020, 6, 19)\n",
    "\n",
    "dn = 'ETF/spy.csv'\n",
    "data = bt.feeds.GenericCSVData(\n",
    "    dataname=dn,\n",
    "    fromdate=fromdate,\n",
    "    todate=todate,\n",
    "    nullvalue=0.0,\n",
    "    dtformat=('%m/%d/%Y'),\n",
    "    datetime=0,\n",
    "    high=3,\n",
    "    low=4,\n",
    "    open=1,\n",
    "    close=2,\n",
    "    volume=5,\n",
    "    openinterest=-1\n",
    ")\n",
    "cerebro.adddata(data)\n",
    "cerebro.broker.setcash(10000)\n",
    "cerebro.broker.set_coc(True)\n",
    "\n",
    "results = cerebro.run(\n",
    "    maxcpus=1, # set maxcpus to 1 or else jupyter notebook will hang\n",
    "    optreturn=False #set optreturn to False to get full strategies returned\n",
    ") "
   ]
  },
  {
   "cell_type": "code",
   "execution_count": 5,
   "metadata": {
    "ExecuteTime": {
     "end_time": "2020-07-21T05:48:38.137858Z",
     "start_time": "2020-07-21T05:48:38.133868Z"
    }
   },
   "outputs": [],
   "source": [
    "st0 = [s[0] for s in results]"
   ]
  },
  {
   "cell_type": "code",
   "execution_count": 6,
   "metadata": {
    "ExecuteTime": {
     "end_time": "2020-07-21T05:48:38.147830Z",
     "start_time": "2020-07-21T05:48:38.138855Z"
    }
   },
   "outputs": [
    {
     "data": {
      "text/plain": [
       "((16, 2), 11497.16)"
      ]
     },
     "execution_count": 6,
     "metadata": {},
     "output_type": "execute_result"
    }
   ],
   "source": [
    "vals = {(s.p.period, s.p.devfactor): s.thevalue for s in st0}\n",
    "max_params = max(vals, key=vals.get)\n",
    "max_params, vals[max_params]\n",
    "# period of 16 and devfactor of 2 achieved best results"
   ]
  },
  {
   "cell_type": "code",
   "execution_count": 7,
   "metadata": {
    "ExecuteTime": {
     "end_time": "2020-07-21T05:48:38.153814Z",
     "start_time": "2020-07-21T05:48:38.148828Z"
    }
   },
   "outputs": [
    {
     "data": {
      "text/plain": [
       "(9854.191749999998, 9815.890000000001)"
      ]
     },
     "execution_count": 7,
     "metadata": {},
     "output_type": "execute_result"
    }
   ],
   "source": [
    "# probably not a great strat to begin with\n",
    "np.mean(list(vals.values())), np.median(list(vals.values()))"
   ]
  },
  {
   "cell_type": "code",
   "execution_count": 8,
   "metadata": {
    "ExecuteTime": {
     "end_time": "2020-07-21T05:48:38.157828Z",
     "start_time": "2020-07-21T05:48:38.154812Z"
    }
   },
   "outputs": [],
   "source": [
    "import seaborn as sns"
   ]
  },
  {
   "cell_type": "code",
   "execution_count": 9,
   "metadata": {
    "ExecuteTime": {
     "end_time": "2020-07-21T05:48:38.279478Z",
     "start_time": "2020-07-21T05:48:38.158801Z"
    }
   },
   "outputs": [
    {
     "data": {
      "text/plain": [
       "<matplotlib.axes._subplots.AxesSubplot at 0x251fe6030b8>"
      ]
     },
     "execution_count": 9,
     "metadata": {},
     "output_type": "execute_result"
    },
    {
     "data": {
      "image/png": "[encoded data removed]",
      "text/plain": [
       "<Figure size 460.8x403.2 with 1 Axes>"
      ]
     },
     "metadata": {},
     "output_type": "display_data"
    }
   ],
   "source": [
    "sns.distplot(list(vals.values()))"
   ]
  }
 ],
 "metadata": {
  "kernelspec": {
   "display_name": "Python 3",
   "language": "python",
   "name": "python3"
  },
  "language_info": {
   "codemirror_mode": {
    "name": "ipython",
    "version": 3
   },
   "file_extension": ".py",
   "mimetype": "text/x-python",
   "name": "python",
   "nbconvert_exporter": "python",
   "pygments_lexer": "ipython3",
   "version": "3.6.8"
  },
  "toc": {
   "base_numbering": 1,
   "nav_menu": {},
   "number_sections": true,
   "sideBar": true,
   "skip_h1_title": false,
   "title_cell": "Table of Contents",
   "title_sidebar": "Contents",
   "toc_cell": false,
   "toc_position": {},
   "toc_section_display": true,
   "toc_window_display": false
  }
 },
 "nbformat": 4,
 "nbformat_minor": 4
}
