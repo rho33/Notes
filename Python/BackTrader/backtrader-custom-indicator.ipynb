{
 "cells": [
  {
   "cell_type": "code",
   "execution_count": 1,
   "metadata": {
    "ExecuteTime": {
     "end_time": "2020-06-19T06:18:53.178563Z",
     "start_time": "2020-06-19T06:18:52.919289Z"
    }
   },
   "outputs": [],
   "source": [
    "import datetime\n",
    "import backtrader as bt\n",
    "import numpy as np"
   ]
  },
  {
   "cell_type": "markdown",
   "metadata": {},
   "source": [
    "# Single Line indicators"
   ]
  },
  {
   "cell_type": "code",
   "execution_count": 2,
   "metadata": {
    "ExecuteTime": {
     "end_time": "2020-06-19T06:18:53.183550Z",
     "start_time": "2020-06-19T06:18:53.179560Z"
    }
   },
   "outputs": [],
   "source": [
    "# using next method\n",
    "class RandomNumberIndicator(bt.Indicator):\n",
    "    lines = ('random_num',)\n",
    "    def next(self):\n",
    "        self.l.random_num[0] = np.random.random()"
   ]
  },
  {
   "cell_type": "code",
   "execution_count": 3,
   "metadata": {
    "ExecuteTime": {
     "end_time": "2020-06-19T06:18:53.194520Z",
     "start_time": "2020-06-19T06:18:53.184547Z"
    }
   },
   "outputs": [],
   "source": [
    "# using init method\n",
    "class SMAPlus10(bt.Indicator):\n",
    "    lines = ('smaplus10',)\n",
    "    def __init__(self):\n",
    "        self.l.smaplus10 = bt.indicators.SimpleMovingAverage(period=10) + 10\n",
    "    "
   ]
  },
  {
   "cell_type": "code",
   "execution_count": 4,
   "metadata": {
    "ExecuteTime": {
     "end_time": "2020-06-19T06:18:53.200504Z",
     "start_time": "2020-06-19T06:18:53.195518Z"
    }
   },
   "outputs": [],
   "source": [
    "class MyStrat(bt.Strategy):\n",
    "    \n",
    "    def __init__(self):\n",
    "        self.random_num = RandomNumberIndicator()\n",
    "        self.sma = bt.indicators.SimpleMovingAverage(period=10)\n",
    "        self.smaplus10 = SMAPlus10()\n",
    "        \n",
    "    def next(self):\n",
    "        print(f'Random Number: {self.random_num[0]}')\n",
    "        print(f'SMA: {self.sma[0]}')\n",
    "        print(f'SMA + 10: {self.smaplus10[0]}\\n')"
   ]
  },
  {
   "cell_type": "code",
   "execution_count": 5,
   "metadata": {
    "ExecuteTime": {
     "end_time": "2020-06-19T06:18:53.219454Z",
     "start_time": "2020-06-19T06:18:53.201503Z"
    },
    "code_folding": [
     3
    ]
   },
   "outputs": [
    {
     "name": "stdout",
     "output_type": "stream",
     "text": [
      "Random Number: 0.607869258890602\n",
      "SMA: 97.256\n",
      "SMA + 10: 107.256\n",
      "\n",
      "Random Number: 0.09771987737179155\n",
      "SMA: 97.088\n",
      "SMA + 10: 107.088\n",
      "\n",
      "Random Number: 0.30003487224319336\n",
      "SMA: 97.128\n",
      "SMA + 10: 107.128\n",
      "\n",
      "Random Number: 0.6399835341234879\n",
      "SMA: 96.96000000000001\n",
      "SMA + 10: 106.96000000000001\n",
      "\n"
     ]
    },
    {
     "data": {
      "text/plain": [
       "[<__main__.MyStrat at 0x1f2345c5e80>]"
      ]
     },
     "execution_count": 5,
     "metadata": {},
     "output_type": "execute_result"
    }
   ],
   "source": [
    "# Just to ensure that the strategy runs w/o errors. Nothing indicator specific below \n",
    "cerebro = bt.Cerebro()\n",
    "cerebro.addstrategy(MyStrat)\n",
    "data = bt.feeds.GenericCSVData(\n",
    "    dataname='ETF/uso.csv',\n",
    "    fromdate=datetime.datetime(2019, 7, 1),\n",
    "    todate=datetime.datetime(2019, 7, 19),\n",
    "    nullvalue=0.0,\n",
    "    dtformat=('%m/%d/%Y'),\n",
    "    datetime=0,\n",
    "    high=3,\n",
    "    low=4,\n",
    "    open=1,\n",
    "    close=2,\n",
    "    volume=5,\n",
    "    openinterest=-1\n",
    ")\n",
    "cerebro.adddata(data)\n",
    "cerebro.run()"
   ]
  },
  {
   "cell_type": "markdown",
   "metadata": {},
   "source": [
    "# Multi Line Indicator"
   ]
  },
  {
   "cell_type": "code",
   "execution_count": 6,
   "metadata": {
    "ExecuteTime": {
     "end_time": "2020-06-19T06:18:53.224466Z",
     "start_time": "2020-06-19T06:18:53.220480Z"
    }
   },
   "outputs": [],
   "source": [
    "class SMAPlus(bt.Indicator):\n",
    "    lines = ('smaplus10',)\n",
    "    def __init__(self):\n",
    "        self.l.smaplus10 = bt.indicators.SimpleMovingAverage(period=10) + 10\n",
    "        self.l.smaplus20 = bt.indicators.SimpleMovingAverage(period=10) + 20"
   ]
  },
  {
   "cell_type": "code",
   "execution_count": 7,
   "metadata": {
    "ExecuteTime": {
     "end_time": "2020-06-19T06:18:53.230424Z",
     "start_time": "2020-06-19T06:18:53.225438Z"
    }
   },
   "outputs": [],
   "source": [
    "class MyStrat(bt.Strategy):\n",
    "    \n",
    "    def __init__(self):\n",
    "        self.smaplus = SMAPlus()\n",
    "        \n",
    "    def next(self):\n",
    "        print(f'SMA + 10: {self.smaplus.smaplus10[0]}')\n",
    "        print(f'SMA + 20: {self.smaplus.smaplus20[0]}\\n')"
   ]
  },
  {
   "cell_type": "code",
   "execution_count": 8,
   "metadata": {
    "ExecuteTime": {
     "end_time": "2020-06-19T06:18:53.243390Z",
     "start_time": "2020-06-19T06:18:53.231422Z"
    },
    "code_folding": [
     2
    ]
   },
   "outputs": [
    {
     "name": "stdout",
     "output_type": "stream",
     "text": [
      "SMA + 10: 107.256\n",
      "SMA + 20: 116.96000000000001\n",
      "\n",
      "SMA + 10: 107.088\n",
      "SMA + 20: 116.96000000000001\n",
      "\n",
      "SMA + 10: 107.128\n",
      "SMA + 20: 116.96000000000001\n",
      "\n",
      "SMA + 10: 106.96000000000001\n",
      "SMA + 20: 116.96000000000001\n",
      "\n"
     ]
    },
    {
     "data": {
      "text/plain": [
       "[<__main__.MyStrat at 0x1f234604b38>]"
      ]
     },
     "execution_count": 8,
     "metadata": {},
     "output_type": "execute_result"
    }
   ],
   "source": [
    "cerebro = bt.Cerebro()\n",
    "cerebro.addstrategy(MyStrat)\n",
    "data = bt.feeds.GenericCSVData(\n",
    "    dataname='ETF/uso.csv',\n",
    "    fromdate=datetime.datetime(2019, 7, 1),\n",
    "    todate=datetime.datetime(2019, 7, 19),\n",
    "    nullvalue=0.0,\n",
    "    dtformat=('%m/%d/%Y'),\n",
    "    datetime=0,\n",
    "    high=3,\n",
    "    low=4,\n",
    "    open=1,\n",
    "    close=2,\n",
    "    volume=5,\n",
    "    openinterest=-1\n",
    ")\n",
    "cerebro.adddata(data)\n",
    "cerebro.run()"
   ]
  }
 ],
 "metadata": {
  "kernelspec": {
   "display_name": "Python 3",
   "language": "python",
   "name": "python3"
  },
  "language_info": {
   "codemirror_mode": {
    "name": "ipython",
    "version": 3
   },
   "file_extension": ".py",
   "mimetype": "text/x-python",
   "name": "python",
   "nbconvert_exporter": "python",
   "pygments_lexer": "ipython3",
   "version": "3.6.8"
  },
  "toc": {
   "base_numbering": 1,
   "nav_menu": {},
   "number_sections": true,
   "sideBar": true,
   "skip_h1_title": false,
   "title_cell": "Table of Contents",
   "title_sidebar": "Contents",
   "toc_cell": false,
   "toc_position": {},
   "toc_section_display": true,
   "toc_window_display": false
  }
 },
 "nbformat": 4,
 "nbformat_minor": 4
}
