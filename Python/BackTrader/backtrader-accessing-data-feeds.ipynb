{
 "cells": [
  {
   "cell_type": "code",
   "execution_count": 1,
   "metadata": {
    "ExecuteTime": {
     "end_time": "2020-07-21T05:32:10.101552Z",
     "start_time": "2020-07-21T05:32:09.951919Z"
    }
   },
   "outputs": [],
   "source": [
    "import os\n",
    "import datetime\n",
    "import backtrader as bt"
   ]
  },
  {
   "cell_type": "code",
   "execution_count": 2,
   "metadata": {
    "ExecuteTime": {
     "end_time": "2020-07-21T05:32:10.105519Z",
     "start_time": "2020-07-21T05:32:10.102526Z"
    }
   },
   "outputs": [],
   "source": [
    "class MyStrat(bt.Strategy):\n",
    "    pass"
   ]
  },
  {
   "cell_type": "code",
   "execution_count": 3,
   "metadata": {
    "ExecuteTime": {
     "end_time": "2020-07-21T05:32:10.130451Z",
     "start_time": "2020-07-21T05:32:10.106516Z"
    }
   },
   "outputs": [
    {
     "data": {
      "text/plain": [
       "10000.0"
      ]
     },
     "execution_count": 3,
     "metadata": {},
     "output_type": "execute_result"
    }
   ],
   "source": [
    "cerebro = bt.Cerebro()\n",
    "\n",
    "cerebro.addstrategy(MyStrat)\n",
    "\n",
    "fromdate, todate = datetime.datetime(2019, 6, 15), datetime.datetime(2019, 6, 19)\n",
    "folder = 'ETF'\n",
    "for file in os.listdir(folder):\n",
    "    dn = os.path.join(folder, file)\n",
    "    data = bt.feeds.GenericCSVData(\n",
    "        dataname=dn,\n",
    "        fromdate=fromdate,\n",
    "        todate=todate,\n",
    "        nullvalue=0.0,\n",
    "        dtformat=('%m/%d/%Y'),\n",
    "        datetime=0,\n",
    "        high=3,\n",
    "        low=4,\n",
    "        open=1,\n",
    "        close=2,\n",
    "        volume=5,\n",
    "        openinterest=-1\n",
    "    )\n",
    "    cerebro.adddata(data)\n",
    "\n",
    "cerebro.broker.setcash(10000)\n",
    "cerebro.broker.set_coc(True)\n",
    "strat = cerebro.run()[0]\n",
    "cerebro.broker.getvalue()"
   ]
  },
  {
   "cell_type": "code",
   "execution_count": 4,
   "metadata": {
    "ExecuteTime": {
     "end_time": "2020-07-21T05:32:10.135438Z",
     "start_time": "2020-07-21T05:32:10.131450Z"
    }
   },
   "outputs": [
    {
     "data": {
      "text/plain": [
       "{'gld': <backtrader.feeds.csvgeneric.GenericCSVData at 0x2619a624d30>,\n",
       " 'spy': <backtrader.feeds.csvgeneric.GenericCSVData at 0x2619a6215f8>,\n",
       " 'uso': <backtrader.feeds.csvgeneric.GenericCSVData at 0x2619a621be0>}"
      ]
     },
     "execution_count": 4,
     "metadata": {},
     "output_type": "execute_result"
    }
   ],
   "source": [
    "strat.dnames # probably clearest way to access data feeds"
   ]
  },
  {
   "cell_type": "code",
   "execution_count": 5,
   "metadata": {
    "ExecuteTime": {
     "end_time": "2020-07-21T05:32:10.140425Z",
     "start_time": "2020-07-21T05:32:10.136436Z"
    }
   },
   "outputs": [
    {
     "data": {
      "text/plain": [
       "[<backtrader.feeds.csvgeneric.GenericCSVData at 0x2619a624d30>,\n",
       " <backtrader.feeds.csvgeneric.GenericCSVData at 0x2619a6215f8>,\n",
       " <backtrader.feeds.csvgeneric.GenericCSVData at 0x2619a621be0>]"
      ]
     },
     "execution_count": 5,
     "metadata": {},
     "output_type": "execute_result"
    }
   ],
   "source": [
    "strat.datas # list of data feeds"
   ]
  },
  {
   "cell_type": "code",
   "execution_count": 6,
   "metadata": {
    "ExecuteTime": {
     "end_time": "2020-07-21T05:32:10.146409Z",
     "start_time": "2020-07-21T05:32:10.141423Z"
    }
   },
   "outputs": [
    {
     "data": {
      "text/plain": [
       "(<backtrader.feeds.csvgeneric.GenericCSVData at 0x2619a624d30>,\n",
       " <backtrader.feeds.csvgeneric.GenericCSVData at 0x2619a624d30>,\n",
       " <backtrader.feeds.csvgeneric.GenericCSVData at 0x2619a624d30>)"
      ]
     },
     "execution_count": 6,
     "metadata": {},
     "output_type": "execute_result"
    }
   ],
   "source": [
    "strat.data, strat.datas[0], strat.data0 # all the same"
   ]
  },
  {
   "cell_type": "code",
   "execution_count": 7,
   "metadata": {
    "ExecuteTime": {
     "end_time": "2020-07-21T05:32:10.151396Z",
     "start_time": "2020-07-21T05:32:10.147407Z"
    }
   },
   "outputs": [
    {
     "data": {
      "text/plain": [
       "(<backtrader.feeds.csvgeneric.GenericCSVData at 0x2619a624d30>,\n",
       " <backtrader.feeds.csvgeneric.GenericCSVData at 0x2619a6215f8>,\n",
       " <backtrader.feeds.csvgeneric.GenericCSVData at 0x2619a621be0>)"
      ]
     },
     "execution_count": 7,
     "metadata": {},
     "output_type": "execute_result"
    }
   ],
   "source": [
    "strat.data0, strat.data1, strat.data2 # alternative ways to access data feeds"
   ]
  },
  {
   "cell_type": "code",
   "execution_count": 8,
   "metadata": {
    "ExecuteTime": {
     "end_time": "2020-07-21T05:32:10.156383Z",
     "start_time": "2020-07-21T05:32:10.152393Z"
    }
   },
   "outputs": [
    {
     "data": {
      "text/plain": [
       "('close', 'low', 'high', 'open', 'volume', 'openinterest', 'datetime')"
      ]
     },
     "execution_count": 8,
     "metadata": {},
     "output_type": "execute_result"
    }
   ],
   "source": [
    "gld = strat.dnames['gld']\n",
    "gld.getlinealiases()"
   ]
  },
  {
   "cell_type": "code",
   "execution_count": 9,
   "metadata": {
    "ExecuteTime": {
     "end_time": "2020-07-21T05:32:10.162367Z",
     "start_time": "2020-07-21T05:32:10.157380Z"
    }
   },
   "outputs": [
    {
     "data": {
      "text/plain": [
       "(<backtrader.linebuffer.LineBuffer at 0x2619a624dd8>,\n",
       " <backtrader.linebuffer.LineBuffer at 0x2619a624dd8>,\n",
       " <backtrader.linebuffer.LineBuffer at 0x2619a624dd8>)"
      ]
     },
     "execution_count": 9,
     "metadata": {},
     "output_type": "execute_result"
    }
   ],
   "source": [
    "gld.close, gld.l.close, gld.lines.close # all the same"
   ]
  },
  {
   "cell_type": "code",
   "execution_count": 10,
   "metadata": {
    "ExecuteTime": {
     "end_time": "2020-07-21T05:32:10.167355Z",
     "start_time": "2020-07-21T05:32:10.163363Z"
    }
   },
   "outputs": [
    {
     "data": {
      "text/plain": [
       "(array('d', [126.48, 127.12]), array('d', [126.48, 127.12]))"
      ]
     },
     "execution_count": 10,
     "metadata": {},
     "output_type": "execute_result"
    }
   ],
   "source": [
    "gld.close.array, gld.array # same thing"
   ]
  },
  {
   "cell_type": "code",
   "execution_count": 11,
   "metadata": {
    "ExecuteTime": {
     "end_time": "2020-07-21T05:32:10.173337Z",
     "start_time": "2020-07-21T05:32:10.169347Z"
    }
   },
   "outputs": [
    {
     "data": {
      "text/plain": [
       "(126.48, 127.12)"
      ]
     },
     "execution_count": 11,
     "metadata": {},
     "output_type": "execute_result"
    }
   ],
   "source": [
    "gld.close[-1], gld.close[0]"
   ]
  }
 ],
 "metadata": {
  "kernelspec": {
   "display_name": "Python 3",
   "language": "python",
   "name": "python3"
  },
  "language_info": {
   "codemirror_mode": {
    "name": "ipython",
    "version": 3
   },
   "file_extension": ".py",
   "mimetype": "text/x-python",
   "name": "python",
   "nbconvert_exporter": "python",
   "pygments_lexer": "ipython3",
   "version": "3.6.8"
  },
  "toc": {
   "base_numbering": 1,
   "nav_menu": {},
   "number_sections": true,
   "sideBar": true,
   "skip_h1_title": false,
   "title_cell": "Table of Contents",
   "title_sidebar": "Contents",
   "toc_cell": false,
   "toc_position": {},
   "toc_section_display": true,
   "toc_window_display": false
  }
 },
 "nbformat": 4,
 "nbformat_minor": 4
}
