{
 "cells": [
  {
   "cell_type": "code",
   "execution_count": 1,
   "metadata": {
    "ExecuteTime": {
     "end_time": "2020-07-21T05:49:20.518833Z",
     "start_time": "2020-07-21T05:49:20.068972Z"
    }
   },
   "outputs": [],
   "source": [
    "import datetime\n",
    "import os\n",
    "import backtrader as bt\n",
    "import pandas as pd"
   ]
  },
  {
   "cell_type": "code",
   "execution_count": 2,
   "metadata": {
    "ExecuteTime": {
     "end_time": "2020-07-21T05:49:20.522824Z",
     "start_time": "2020-07-21T05:49:20.519831Z"
    }
   },
   "outputs": [],
   "source": [
    "class MyStrat(bt.Strategy):\n",
    "    \n",
    "    def next(self):\n",
    "        if not self.position:\n",
    "            self.buy()\n",
    "        else:\n",
    "            self.sell()\n"
   ]
  },
  {
   "cell_type": "code",
   "execution_count": 3,
   "metadata": {
    "ExecuteTime": {
     "end_time": "2020-07-21T05:49:20.543767Z",
     "start_time": "2020-07-21T05:49:20.523820Z"
    }
   },
   "outputs": [
    {
     "data": {
      "text/plain": [
       "9998.680000000002"
      ]
     },
     "execution_count": 3,
     "metadata": {},
     "output_type": "execute_result"
    }
   ],
   "source": [
    "cerebro = bt.Cerebro(stdstats=True) # stdstats=True is default. This adds default observers (broker, trades, buysell)\n",
    "\n",
    "cerebro.addstrategy(MyStrat)\n",
    "\n",
    "fromdate, todate = datetime.datetime(2019, 6, 13), datetime.datetime(2019, 6, 20)\n",
    "folder = 'ETF'\n",
    "for file in os.listdir(folder):\n",
    "    dn = os.path.join(folder, file)\n",
    "    data = bt.feeds.GenericCSVData(\n",
    "        dataname=dn,\n",
    "        fromdate=fromdate,\n",
    "        todate=todate,\n",
    "        nullvalue=0.0,\n",
    "        dtformat=('%m/%d/%Y'),\n",
    "        datetime=0,\n",
    "        high=3,\n",
    "        low=4,\n",
    "        open=1,\n",
    "        close=2,\n",
    "        volume=5,\n",
    "        openinterest=-1\n",
    "    )\n",
    "    cerebro.adddata(data)\n",
    "\n",
    "cerebro.broker.setcash(10000)\n",
    "results = cerebro.run()\n",
    "strat = results[0]\n",
    "cerebro.broker.getvalue()"
   ]
  },
  {
   "cell_type": "code",
   "execution_count": 4,
   "metadata": {
    "ExecuteTime": {
     "end_time": "2020-07-21T05:49:20.548754Z",
     "start_time": "2020-07-21T05:49:20.544764Z"
    }
   },
   "outputs": [
    {
     "data": {
      "text/plain": [
       "[('broker', <backtrader.observers.broker.Broker at 0x1fd7f731748>),\n",
       " ('datatrades', <backtrader.observers.trades.DataTrades at 0x1fd7f739278>)]"
      ]
     },
     "execution_count": 4,
     "metadata": {},
     "output_type": "execute_result"
    }
   ],
   "source": [
    "# default observers\n",
    "# if stdstats=False this list would be empty\n",
    "list(strat.stats.getitems())"
   ]
  },
  {
   "cell_type": "code",
   "execution_count": 5,
   "metadata": {
    "ExecuteTime": {
     "end_time": "2020-07-21T05:49:20.553740Z",
     "start_time": "2020-07-21T05:49:20.549751Z"
    }
   },
   "outputs": [
    {
     "data": {
      "text/plain": [
       "('cash', 'value')"
      ]
     },
     "execution_count": 5,
     "metadata": {},
     "output_type": "execute_result"
    }
   ],
   "source": [
    "strat.stats.broker._getlines()"
   ]
  },
  {
   "cell_type": "code",
   "execution_count": 6,
   "metadata": {
    "ExecuteTime": {
     "end_time": "2020-07-21T05:49:20.558727Z",
     "start_time": "2020-07-21T05:49:20.554737Z"
    }
   },
   "outputs": [
    {
     "data": {
      "text/plain": [
       "array('d', [10000.0, 9872.79, 9999.490000000002, 9871.910000000002, 9998.680000000002, nan, nan, nan, nan, nan])"
      ]
     },
     "execution_count": 6,
     "metadata": {},
     "output_type": "execute_result"
    }
   ],
   "source": [
    "strat.stats.broker.cash.array"
   ]
  },
  {
   "cell_type": "code",
   "execution_count": 7,
   "metadata": {
    "ExecuteTime": {
     "end_time": "2020-07-21T05:49:20.563714Z",
     "start_time": "2020-07-21T05:49:20.559725Z"
    }
   },
   "outputs": [
    {
     "data": {
      "text/plain": [
       "array('d', [10000.0, 9999.35, 9999.490000000002, 9999.030000000002, 9998.680000000002, nan, nan, nan, nan, nan])"
      ]
     },
     "execution_count": 7,
     "metadata": {},
     "output_type": "execute_result"
    }
   ],
   "source": [
    "strat.stats.broker.value.array"
   ]
  },
  {
   "cell_type": "code",
   "execution_count": 8,
   "metadata": {
    "ExecuteTime": {
     "end_time": "2020-07-21T05:49:20.570695Z",
     "start_time": "2020-07-21T05:49:20.564711Z"
    }
   },
   "outputs": [
    {
     "data": {
      "text/plain": [
       "('gld', 'spy', 'uso')"
      ]
     },
     "execution_count": 8,
     "metadata": {},
     "output_type": "execute_result"
    }
   ],
   "source": [
    "strat.stats.datatrades._getlines()"
   ]
  },
  {
   "cell_type": "code",
   "execution_count": 9,
   "metadata": {
    "ExecuteTime": {
     "end_time": "2020-07-21T05:49:20.575683Z",
     "start_time": "2020-07-21T05:49:20.571692Z"
    }
   },
   "outputs": [
    {
     "data": {
      "text/plain": [
       "array('d', [nan, nan, -0.5099999999999909, nan, -0.8100000000000023, nan, nan, nan, nan, nan])"
      ]
     },
     "execution_count": 9,
     "metadata": {},
     "output_type": "execute_result"
    }
   ],
   "source": [
    "strat.stats.datatrades.gld.array"
   ]
  },
  {
   "cell_type": "code",
   "execution_count": 10,
   "metadata": {
    "ExecuteTime": {
     "end_time": "2020-07-21T05:49:20.580668Z",
     "start_time": "2020-07-21T05:49:20.576679Z"
    }
   },
   "outputs": [
    {
     "data": {
      "text/plain": [
       "[<backtrader.observers.buysell.BuySell at 0x1fd7f731b38>,\n",
       " <backtrader.observers.buysell.BuySell at 0x1fd7f731da0>,\n",
       " <backtrader.observers.buysell.BuySell at 0x1fd7f739048>]"
      ]
     },
     "execution_count": 10,
     "metadata": {},
     "output_type": "execute_result"
    }
   ],
   "source": [
    "# list of buysell observers\n",
    "# if stdstats=False this attribute wouldn't exist\n",
    "strat.stats.buysell"
   ]
  },
  {
   "cell_type": "code",
   "execution_count": 11,
   "metadata": {
    "ExecuteTime": {
     "end_time": "2020-07-21T05:49:20.586652Z",
     "start_time": "2020-07-21T05:49:20.581665Z"
    }
   },
   "outputs": [
    {
     "name": "stdout",
     "output_type": "stream",
     "text": [
      "gld\n",
      "spy\n",
      "uso\n"
     ]
    }
   ],
   "source": [
    "# one buysell observer for each data feed\n",
    "for i in range(len(strat.stats.buysell)):\n",
    "    print(strat.stats.buysell[i].data._name)"
   ]
  },
  {
   "cell_type": "code",
   "execution_count": 12,
   "metadata": {
    "ExecuteTime": {
     "end_time": "2020-07-21T05:49:20.591640Z",
     "start_time": "2020-07-21T05:49:20.587649Z"
    }
   },
   "outputs": [
    {
     "data": {
      "text/plain": [
       "('buy', 'sell')"
      ]
     },
     "execution_count": 12,
     "metadata": {},
     "output_type": "execute_result"
    }
   ],
   "source": [
    "strat.stats.buysell[0]._getlines()"
   ]
  },
  {
   "cell_type": "code",
   "execution_count": 13,
   "metadata": {
    "ExecuteTime": {
     "end_time": "2020-07-21T05:49:20.597623Z",
     "start_time": "2020-07-21T05:49:20.592636Z"
    }
   },
   "outputs": [
    {
     "data": {
      "text/plain": [
       "array('d', [nan, 124.3661, nan, 124.49415, nan, nan, nan, nan, nan, nan])"
      ]
     },
     "execution_count": 13,
     "metadata": {},
     "output_type": "execute_result"
    }
   ],
   "source": [
    "strat.stats.buysell[0].buy.array"
   ]
  },
  {
   "cell_type": "code",
   "execution_count": 14,
   "metadata": {
    "ExecuteTime": {
     "end_time": "2020-07-21T05:49:20.602609Z",
     "start_time": "2020-07-21T05:49:20.598620Z"
    }
   },
   "outputs": [
    {
     "data": {
      "text/plain": [
       "array('d', [nan, nan, 128.67155, nan, 129.90984999999998, nan, nan, nan, nan, nan])"
      ]
     },
     "execution_count": 14,
     "metadata": {},
     "output_type": "execute_result"
    }
   ],
   "source": [
    " strat.stats.buysell[0].sell.array"
   ]
  }
 ],
 "metadata": {
  "kernelspec": {
   "display_name": "Python 3",
   "language": "python",
   "name": "python3"
  },
  "language_info": {
   "codemirror_mode": {
    "name": "ipython",
    "version": 3
   },
   "file_extension": ".py",
   "mimetype": "text/x-python",
   "name": "python",
   "nbconvert_exporter": "python",
   "pygments_lexer": "ipython3",
   "version": "3.6.8"
  },
  "toc": {
   "base_numbering": 1,
   "nav_menu": {},
   "number_sections": true,
   "sideBar": true,
   "skip_h1_title": false,
   "title_cell": "Table of Contents",
   "title_sidebar": "Contents",
   "toc_cell": false,
   "toc_position": {},
   "toc_section_display": true,
   "toc_window_display": false
  }
 },
 "nbformat": 4,
 "nbformat_minor": 4
}
