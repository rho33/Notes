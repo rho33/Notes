{
 "cells": [
  {
   "cell_type": "code",
   "execution_count": 1,
   "metadata": {
    "ExecuteTime": {
     "end_time": "2020-07-21T05:46:50.517853Z",
     "start_time": "2020-07-21T05:46:50.362296Z"
    }
   },
   "outputs": [],
   "source": [
    "import datetime\n",
    "import os\n",
    "import backtrader as bt"
   ]
  },
  {
   "cell_type": "code",
   "execution_count": 2,
   "metadata": {
    "ExecuteTime": {
     "end_time": "2020-07-21T05:46:50.525832Z",
     "start_time": "2020-07-21T05:46:50.518850Z"
    }
   },
   "outputs": [],
   "source": [
    "\n",
    "class MyStrat(bt.Strategy):\n",
    "    \n",
    "    def nextstart(self):\n",
    "        '''buy gold at beginning of backtest'''\n",
    "        global buy_order\n",
    "        buy_order = self.buy(data=self.dnames['gld'], size=8)\n",
    "        \n",
    "    def next(self):\n",
    "        '''sell part of gold position on arbitrary sell day, then close entire position next day'''\n",
    "        current_date = bt.num2date(self.datetime[0]).date()\n",
    "        sell_day = todate.date() - datetime.timedelta(days=5)\n",
    "\n",
    "        if current_date > sell_day:\n",
    "            if self.positionsbyname['gld'].size == 8:\n",
    "                global sell_order\n",
    "                sell_order = self.sell(data=self.dnames['gld'], size=2)\n",
    "            elif self.positionsbyname['gld']:\n",
    "                global close_order\n",
    "                close_order = self.close()\n",
    "            \n",
    "    def stop(self):\n",
    "        global strat\n",
    "        strat = self"
   ]
  },
  {
   "cell_type": "code",
   "execution_count": 3,
   "metadata": {
    "ExecuteTime": {
     "end_time": "2020-07-21T05:46:50.547802Z",
     "start_time": "2020-07-21T05:46:50.526829Z"
    }
   },
   "outputs": [
    {
     "data": {
      "text/plain": [
       "10049.619999999999"
      ]
     },
     "execution_count": 3,
     "metadata": {},
     "output_type": "execute_result"
    }
   ],
   "source": [
    "cerebro = bt.Cerebro()\n",
    "\n",
    "cerebro.addstrategy(MyStrat)\n",
    "\n",
    "fromdate, todate = datetime.datetime(2019, 6, 15), datetime.datetime(2019, 7, 19)\n",
    "folder = 'ETF'\n",
    "for file in os.listdir(folder):\n",
    "    dn = os.path.join(folder, file)\n",
    "    data = bt.feeds.GenericCSVData(\n",
    "        dataname=dn,\n",
    "        fromdate=fromdate,\n",
    "        todate=todate,\n",
    "        nullvalue=0.0,\n",
    "        dtformat=('%m/%d/%Y'),\n",
    "        datetime=0,\n",
    "        high=3,\n",
    "        low=4,\n",
    "        open=1,\n",
    "        close=2,\n",
    "        volume=5,\n",
    "        openinterest=-1\n",
    "    )\n",
    "    cerebro.adddata(data)\n",
    "\n",
    "cerebro.broker.setcash(10000)\n",
    "cerebro.broker.set_coc(True)\n",
    "cerebro.run()\n",
    "cerebro.broker.getvalue()"
   ]
  },
  {
   "cell_type": "markdown",
   "metadata": {},
   "source": [
    "# Order Types"
   ]
  },
  {
   "cell_type": "code",
   "execution_count": 4,
   "metadata": {
    "ExecuteTime": {
     "end_time": "2020-07-21T05:46:50.552776Z",
     "start_time": "2020-07-21T05:46:50.548770Z"
    }
   },
   "outputs": [
    {
     "data": {
      "text/plain": [
       "<backtrader.order.BuyOrder at 0x18e4c6ee0b8>"
      ]
     },
     "execution_count": 4,
     "metadata": {},
     "output_type": "execute_result"
    }
   ],
   "source": [
    "buy_order"
   ]
  },
  {
   "cell_type": "code",
   "execution_count": 5,
   "metadata": {
    "ExecuteTime": {
     "end_time": "2020-07-21T05:46:50.557770Z",
     "start_time": "2020-07-21T05:46:50.553757Z"
    }
   },
   "outputs": [
    {
     "data": {
      "text/plain": [
       "(['Buy', 'Sell'], 0)"
      ]
     },
     "execution_count": 5,
     "metadata": {},
     "output_type": "execute_result"
    }
   ],
   "source": [
    "buy_order.OrdTypes, buy_order.ordtype"
   ]
  },
  {
   "cell_type": "code",
   "execution_count": 6,
   "metadata": {
    "ExecuteTime": {
     "end_time": "2020-07-21T05:46:50.562758Z",
     "start_time": "2020-07-21T05:46:50.558744Z"
    }
   },
   "outputs": [
    {
     "data": {
      "text/plain": [
       "(True, False, False)"
      ]
     },
     "execution_count": 6,
     "metadata": {},
     "output_type": "execute_result"
    }
   ],
   "source": [
    "buy_order.isbuy(), buy_order.issell(), buy_order.alive()"
   ]
  },
  {
   "cell_type": "code",
   "execution_count": 7,
   "metadata": {
    "ExecuteTime": {
     "end_time": "2020-07-21T05:46:50.568718Z",
     "start_time": "2020-07-21T05:46:50.563730Z"
    }
   },
   "outputs": [
    {
     "data": {
      "text/plain": [
       "(0, ['Buy', 'Sell'])"
      ]
     },
     "execution_count": 7,
     "metadata": {},
     "output_type": "execute_result"
    }
   ],
   "source": [
    "buy_order.ordtype, buy_order.OrdTypes"
   ]
  },
  {
   "cell_type": "code",
   "execution_count": 8,
   "metadata": {
    "ExecuteTime": {
     "end_time": "2020-07-21T05:46:50.574702Z",
     "start_time": "2020-07-21T05:46:50.569714Z"
    }
   },
   "outputs": [
    {
     "data": {
      "text/plain": [
       "(<backtrader.order.SellOrder at 0x18e4c6ee3c8>, True, 1)"
      ]
     },
     "execution_count": 8,
     "metadata": {},
     "output_type": "execute_result"
    }
   ],
   "source": [
    "sell_order, sell_order.issell(), sell_order.ordtype"
   ]
  },
  {
   "cell_type": "code",
   "execution_count": 9,
   "metadata": {
    "ExecuteTime": {
     "end_time": "2020-07-21T05:46:50.580686Z",
     "start_time": "2020-07-21T05:46:50.575699Z"
    }
   },
   "outputs": [
    {
     "data": {
      "text/plain": [
       "(<backtrader.order.SellOrder at 0x18e4c6ee630>, True, 1)"
      ]
     },
     "execution_count": 9,
     "metadata": {},
     "output_type": "execute_result"
    }
   ],
   "source": [
    "close_order, close_order.issell(), close_order.ordtype"
   ]
  },
  {
   "cell_type": "markdown",
   "metadata": {},
   "source": [
    "# Order Status"
   ]
  },
  {
   "cell_type": "code",
   "execution_count": 10,
   "metadata": {
    "ExecuteTime": {
     "end_time": "2020-07-21T05:46:50.585672Z",
     "start_time": "2020-07-21T05:46:50.581682Z"
    }
   },
   "outputs": [
    {
     "data": {
      "text/plain": [
       "['Created',\n",
       " 'Submitted',\n",
       " 'Accepted',\n",
       " 'Partial',\n",
       " 'Completed',\n",
       " 'Canceled',\n",
       " 'Expired',\n",
       " 'Margin',\n",
       " 'Rejected']"
      ]
     },
     "execution_count": 10,
     "metadata": {},
     "output_type": "execute_result"
    }
   ],
   "source": [
    "buy_order.Status"
   ]
  },
  {
   "cell_type": "code",
   "execution_count": 11,
   "metadata": {
    "ExecuteTime": {
     "end_time": "2020-07-21T05:46:50.591656Z",
     "start_time": "2020-07-21T05:46:50.586669Z"
    }
   },
   "outputs": [
    {
     "data": {
      "text/plain": [
       "(0, 1, 2, 3, 4)"
      ]
     },
     "execution_count": 11,
     "metadata": {},
     "output_type": "execute_result"
    }
   ],
   "source": [
    "# order statuses are integers which match their index position in above list (buy_order.Status)\n",
    "buy_order.Created, buy_order.Submitted, buy_order.Accepted, buy_order.Partial, buy_order.Completed"
   ]
  },
  {
   "cell_type": "code",
   "execution_count": 12,
   "metadata": {
    "ExecuteTime": {
     "end_time": "2020-07-21T05:46:50.597640Z",
     "start_time": "2020-07-21T05:46:50.592652Z"
    }
   },
   "outputs": [
    {
     "data": {
      "text/plain": [
       "(4, True)"
      ]
     },
     "execution_count": 12,
     "metadata": {},
     "output_type": "execute_result"
    }
   ],
   "source": [
    "buy_order.status, buy_order.status == buy_order.Completed"
   ]
  },
  {
   "cell_type": "markdown",
   "metadata": {},
   "source": [
    "# Execution Types"
   ]
  },
  {
   "cell_type": "code",
   "execution_count": 13,
   "metadata": {
    "ExecuteTime": {
     "end_time": "2020-07-21T05:46:50.603623Z",
     "start_time": "2020-07-21T05:46:50.598637Z"
    }
   },
   "outputs": [
    {
     "data": {
      "text/plain": [
       "['Market',\n",
       " 'Close',\n",
       " 'Limit',\n",
       " 'Stop',\n",
       " 'StopLimit',\n",
       " 'StopTrail',\n",
       " 'StopTrailLimit',\n",
       " 'Historical']"
      ]
     },
     "execution_count": 13,
     "metadata": {},
     "output_type": "execute_result"
    }
   ],
   "source": [
    "buy_order.ExecTypes"
   ]
  },
  {
   "cell_type": "code",
   "execution_count": 14,
   "metadata": {
    "ExecuteTime": {
     "end_time": "2020-07-21T05:46:50.608612Z",
     "start_time": "2020-07-21T05:46:50.604622Z"
    }
   },
   "outputs": [
    {
     "data": {
      "text/plain": [
       "(0, 1, 2)"
      ]
     },
     "execution_count": 14,
     "metadata": {},
     "output_type": "execute_result"
    }
   ],
   "source": [
    "# like statuses execution types are integers whcih match their index position in above list (buy_order.ExecTypes)\n",
    "buy_order.Market, buy_order.Close, buy_order.Limit"
   ]
  },
  {
   "cell_type": "code",
   "execution_count": 15,
   "metadata": {
    "ExecuteTime": {
     "end_time": "2020-07-21T05:46:50.614595Z",
     "start_time": "2020-07-21T05:46:50.610607Z"
    }
   },
   "outputs": [
    {
     "data": {
      "text/plain": [
       "(0, True)"
      ]
     },
     "execution_count": 15,
     "metadata": {},
     "output_type": "execute_result"
    }
   ],
   "source": [
    "buy_order.exectype, buy_order.exectype == buy_order.Market"
   ]
  },
  {
   "cell_type": "markdown",
   "metadata": {},
   "source": [
    "# Attributes"
   ]
  },
  {
   "cell_type": "code",
   "execution_count": 16,
   "metadata": {
    "ExecuteTime": {
     "end_time": "2020-07-21T05:46:50.619581Z",
     "start_time": "2020-07-21T05:46:50.615593Z"
    },
    "scrolled": true
   },
   "outputs": [
    {
     "data": {
      "text/plain": [
       "(<backtrader.feeds.csvgeneric.GenericCSVData at 0x18e4c6c6da0>, 'gld')"
      ]
     },
     "execution_count": 16,
     "metadata": {},
     "output_type": "execute_result"
    }
   ],
   "source": [
    "buy_order.data, buy_order.data._name"
   ]
  },
  {
   "cell_type": "code",
   "execution_count": 17,
   "metadata": {
    "ExecuteTime": {
     "end_time": "2020-07-21T05:46:50.624592Z",
     "start_time": "2020-07-21T05:46:50.620579Z"
    }
   },
   "outputs": [
    {
     "data": {
      "text/plain": [
       "1"
      ]
     },
     "execution_count": 17,
     "metadata": {},
     "output_type": "execute_result"
    }
   ],
   "source": [
    "# unique order identifier\n",
    "buy_order.ref"
   ]
  },
  {
   "cell_type": "code",
   "execution_count": 18,
   "metadata": {
    "ExecuteTime": {
     "end_time": "2020-07-21T05:46:50.629554Z",
     "start_time": "2020-07-21T05:46:50.625564Z"
    }
   },
   "outputs": [
    {
     "data": {
      "text/plain": [
       "<backtrader.order.OrderData at 0x18e4c6ee080>"
      ]
     },
     "execution_count": 18,
     "metadata": {},
     "output_type": "execute_result"
    }
   ],
   "source": [
    "# OrderData object holding creation data\n",
    "buy_order.created"
   ]
  },
  {
   "cell_type": "code",
   "execution_count": 19,
   "metadata": {
    "ExecuteTime": {
     "end_time": "2020-07-21T05:46:50.634540Z",
     "start_time": "2020-07-21T05:46:50.630551Z"
    }
   },
   "outputs": [
    {
     "data": {
      "text/plain": [
       "<backtrader.order.OrderData at 0x18e4c6ee048>"
      ]
     },
     "execution_count": 19,
     "metadata": {},
     "output_type": "execute_result"
    }
   ],
   "source": [
    "# OrderData object holding execution data\n",
    "buy_order.executed"
   ]
  },
  {
   "cell_type": "code",
   "execution_count": 20,
   "metadata": {
    "ExecuteTime": {
     "end_time": "2020-07-21T05:46:50.639528Z",
     "start_time": "2020-07-21T05:46:50.635538Z"
    }
   },
   "outputs": [
    {
     "data": {
      "text/plain": [
       "AutoOrderedDict()"
      ]
     },
     "execution_count": 20,
     "metadata": {},
     "output_type": "execute_result"
    }
   ],
   "source": [
    "# custom info passed over method addinfo(), empty in our case\n",
    "buy_order.info"
   ]
  },
  {
   "cell_type": "code",
   "execution_count": 21,
   "metadata": {
    "ExecuteTime": {
     "end_time": "2020-07-21T05:46:50.645511Z",
     "start_time": "2020-07-21T05:46:50.640527Z"
    }
   },
   "outputs": [
    {
     "data": {
      "text/plain": [
       "(0, ['Buy', 'Sell'])"
      ]
     },
     "execution_count": 21,
     "metadata": {},
     "output_type": "execute_result"
    }
   ],
   "source": [
    "buy_order.ordtype, buy_order.OrdTypes"
   ]
  },
  {
   "cell_type": "code",
   "execution_count": 22,
   "metadata": {
    "ExecuteTime": {
     "end_time": "2020-07-21T05:46:50.651496Z",
     "start_time": "2020-07-21T05:46:50.646508Z"
    },
    "scrolled": false
   },
   "outputs": [
    {
     "data": {
      "text/plain": [
       "['Accepted',\n",
       " 'Buy',\n",
       " 'Canceled',\n",
       " 'Cancelled',\n",
       " 'Close',\n",
       " 'Completed',\n",
       " 'Created',\n",
       " 'DAY',\n",
       " 'ExecType',\n",
       " 'ExecTypes',\n",
       " 'Expired',\n",
       " 'Historical',\n",
       " 'Limit',\n",
       " 'Margin',\n",
       " 'Market',\n",
       " 'OrdTypes',\n",
       " 'Partial',\n",
       " 'Rejected',\n",
       " 'Sell',\n",
       " 'Status',\n",
       " 'Stop',\n",
       " 'StopLimit',\n",
       " 'StopTrail',\n",
       " 'StopTrailLimit',\n",
       " 'Submitted',\n",
       " 'T_Close',\n",
       " 'T_Date',\n",
       " 'T_Day',\n",
       " 'T_None',\n",
       " 'V_None',\n",
       " '__class__',\n",
       " '__delattr__',\n",
       " '__dict__',\n",
       " '__dir__',\n",
       " '__doc__',\n",
       " '__eq__',\n",
       " '__format__',\n",
       " '__ge__',\n",
       " '__getattr__',\n",
       " '__getattribute__',\n",
       " '__gt__',\n",
       " '__hash__',\n",
       " '__init__',\n",
       " '__init_subclass__',\n",
       " '__le__',\n",
       " '__lt__',\n",
       " '__module__',\n",
       " '__ne__',\n",
       " '__new__',\n",
       " '__reduce__',\n",
       " '__reduce_ex__',\n",
       " '__repr__',\n",
       " '__setattr__',\n",
       " '__setattribute__',\n",
       " '__sizeof__',\n",
       " '__slotnames__',\n",
       " '__str__',\n",
       " '__subclasshook__',\n",
       " '__weakref__',\n",
       " '_active',\n",
       " '_getplimit',\n",
       " '_limitoffset',\n",
       " '_plimit',\n",
       " '_setplimit',\n",
       " 'accept',\n",
       " 'activate',\n",
       " 'active',\n",
       " 'addcomminfo',\n",
       " 'addinfo',\n",
       " 'alive',\n",
       " 'broker',\n",
       " 'brokerstatus',\n",
       " 'cancel',\n",
       " 'clone',\n",
       " 'comminfo',\n",
       " 'completed',\n",
       " 'created',\n",
       " 'dteos',\n",
       " 'exectype',\n",
       " 'execute',\n",
       " 'executed',\n",
       " 'expire',\n",
       " 'frompackages',\n",
       " 'getordername',\n",
       " 'getstatusname',\n",
       " 'info',\n",
       " 'isbuy',\n",
       " 'issell',\n",
       " 'margin',\n",
       " 'ordtype',\n",
       " 'ordtypename',\n",
       " 'p',\n",
       " 'packages',\n",
       " 'pannotated',\n",
       " 'params',\n",
       " 'partial',\n",
       " 'plen',\n",
       " 'plimit',\n",
       " 'position',\n",
       " 'ref',\n",
       " 'refbasis',\n",
       " 'reject',\n",
       " 'setposition',\n",
       " 'status',\n",
       " 'submit',\n",
       " 'trailadjust',\n",
       " 'triggered']"
      ]
     },
     "execution_count": 22,
     "metadata": {},
     "output_type": "execute_result"
    }
   ],
   "source": [
    "dir(buy_order)"
   ]
  },
  {
   "cell_type": "markdown",
   "metadata": {},
   "source": [
    "# OrderData scratch"
   ]
  },
  {
   "cell_type": "code",
   "execution_count": 23,
   "metadata": {
    "ExecuteTime": {
     "end_time": "2020-07-21T05:46:50.657479Z",
     "start_time": "2020-07-21T05:46:50.653490Z"
    }
   },
   "outputs": [
    {
     "data": {
      "text/plain": [
       "(8, 126.48, 1011.84)"
      ]
     },
     "execution_count": 23,
     "metadata": {},
     "output_type": "execute_result"
    }
   ],
   "source": [
    "buy_order.executed.size, buy_order.executed.price, buy_order.executed.value"
   ]
  },
  {
   "cell_type": "code",
   "execution_count": 24,
   "metadata": {
    "ExecuteTime": {
     "end_time": "2020-07-21T05:46:50.662467Z",
     "start_time": "2020-07-21T05:46:50.658477Z"
    }
   },
   "outputs": [
    {
     "data": {
      "text/plain": [
       "0.0"
      ]
     },
     "execution_count": 24,
     "metadata": {},
     "output_type": "execute_result"
    }
   ],
   "source": [
    "buy_order.executed.pnl"
   ]
  },
  {
   "cell_type": "code",
   "execution_count": 25,
   "metadata": {
    "ExecuteTime": {
     "end_time": "2020-07-21T05:46:50.667452Z",
     "start_time": "2020-07-21T05:46:50.663465Z"
    }
   },
   "outputs": [
    {
     "data": {
      "text/plain": [
       "<backtrader.order.OrderData at 0x18e4c6ee048>"
      ]
     },
     "execution_count": 25,
     "metadata": {},
     "output_type": "execute_result"
    }
   ],
   "source": [
    "buy_order.executed"
   ]
  },
  {
   "cell_type": "code",
   "execution_count": 26,
   "metadata": {
    "ExecuteTime": {
     "end_time": "2020-07-21T05:46:50.673436Z",
     "start_time": "2020-07-21T05:46:50.668450Z"
    },
    "scrolled": true
   },
   "outputs": [
    {
     "data": {
      "text/plain": [
       "['__class__',\n",
       " '__delattr__',\n",
       " '__dict__',\n",
       " '__dir__',\n",
       " '__doc__',\n",
       " '__eq__',\n",
       " '__format__',\n",
       " '__ge__',\n",
       " '__getattribute__',\n",
       " '__getitem__',\n",
       " '__gt__',\n",
       " '__hash__',\n",
       " '__init__',\n",
       " '__init_subclass__',\n",
       " '__le__',\n",
       " '__len__',\n",
       " '__lt__',\n",
       " '__module__',\n",
       " '__ne__',\n",
       " '__new__',\n",
       " '__reduce__',\n",
       " '__reduce_ex__',\n",
       " '__repr__',\n",
       " '__setattr__',\n",
       " '__sizeof__',\n",
       " '__slotnames__',\n",
       " '__str__',\n",
       " '__subclasshook__',\n",
       " '__weakref__',\n",
       " '_getplimit',\n",
       " '_plimit',\n",
       " '_setplimit',\n",
       " 'add',\n",
       " 'addbit',\n",
       " 'clone',\n",
       " 'comm',\n",
       " 'dt',\n",
       " 'exbits',\n",
       " 'getpending',\n",
       " 'iterpending',\n",
       " 'margin',\n",
       " 'markpending',\n",
       " 'p1',\n",
       " 'p2',\n",
       " 'pclose',\n",
       " 'plimit',\n",
       " 'pnl',\n",
       " 'pprice',\n",
       " 'price',\n",
       " 'pricelimit',\n",
       " 'psize',\n",
       " 'remsize',\n",
       " 'size',\n",
       " 'trailamount',\n",
       " 'trailpercent',\n",
       " 'value']"
      ]
     },
     "execution_count": 26,
     "metadata": {},
     "output_type": "execute_result"
    }
   ],
   "source": [
    "dir(buy_order.executed)"
   ]
  },
  {
   "cell_type": "code",
   "execution_count": 27,
   "metadata": {
    "ExecuteTime": {
     "end_time": "2020-07-21T05:46:50.678423Z",
     "start_time": "2020-07-21T05:46:50.674434Z"
    }
   },
   "outputs": [
    {
     "data": {
      "text/plain": [
       "<backtrader.order.OrderData at 0x18e4c6ee080>"
      ]
     },
     "execution_count": 27,
     "metadata": {},
     "output_type": "execute_result"
    }
   ],
   "source": [
    "buy_order.created"
   ]
  },
  {
   "cell_type": "code",
   "execution_count": 28,
   "metadata": {
    "ExecuteTime": {
     "end_time": "2020-07-21T05:46:50.683410Z",
     "start_time": "2020-07-21T05:46:50.679421Z"
    }
   },
   "outputs": [
    {
     "data": {
      "text/plain": [
       "(8, 126.48, 0.0)"
      ]
     },
     "execution_count": 28,
     "metadata": {},
     "output_type": "execute_result"
    }
   ],
   "source": [
    "buy_order.created.size, buy_order.created.price, buy_order.created.value"
   ]
  },
  {
   "cell_type": "code",
   "execution_count": 29,
   "metadata": {
    "ExecuteTime": {
     "end_time": "2020-07-21T05:46:50.688397Z",
     "start_time": "2020-07-21T05:46:50.684408Z"
    },
    "scrolled": true
   },
   "outputs": [
    {
     "data": {
      "text/plain": [
       "['__class__',\n",
       " '__delattr__',\n",
       " '__dict__',\n",
       " '__dir__',\n",
       " '__doc__',\n",
       " '__eq__',\n",
       " '__format__',\n",
       " '__ge__',\n",
       " '__getattribute__',\n",
       " '__getitem__',\n",
       " '__gt__',\n",
       " '__hash__',\n",
       " '__init__',\n",
       " '__init_subclass__',\n",
       " '__le__',\n",
       " '__len__',\n",
       " '__lt__',\n",
       " '__module__',\n",
       " '__ne__',\n",
       " '__new__',\n",
       " '__reduce__',\n",
       " '__reduce_ex__',\n",
       " '__repr__',\n",
       " '__setattr__',\n",
       " '__sizeof__',\n",
       " '__slotnames__',\n",
       " '__str__',\n",
       " '__subclasshook__',\n",
       " '__weakref__',\n",
       " '_getplimit',\n",
       " '_plimit',\n",
       " '_setplimit',\n",
       " 'add',\n",
       " 'addbit',\n",
       " 'clone',\n",
       " 'comm',\n",
       " 'dt',\n",
       " 'exbits',\n",
       " 'getpending',\n",
       " 'iterpending',\n",
       " 'margin',\n",
       " 'markpending',\n",
       " 'p1',\n",
       " 'p2',\n",
       " 'pclose',\n",
       " 'plimit',\n",
       " 'pnl',\n",
       " 'pprice',\n",
       " 'price',\n",
       " 'pricelimit',\n",
       " 'psize',\n",
       " 'remsize',\n",
       " 'size',\n",
       " 'trailamount',\n",
       " 'trailpercent',\n",
       " 'value']"
      ]
     },
     "execution_count": 29,
     "metadata": {},
     "output_type": "execute_result"
    }
   ],
   "source": [
    "dir(buy_order.created)"
   ]
  },
  {
   "cell_type": "code",
   "execution_count": 30,
   "metadata": {
    "ExecuteTime": {
     "end_time": "2020-07-21T05:46:50.693383Z",
     "start_time": "2020-07-21T05:46:50.689394Z"
    }
   },
   "outputs": [
    {
     "data": {
      "text/plain": [
       "True"
      ]
     },
     "execution_count": 30,
     "metadata": {},
     "output_type": "execute_result"
    }
   ],
   "source": [
    "type(buy_order.created) == type(buy_order.executed)"
   ]
  },
  {
   "cell_type": "code",
   "execution_count": 31,
   "metadata": {
    "ExecuteTime": {
     "end_time": "2020-07-21T05:46:50.697373Z",
     "start_time": "2020-07-21T05:46:50.694380Z"
    }
   },
   "outputs": [],
   "source": [
    "exbit = buy_order.executed.exbits[0]"
   ]
  },
  {
   "cell_type": "code",
   "execution_count": 32,
   "metadata": {
    "ExecuteTime": {
     "end_time": "2020-07-21T05:46:50.702359Z",
     "start_time": "2020-07-21T05:46:50.698369Z"
    }
   },
   "outputs": [
    {
     "data": {
      "text/plain": [
       "(8, 126.48, 1011.84)"
      ]
     },
     "execution_count": 32,
     "metadata": {},
     "output_type": "execute_result"
    }
   ],
   "source": [
    "exbit.size, exbit.price, exbit.value"
   ]
  },
  {
   "cell_type": "code",
   "execution_count": 33,
   "metadata": {
    "ExecuteTime": {
     "end_time": "2020-07-21T05:46:50.707346Z",
     "start_time": "2020-07-21T05:46:50.703356Z"
    }
   },
   "outputs": [
    {
     "data": {
      "text/plain": [
       "(737227.9999999999, datetime.datetime(2019, 6, 17, 23, 59, 59, 999989))"
      ]
     },
     "execution_count": 33,
     "metadata": {},
     "output_type": "execute_result"
    }
   ],
   "source": [
    "exbit.dt, bt.num2date(exbit.dt)"
   ]
  },
  {
   "cell_type": "code",
   "execution_count": 34,
   "metadata": {
    "ExecuteTime": {
     "end_time": "2020-07-21T05:46:50.712333Z",
     "start_time": "2020-07-21T05:46:50.708343Z"
    }
   },
   "outputs": [
    {
     "data": {
      "text/plain": [
       "<backtrader.order.OrderExecutionBit at 0x18e4c6ee198>"
      ]
     },
     "execution_count": 34,
     "metadata": {},
     "output_type": "execute_result"
    }
   ],
   "source": [
    "exbit"
   ]
  },
  {
   "cell_type": "code",
   "execution_count": 35,
   "metadata": {
    "ExecuteTime": {
     "end_time": "2020-07-21T05:46:50.717319Z",
     "start_time": "2020-07-21T05:46:50.713331Z"
    },
    "scrolled": true
   },
   "outputs": [
    {
     "data": {
      "text/plain": [
       "['__class__',\n",
       " '__delattr__',\n",
       " '__dict__',\n",
       " '__dir__',\n",
       " '__doc__',\n",
       " '__eq__',\n",
       " '__format__',\n",
       " '__ge__',\n",
       " '__getattribute__',\n",
       " '__gt__',\n",
       " '__hash__',\n",
       " '__init__',\n",
       " '__init_subclass__',\n",
       " '__le__',\n",
       " '__lt__',\n",
       " '__module__',\n",
       " '__ne__',\n",
       " '__new__',\n",
       " '__reduce__',\n",
       " '__reduce_ex__',\n",
       " '__repr__',\n",
       " '__setattr__',\n",
       " '__sizeof__',\n",
       " '__str__',\n",
       " '__subclasshook__',\n",
       " '__weakref__',\n",
       " 'closed',\n",
       " 'closedcomm',\n",
       " 'closedvalue',\n",
       " 'comm',\n",
       " 'dt',\n",
       " 'opened',\n",
       " 'openedcomm',\n",
       " 'openedvalue',\n",
       " 'pnl',\n",
       " 'pprice',\n",
       " 'price',\n",
       " 'psize',\n",
       " 'size',\n",
       " 'value']"
      ]
     },
     "execution_count": 35,
     "metadata": {},
     "output_type": "execute_result"
    }
   ],
   "source": [
    "dir(exbit)"
   ]
  },
  {
   "cell_type": "code",
   "execution_count": 36,
   "metadata": {
    "ExecuteTime": {
     "end_time": "2020-07-21T05:46:50.721308Z",
     "start_time": "2020-07-21T05:46:50.718317Z"
    }
   },
   "outputs": [
    {
     "data": {
      "text/plain": [
       "5"
      ]
     },
     "execution_count": 36,
     "metadata": {},
     "output_type": "execute_result"
    }
   ],
   "source": [
    "buy_order.Cancelled"
   ]
  },
  {
   "cell_type": "markdown",
   "metadata": {},
   "source": [
    "- buy\n",
    "- buy_bracket\n",
    "- cancel\n",
    "- clear?\n",
    "- close\n",
    "- extend?\n",
    "- forward?\n",
    "- reset?\n",
    "- sell\n",
    "- sell_bracket\n",
    "- order_target_percent\n",
    "- order_target_size\n",
    "- order_target_value"
   ]
  },
  {
   "cell_type": "code",
   "execution_count": 37,
   "metadata": {
    "ExecuteTime": {
     "end_time": "2020-07-21T05:46:50.727292Z",
     "start_time": "2020-07-21T05:46:50.722306Z"
    }
   },
   "outputs": [
    {
     "data": {
      "text/plain": [
       "<backtrader.order.BuyOrder at 0x18e4c716198>"
      ]
     },
     "execution_count": 37,
     "metadata": {},
     "output_type": "execute_result"
    }
   ],
   "source": [
    "strat.buy()"
   ]
  },
  {
   "cell_type": "code",
   "execution_count": 38,
   "metadata": {
    "ExecuteTime": {
     "end_time": "2020-07-21T05:46:50.733309Z",
     "start_time": "2020-07-21T05:46:50.728290Z"
    }
   },
   "outputs": [
    {
     "data": {
      "text/plain": [
       "['BrokerBase',\n",
       " '__class__',\n",
       " '__delattr__',\n",
       " '__dict__',\n",
       " '__dir__',\n",
       " '__doc__',\n",
       " '__eq__',\n",
       " '__format__',\n",
       " '__ge__',\n",
       " '__getattribute__',\n",
       " '__gt__',\n",
       " '__hash__',\n",
       " '__init__',\n",
       " '__init_subclass__',\n",
       " '__le__',\n",
       " '__lt__',\n",
       " '__module__',\n",
       " '__ne__',\n",
       " '__new__',\n",
       " '__reduce__',\n",
       " '__reduce_ex__',\n",
       " '__repr__',\n",
       " '__setattr__',\n",
       " '__sizeof__',\n",
       " '__str__',\n",
       " '__subclasshook__',\n",
       " '__weakref__',\n",
       " '_bracketize',\n",
       " '_cash_addition',\n",
       " '_execute',\n",
       " '_fhistlast',\n",
       " '_fundhist',\n",
       " '_fundshares',\n",
       " '_fundval',\n",
       " '_get_value',\n",
       " '_leverage',\n",
       " '_ococheck',\n",
       " '_ocoize',\n",
       " '_ocol',\n",
       " '_ocos',\n",
       " '_pchildren',\n",
       " '_process_fund_history',\n",
       " '_process_order_history',\n",
       " '_slip_down',\n",
       " '_slip_up',\n",
       " '_take_children',\n",
       " '_toactivate',\n",
       " '_try_exec',\n",
       " '_try_exec_close',\n",
       " '_try_exec_historical',\n",
       " '_try_exec_limit',\n",
       " '_try_exec_market',\n",
       " '_try_exec_stop',\n",
       " '_try_exec_stoplimit',\n",
       " '_unrealized',\n",
       " '_userhist',\n",
       " '_value',\n",
       " '_valuelever',\n",
       " '_valuemkt',\n",
       " '_valuemktlever',\n",
       " 'add_cash',\n",
       " 'add_order_history',\n",
       " 'addcommissioninfo',\n",
       " 'buy',\n",
       " 'cancel',\n",
       " 'cash',\n",
       " 'cerebro',\n",
       " 'check_submitted',\n",
       " 'comminfo',\n",
       " 'd_credit',\n",
       " 'frompackages',\n",
       " 'fundmode',\n",
       " 'fundshares',\n",
       " 'fundvalue',\n",
       " 'get_cash',\n",
       " 'get_fundmode',\n",
       " 'get_fundshares',\n",
       " 'get_fundvalue',\n",
       " 'get_leverage',\n",
       " 'get_notification',\n",
       " 'get_orders_open',\n",
       " 'get_value',\n",
       " 'get_value_lever',\n",
       " 'getcash',\n",
       " 'getcommissioninfo',\n",
       " 'getposition',\n",
       " 'getvalue',\n",
       " 'init',\n",
       " 'next',\n",
       " 'notifs',\n",
       " 'notify',\n",
       " 'orders',\n",
       " 'orderstatus',\n",
       " 'p',\n",
       " 'packages',\n",
       " 'params',\n",
       " 'pending',\n",
       " 'positions',\n",
       " 'sell',\n",
       " 'set_cash',\n",
       " 'set_checksubmit',\n",
       " 'set_coc',\n",
       " 'set_coo',\n",
       " 'set_eosbar',\n",
       " 'set_filler',\n",
       " 'set_fund_history',\n",
       " 'set_fundmode',\n",
       " 'set_fundstartval',\n",
       " 'set_int2pnl',\n",
       " 'set_shortcash',\n",
       " 'set_slippage_fixed',\n",
       " 'set_slippage_perc',\n",
       " 'setcash',\n",
       " 'setcommission',\n",
       " 'seteosbar',\n",
       " 'start',\n",
       " 'startingcash',\n",
       " 'stop',\n",
       " 'submit',\n",
       " 'submit_accept',\n",
       " 'submitted',\n",
       " 'transmit']"
      ]
     },
     "execution_count": 38,
     "metadata": {},
     "output_type": "execute_result"
    }
   ],
   "source": [
    "dir(strat.broker)"
   ]
  },
  {
   "cell_type": "code",
   "execution_count": 39,
   "metadata": {
    "ExecuteTime": {
     "end_time": "2020-07-21T05:46:50.740282Z",
     "start_time": "2020-07-21T05:46:50.734273Z"
    }
   },
   "outputs": [
    {
     "data": {
      "text/plain": [
       "['IndType',\n",
       " 'ObsType',\n",
       " 'PriceClose',\n",
       " 'PriceDateTime',\n",
       " 'PriceHigh',\n",
       " 'PriceLow',\n",
       " 'PriceOpen',\n",
       " 'PriceOpenInteres',\n",
       " 'PriceVolume',\n",
       " 'StratType',\n",
       " '_OwnerCls',\n",
       " '__abs__',\n",
       " '__add__',\n",
       " '__bool__',\n",
       " '__call__',\n",
       " '__class__',\n",
       " '__delattr__',\n",
       " '__dict__',\n",
       " '__dir__',\n",
       " '__div__',\n",
       " '__doc__',\n",
       " '__eq__',\n",
       " '__floordiv__',\n",
       " '__format__',\n",
       " '__ge__',\n",
       " '__getattr__',\n",
       " '__getattribute__',\n",
       " '__getitem__',\n",
       " '__gt__',\n",
       " '__hash__',\n",
       " '__init__',\n",
       " '__init_subclass__',\n",
       " '__le__',\n",
       " '__len__',\n",
       " '__lt__',\n",
       " '__module__',\n",
       " '__mul__',\n",
       " '__ne__',\n",
       " '__neg__',\n",
       " '__new__',\n",
       " '__nonzero__',\n",
       " '__pow__',\n",
       " '__radd__',\n",
       " '__rdiv__',\n",
       " '__reduce__',\n",
       " '__reduce_ex__',\n",
       " '__repr__',\n",
       " '__rfloordiv__',\n",
       " '__rmul__',\n",
       " '__rpow__',\n",
       " '__rsub__',\n",
       " '__rtruediv__',\n",
       " '__setattr__',\n",
       " '__setitem__',\n",
       " '__sizeof__',\n",
       " '__str__',\n",
       " '__sub__',\n",
       " '__subclasshook__',\n",
       " '__truediv__',\n",
       " '__weakref__',\n",
       " '_addanalyzer',\n",
       " '_addanalyzer_slave',\n",
       " '_addindicator',\n",
       " '_addnotification',\n",
       " '_addobserver',\n",
       " '_addsizer',\n",
       " '_addwriter',\n",
       " '_alnames',\n",
       " '_clk_update',\n",
       " '_clock',\n",
       " '_dlens',\n",
       " '_getanalyzer_slave',\n",
       " '_getline',\n",
       " '_getminperstatus',\n",
       " '_id',\n",
       " '_lineiterators',\n",
       " '_ltype',\n",
       " '_makeoperation',\n",
       " '_makeoperationown',\n",
       " '_mindatas',\n",
       " '_minperiod',\n",
       " '_minperiods',\n",
       " '_minperstatus',\n",
       " '_next',\n",
       " '_next_analyzers',\n",
       " '_next_observers',\n",
       " '_next_open',\n",
       " '_nextforce',\n",
       " '_notify',\n",
       " '_oldsync',\n",
       " '_once',\n",
       " '_oncepost',\n",
       " '_oncepost_open',\n",
       " '_operation',\n",
       " '_operation_stage1',\n",
       " '_operation_stage2',\n",
       " '_operationown',\n",
       " '_operationown_stage1',\n",
       " '_operationown_stage2',\n",
       " '_opstage',\n",
       " '_orders',\n",
       " '_orderspending',\n",
       " '_owner',\n",
       " '_periodrecalc',\n",
       " '_periodset',\n",
       " '_plotinit',\n",
       " '_plotlabel',\n",
       " '_roperation',\n",
       " '_settz',\n",
       " '_sizer',\n",
       " '_slave_analyzers',\n",
       " '_stage1',\n",
       " '_stage2',\n",
       " '_start',\n",
       " '_stop',\n",
       " '_tradehistoryon',\n",
       " '_trades',\n",
       " '_tradespending',\n",
       " 'add_timer',\n",
       " 'addindicator',\n",
       " 'addminperiod',\n",
       " 'advance',\n",
       " 'alias',\n",
       " 'aliased',\n",
       " 'analyzers',\n",
       " 'array',\n",
       " 'backwards',\n",
       " 'bind2line',\n",
       " 'bind2lines',\n",
       " 'bindlines',\n",
       " 'broker',\n",
       " 'buy',\n",
       " 'buy_bracket',\n",
       " 'cancel',\n",
       " 'cerebro',\n",
       " 'clear',\n",
       " 'close',\n",
       " 'csv',\n",
       " 'data',\n",
       " 'data0',\n",
       " 'data0_0',\n",
       " 'data0_1',\n",
       " 'data0_2',\n",
       " 'data0_3',\n",
       " 'data0_4',\n",
       " 'data0_5',\n",
       " 'data0_6',\n",
       " 'data0_close',\n",
       " 'data0_datetime',\n",
       " 'data0_high',\n",
       " 'data0_low',\n",
       " 'data0_open',\n",
       " 'data0_openinterest',\n",
       " 'data0_volume',\n",
       " 'data1',\n",
       " 'data1_0',\n",
       " 'data1_1',\n",
       " 'data1_2',\n",
       " 'data1_3',\n",
       " 'data1_4',\n",
       " 'data1_5',\n",
       " 'data1_6',\n",
       " 'data1_close',\n",
       " 'data1_datetime',\n",
       " 'data1_high',\n",
       " 'data1_low',\n",
       " 'data1_open',\n",
       " 'data1_openinterest',\n",
       " 'data1_volume',\n",
       " 'data2',\n",
       " 'data2_0',\n",
       " 'data2_1',\n",
       " 'data2_2',\n",
       " 'data2_3',\n",
       " 'data2_4',\n",
       " 'data2_5',\n",
       " 'data2_6',\n",
       " 'data2_close',\n",
       " 'data2_datetime',\n",
       " 'data2_high',\n",
       " 'data2_low',\n",
       " 'data2_open',\n",
       " 'data2_openinterest',\n",
       " 'data2_volume',\n",
       " 'data_0',\n",
       " 'data_1',\n",
       " 'data_2',\n",
       " 'data_3',\n",
       " 'data_4',\n",
       " 'data_5',\n",
       " 'data_6',\n",
       " 'data_close',\n",
       " 'data_datetime',\n",
       " 'data_high',\n",
       " 'data_low',\n",
       " 'data_open',\n",
       " 'data_openinterest',\n",
       " 'data_volume',\n",
       " 'datas',\n",
       " 'ddatas',\n",
       " 'dnames',\n",
       " 'env',\n",
       " 'extend',\n",
       " 'forward',\n",
       " 'frompackages',\n",
       " 'getdatabyname',\n",
       " 'getdatanames',\n",
       " 'getindicators',\n",
       " 'getindicators_lines',\n",
       " 'getobservers',\n",
       " 'getposition',\n",
       " 'getpositionbyname',\n",
       " 'getpositions',\n",
       " 'getpositionsbyname',\n",
       " 'getsizer',\n",
       " 'getsizing',\n",
       " 'getwriterheaders',\n",
       " 'getwriterinfo',\n",
       " 'getwritervalues',\n",
       " 'home',\n",
       " 'incminperiod',\n",
       " 'l',\n",
       " 'line',\n",
       " 'line0',\n",
       " 'line_0',\n",
       " 'linealias',\n",
       " 'lines',\n",
       " 'minbuffer',\n",
       " 'next',\n",
       " 'next_open',\n",
       " 'nextstart',\n",
       " 'nextstart_open',\n",
       " 'notify_cashvalue',\n",
       " 'notify_data',\n",
       " 'notify_fund',\n",
       " 'notify_order',\n",
       " 'notify_store',\n",
       " 'notify_timer',\n",
       " 'notify_trade',\n",
       " 'observers',\n",
       " 'once',\n",
       " 'oncestart',\n",
       " 'order_target_percent',\n",
       " 'order_target_size',\n",
       " 'order_target_value',\n",
       " 'p',\n",
       " 'packages',\n",
       " 'params',\n",
       " 'plotinfo',\n",
       " 'plotlabel',\n",
       " 'plotlines',\n",
       " 'position',\n",
       " 'positionbyname',\n",
       " 'positions',\n",
       " 'positionsbyname',\n",
       " 'prenext',\n",
       " 'prenext_open',\n",
       " 'preonce',\n",
       " 'qbuffer',\n",
       " 'reset',\n",
       " 'rewind',\n",
       " 'sell',\n",
       " 'sell_bracket',\n",
       " 'set_tradehistory',\n",
       " 'setminperiod',\n",
       " 'setsizer',\n",
       " 'sizer',\n",
       " 'start',\n",
       " 'stats',\n",
       " 'stop',\n",
       " 'updateminperiod',\n",
       " 'writers']"
      ]
     },
     "execution_count": 39,
     "metadata": {},
     "output_type": "execute_result"
    }
   ],
   "source": [
    "dir(strat)"
   ]
  }
 ],
 "metadata": {
  "kernelspec": {
   "display_name": "Python 3",
   "language": "python",
   "name": "python3"
  },
  "language_info": {
   "codemirror_mode": {
    "name": "ipython",
    "version": 3
   },
   "file_extension": ".py",
   "mimetype": "text/x-python",
   "name": "python",
   "nbconvert_exporter": "python",
   "pygments_lexer": "ipython3",
   "version": "3.6.8"
  },
  "toc": {
   "base_numbering": 1,
   "nav_menu": {},
   "number_sections": true,
   "sideBar": true,
   "skip_h1_title": false,
   "title_cell": "Table of Contents",
   "title_sidebar": "Contents",
   "toc_cell": false,
   "toc_position": {},
   "toc_section_display": true,
   "toc_window_display": false
  }
 },
 "nbformat": 4,
 "nbformat_minor": 4
}
