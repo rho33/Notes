{
 "cells": [
  {
   "cell_type": "code",
   "execution_count": 1,
   "metadata": {
    "ExecuteTime": {
     "end_time": "2020-07-21T05:34:49.031641Z",
     "start_time": "2020-07-21T05:34:48.883048Z"
    }
   },
   "outputs": [],
   "source": [
    "import datetime\n",
    "import os\n",
    "import backtrader as bt"
   ]
  },
  {
   "cell_type": "code",
   "execution_count": 2,
   "metadata": {
    "ExecuteTime": {
     "end_time": "2020-07-21T05:34:49.036641Z",
     "start_time": "2020-07-21T05:34:49.032621Z"
    }
   },
   "outputs": [],
   "source": [
    "class MyStrat(bt.Strategy):\n",
    "        \n",
    "    def next(self):\n",
    "\n",
    "        if not self.positionsbyname['spy']:\n",
    "            self.buy(data=self.dnames['spy'], size=None) # sizer used when size=None (default)\n",
    "        elif not self.positionsbyname['gld']:\n",
    "            self.buy(data=self.dnames['gld'])\n",
    "        elif not self.positionsbyname['uso']:\n",
    "            self.buy(data=self.dnames['uso'])"
   ]
  },
  {
   "cell_type": "code",
   "execution_count": 3,
   "metadata": {
    "ExecuteTime": {
     "end_time": "2020-07-21T05:34:49.056573Z",
     "start_time": "2020-07-21T05:34:49.037607Z"
    },
    "code_folding": []
   },
   "outputs": [
    {
     "data": {
      "text/plain": [
       "10008.970000000001"
      ]
     },
     "execution_count": 3,
     "metadata": {},
     "output_type": "execute_result"
    }
   ],
   "source": [
    "cerebro = bt.Cerebro()\n",
    "\n",
    "cerebro.addstrategy(MyStrat)\n",
    "\n",
    "fromdate, todate = datetime.datetime(2019, 6, 13), datetime.datetime(2019, 6, 20)\n",
    "folder = 'ETF'\n",
    "for file in os.listdir(folder):\n",
    "    dn = os.path.join(folder, file)\n",
    "    data = bt.feeds.GenericCSVData(\n",
    "        dataname=dn,\n",
    "        fromdate=fromdate,\n",
    "        todate=todate,\n",
    "        nullvalue=0.0,\n",
    "        dtformat=('%m/%d/%Y'),\n",
    "        datetime=0,\n",
    "        high=3,\n",
    "        low=4,\n",
    "        open=1,\n",
    "        close=2,\n",
    "        volume=5,\n",
    "        openinterest=-1\n",
    "    )\n",
    "    cerebro.adddata(data)\n",
    "\n",
    "cerebro.addanalyzer(bt.analyzers.Transactions)\n",
    "cerebro.broker.setcash(10000)\n",
    "cerebro.broker.set_coc(True)\n",
    "results = cerebro.run()\n",
    "strat = results[0]\n",
    "cerebro.broker.getvalue()"
   ]
  },
  {
   "cell_type": "code",
   "execution_count": 4,
   "metadata": {
    "ExecuteTime": {
     "end_time": "2020-07-21T05:34:49.061543Z",
     "start_time": "2020-07-21T05:34:49.057554Z"
    }
   },
   "outputs": [
    {
     "data": {
      "text/plain": [
       "<backtrader.sizers.fixedsize.FixedSize at 0x245d1e97a58>"
      ]
     },
     "execution_count": 4,
     "metadata": {},
     "output_type": "execute_result"
    }
   ],
   "source": [
    "strat.sizer"
   ]
  },
  {
   "cell_type": "code",
   "execution_count": 5,
   "metadata": {
    "ExecuteTime": {
     "end_time": "2020-07-21T05:34:49.068525Z",
     "start_time": "2020-07-21T05:34:49.062541Z"
    },
    "code_folding": []
   },
   "outputs": [
    {
     "name": "stdout",
     "output_type": "stream",
     "text": [
      "SPY \n",
      "shares: 1\n",
      "value: 293.06\n",
      "% of portfolio: 3%\n",
      "\n",
      "GLD \n",
      "shares: 1\n",
      "value: 127.89\n",
      "% of portfolio: 1%\n",
      "\n",
      "USO \n",
      "shares: 1\n",
      "value: 90.64\n",
      "% of portfolio: 1%\n",
      "\n"
     ]
    }
   ],
   "source": [
    "for ticker in ['spy', 'gld', 'uso']:\n",
    "    pos = strat.positionsbyname[ticker]\n",
    "    price = strat.dnames[ticker].close[0]\n",
    "    s = f'''{ticker.upper()} \\nshares: {pos.size}\\nvalue: {pos.size*price}\\n% of portfolio: {round(100*pos.size*price/strat.broker.getvalue())}%\\n'''\n",
    "    print(s)"
   ]
  },
  {
   "cell_type": "code",
   "execution_count": 6,
   "metadata": {
    "ExecuteTime": {
     "end_time": "2020-07-21T05:34:49.083484Z",
     "start_time": "2020-07-21T05:34:49.069522Z"
    }
   },
   "outputs": [
    {
     "data": {
      "text/plain": [
       "10117.393302639954"
      ]
     },
     "execution_count": 6,
     "metadata": {},
     "output_type": "execute_result"
    }
   ],
   "source": [
    "cerebro = bt.Cerebro()\n",
    "\n",
    "cerebro.addstrategy(MyStrat)\n",
    "\n",
    "# PercentSizer sizes as percent of available cash (default 20)\n",
    "cerebro.addsizer(bt.sizers.PercentSizer, percents=25)\n",
    "\n",
    "fromdate, todate = datetime.datetime(2019, 6, 13), datetime.datetime(2019, 6, 20)\n",
    "folder = 'ETF'\n",
    "for file in os.listdir(folder):\n",
    "    dn = os.path.join(folder, file)\n",
    "    data = bt.feeds.GenericCSVData(\n",
    "        dataname=dn,\n",
    "        fromdate=fromdate,\n",
    "        todate=todate,\n",
    "        nullvalue=0.0,\n",
    "        dtformat=('%m/%d/%Y'),\n",
    "        datetime=0,\n",
    "        high=3,\n",
    "        low=4,\n",
    "        open=1,\n",
    "        close=2,\n",
    "        volume=5,\n",
    "        openinterest=-1\n",
    "    )\n",
    "    cerebro.adddata(data)\n",
    "\n",
    "cerebro.addanalyzer(bt.analyzers.Transactions)\n",
    "cerebro.broker.setcash(10000)\n",
    "cerebro.broker.set_coc(True)\n",
    "results = cerebro.run()\n",
    "strat = results[0]\n",
    "cerebro.broker.getvalue()"
   ]
  },
  {
   "cell_type": "code",
   "execution_count": 7,
   "metadata": {
    "ExecuteTime": {
     "end_time": "2020-07-21T05:34:49.088473Z",
     "start_time": "2020-07-21T05:34:49.084481Z"
    }
   },
   "outputs": [
    {
     "name": "stdout",
     "output_type": "stream",
     "text": [
      "SPY \n",
      "shares: 8.63319290006216\n",
      "value: 2530.0435112922164\n",
      "% of portfolio: 25%\n",
      "\n",
      "GLD \n",
      "shares: 14.815107458912768\n",
      "value: 1894.704092920354\n",
      "% of portfolio: 19%\n",
      "\n",
      "USO \n",
      "shares: 16.260985198889916\n",
      "value: 1473.895698427382\n",
      "% of portfolio: 15%\n",
      "\n"
     ]
    }
   ],
   "source": [
    "for ticker in ['spy', 'gld', 'uso']:\n",
    "    pos = strat.positionsbyname[ticker]\n",
    "    price = strat.dnames[ticker].close[0]\n",
    "    s = f'''{ticker.upper()} \\nshares: {pos.size}\\nvalue: {pos.size*price}\\n% of portfolio: {round(100*pos.size*price/strat.broker.getvalue())}%\\n'''\n",
    "    print(s)"
   ]
  },
  {
   "cell_type": "code",
   "execution_count": 8,
   "metadata": {
    "ExecuteTime": {
     "end_time": "2020-07-21T05:34:49.095477Z",
     "start_time": "2020-07-21T05:34:49.090467Z"
    }
   },
   "outputs": [
    {
     "data": {
      "text/plain": [
       "(0.25, 0.1875, 0.140625)"
      ]
     },
     "execution_count": 8,
     "metadata": {},
     "output_type": "execute_result"
    }
   ],
   "source": [
    "size1 = .25*1\n",
    "size2 = .25*(1-size1)\n",
    "size3 = .25*(1-size1-size2)\n",
    "size1, size2, size3"
   ]
  },
  {
   "cell_type": "code",
   "execution_count": 9,
   "metadata": {
    "ExecuteTime": {
     "end_time": "2020-07-21T05:34:49.100439Z",
     "start_time": "2020-07-21T05:34:49.096451Z"
    }
   },
   "outputs": [],
   "source": [
    "class MyStrat(bt.Strategy):\n",
    "        \n",
    "    def next(self):\n",
    "\n",
    "        if not self.positionsbyname['spy']:\n",
    "            self.buy(data=self.dnames['spy'], size=10)\n",
    "        elif not self.positionsbyname['gld']:\n",
    "            self.buy(data=self.dnames['gld'])\n"
   ]
  },
  {
   "cell_type": "code",
   "execution_count": 10,
   "metadata": {
    "ExecuteTime": {
     "end_time": "2020-07-21T05:34:49.114430Z",
     "start_time": "2020-07-21T05:34:49.101436Z"
    }
   },
   "outputs": [
    {
     "data": {
      "text/plain": [
       "10109.456969026549"
      ]
     },
     "execution_count": 10,
     "metadata": {},
     "output_type": "execute_result"
    }
   ],
   "source": [
    "cerebro = bt.Cerebro()\n",
    "\n",
    "cerebro.addstrategy(MyStrat)\n",
    "\n",
    "# PercentSizer sizes as percent of available cash (default 20)\n",
    "cerebro.addsizer(bt.sizers.AllInSizer)\n",
    "\n",
    "fromdate, todate = datetime.datetime(2019, 6, 13), datetime.datetime(2019, 6, 20)\n",
    "folder = 'ETF'\n",
    "for file in os.listdir(folder):\n",
    "    dn = os.path.join(folder, file)\n",
    "    data = bt.feeds.GenericCSVData(\n",
    "        dataname=dn,\n",
    "        fromdate=fromdate,\n",
    "        todate=todate,\n",
    "        nullvalue=0.0,\n",
    "        dtformat=('%m/%d/%Y'),\n",
    "        datetime=0,\n",
    "        high=3,\n",
    "        low=4,\n",
    "        open=1,\n",
    "        close=2,\n",
    "        volume=5,\n",
    "        openinterest=-1\n",
    "    )\n",
    "    cerebro.adddata(data)\n",
    "\n",
    "cerebro.addanalyzer(bt.analyzers.Transactions)\n",
    "cerebro.broker.setcash(10000)\n",
    "cerebro.broker.set_coc(True)\n",
    "results = cerebro.run()\n",
    "strat = results[0]\n",
    "cerebro.broker.getvalue()"
   ]
  },
  {
   "cell_type": "code",
   "execution_count": 11,
   "metadata": {
    "ExecuteTime": {
     "end_time": "2020-07-21T05:34:49.119412Z",
     "start_time": "2020-07-21T05:34:49.115399Z"
    }
   },
   "outputs": [
    {
     "data": {
      "text/plain": [
       "[<backtrader.order.BuyOrder at 0x245d1efe048>,\n",
       " <backtrader.order.BuyOrder at 0x245d1efe358>]"
      ]
     },
     "execution_count": 11,
     "metadata": {},
     "output_type": "execute_result"
    }
   ],
   "source": [
    "strat.broker.orders"
   ]
  },
  {
   "cell_type": "code",
   "execution_count": 12,
   "metadata": {
    "ExecuteTime": {
     "end_time": "2020-07-21T05:34:49.124375Z",
     "start_time": "2020-07-21T05:34:49.120385Z"
    }
   },
   "outputs": [
    {
     "name": "stdout",
     "output_type": "stream",
     "text": [
      "SPY \n",
      "shares: 10\n",
      "value: 2930.6\n",
      "% of portfolio: 29%\n",
      "\n",
      "GLD \n",
      "shares: 56.133059418457655\n",
      "value: 7178.856969026549\n",
      "% of portfolio: 71%\n",
      "\n",
      "USO \n",
      "shares: 0\n",
      "value: 0.0\n",
      "% of portfolio: 0%\n",
      "\n"
     ]
    }
   ],
   "source": [
    "for ticker in ['spy', 'gld', 'uso']:\n",
    "    pos = strat.positionsbyname[ticker]\n",
    "    price = strat.dnames[ticker].close[0]\n",
    "    s = f'''{ticker.upper()} \\nshares: {pos.size}\\nvalue: {pos.size*price}\\n% of portfolio: {round(100*pos.size*price/strat.broker.getvalue())}%\\n'''\n",
    "    print(s)"
   ]
  }
 ],
 "metadata": {
  "kernelspec": {
   "display_name": "Python 3",
   "language": "python",
   "name": "python3"
  },
  "language_info": {
   "codemirror_mode": {
    "name": "ipython",
    "version": 3
   },
   "file_extension": ".py",
   "mimetype": "text/x-python",
   "name": "python",
   "nbconvert_exporter": "python",
   "pygments_lexer": "ipython3",
   "version": "3.6.8"
  },
  "toc": {
   "base_numbering": 1,
   "nav_menu": {},
   "number_sections": true,
   "sideBar": true,
   "skip_h1_title": false,
   "title_cell": "Table of Contents",
   "title_sidebar": "Contents",
   "toc_cell": false,
   "toc_position": {},
   "toc_section_display": true,
   "toc_window_display": false
  }
 },
 "nbformat": 4,
 "nbformat_minor": 4
}
