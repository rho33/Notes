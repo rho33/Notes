{
 "cells": [
  {
   "cell_type": "code",
   "execution_count": 1,
   "metadata": {
    "ExecuteTime": {
     "end_time": "2020-07-21T05:43:23.696639Z",
     "start_time": "2020-07-21T05:43:23.547931Z"
    }
   },
   "outputs": [],
   "source": [
    "import datetime\n",
    "import os\n",
    "import backtrader as bt"
   ]
  },
  {
   "cell_type": "markdown",
   "metadata": {},
   "source": [
    "for custom sizer:\n",
    "- subclass bt.Sizer\n",
    "- override method: _getsizing(self, comminfo, cash, data, isbuy)"
   ]
  },
  {
   "cell_type": "code",
   "execution_count": 2,
   "metadata": {
    "ExecuteTime": {
     "end_time": "2020-07-21T05:43:23.701520Z",
     "start_time": "2020-07-21T05:43:23.697539Z"
    }
   },
   "outputs": [],
   "source": [
    "class ArbitrarySizer(bt.Sizer):\n",
    "    '''arbitrarily sizes trade based on the current day of month of the order and portfolio size'''\n",
    "\n",
    "    def _getsizing(self, comminfo, cash, data, isbuy):\n",
    "        day_of_month = bt.num2date(data.datetime[0]).day\n",
    "        percent = day_of_month/100\n",
    "        value = self.broker.get_value()*percent\n",
    "        size = value/data.close[0]\n",
    "        return int(size)\n"
   ]
  },
  {
   "cell_type": "code",
   "execution_count": 3,
   "metadata": {
    "ExecuteTime": {
     "end_time": "2020-07-21T05:43:23.707504Z",
     "start_time": "2020-07-21T05:43:23.702517Z"
    }
   },
   "outputs": [],
   "source": [
    "class MyStrat(bt.Strategy):\n",
    "        \n",
    "    def next(self):\n",
    "\n",
    "        if not self.positionsbyname['spy']:\n",
    "            self.buy(data=self.dnames['spy'], size=None) # sizer used when size=None (default)\n",
    "        elif not self.positionsbyname['gld']:\n",
    "            self.buy(data=self.dnames['gld'])\n",
    "        elif not self.positionsbyname['uso']:\n",
    "            self.buy(data=self.dnames['uso'])"
   ]
  },
  {
   "cell_type": "code",
   "execution_count": 4,
   "metadata": {
    "ExecuteTime": {
     "end_time": "2020-07-21T05:43:23.725456Z",
     "start_time": "2020-07-21T05:43:23.708501Z"
    }
   },
   "outputs": [
    {
     "data": {
      "text/plain": [
       "10107.59"
      ]
     },
     "execution_count": 4,
     "metadata": {},
     "output_type": "execute_result"
    }
   ],
   "source": [
    "cerebro = bt.Cerebro()\n",
    "\n",
    "cerebro.addstrategy(MyStrat)\n",
    "cerebro.addsizer(ArbitrarySizer)\n",
    "fromdate, todate = datetime.datetime(2019, 6, 13), datetime.datetime(2019, 6, 20)\n",
    "folder = 'ETF'\n",
    "for file in os.listdir(folder):\n",
    "    dn = os.path.join(folder, file)\n",
    "    data = bt.feeds.GenericCSVData(\n",
    "        dataname=dn,\n",
    "        fromdate=fromdate,\n",
    "        todate=todate,\n",
    "        nullvalue=0.0,\n",
    "        dtformat=('%m/%d/%Y'),\n",
    "        datetime=0,\n",
    "        high=3,\n",
    "        low=4,\n",
    "        open=1,\n",
    "        close=2,\n",
    "        volume=5,\n",
    "        openinterest=-1\n",
    "    )\n",
    "    cerebro.adddata(data)\n",
    "\n",
    "cerebro.addanalyzer(bt.analyzers.Transactions)\n",
    "cerebro.broker.setcash(10000)\n",
    "cerebro.broker.set_coc(True)\n",
    "results = cerebro.run()\n",
    "strat = results[0]\n",
    "cerebro.broker.getvalue()"
   ]
  },
  {
   "cell_type": "code",
   "execution_count": 5,
   "metadata": {
    "ExecuteTime": {
     "end_time": "2020-07-21T05:43:23.731468Z",
     "start_time": "2020-07-21T05:43:23.726454Z"
    }
   },
   "outputs": [
    {
     "name": "stdout",
     "output_type": "stream",
     "text": [
      "SPY \n",
      "shares: 4\n",
      "value: 1172.24\n",
      "% of portfolio: 12%\n",
      "\n",
      "GLD \n",
      "shares: 11\n",
      "value: 1406.79\n",
      "% of portfolio: 14%\n",
      "\n",
      "USO \n",
      "shares: 19\n",
      "value: 1722.16\n",
      "% of portfolio: 17%\n",
      "\n"
     ]
    }
   ],
   "source": [
    "for ticker in ['spy', 'gld', 'uso']:\n",
    "    pos = strat.positionsbyname[ticker]\n",
    "    price = strat.dnames[ticker].close[0]\n",
    "    s = f'''{ticker.upper()} \\nshares: {pos.size}\\nvalue: {pos.size*price}\\n% of portfolio: {round(100*pos.size*price/strat.broker.getvalue())}%\\n'''\n",
    "    print(s)"
   ]
  }
 ],
 "metadata": {
  "kernelspec": {
   "display_name": "Python 3",
   "language": "python",
   "name": "python3"
  },
  "language_info": {
   "codemirror_mode": {
    "name": "ipython",
    "version": 3
   },
   "file_extension": ".py",
   "mimetype": "text/x-python",
   "name": "python",
   "nbconvert_exporter": "python",
   "pygments_lexer": "ipython3",
   "version": "3.6.8"
  },
  "toc": {
   "base_numbering": 1,
   "nav_menu": {},
   "number_sections": true,
   "sideBar": true,
   "skip_h1_title": false,
   "title_cell": "Table of Contents",
   "title_sidebar": "Contents",
   "toc_cell": false,
   "toc_position": {},
   "toc_section_display": true,
   "toc_window_display": false
  }
 },
 "nbformat": 4,
 "nbformat_minor": 4
}
