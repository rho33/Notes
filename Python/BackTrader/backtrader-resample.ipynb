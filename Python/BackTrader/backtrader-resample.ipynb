{
 "cells": [
  {
   "cell_type": "code",
   "execution_count": 1,
   "metadata": {
    "ExecuteTime": {
     "end_time": "2020-07-21T05:44:47.724023Z",
     "start_time": "2020-07-21T05:44:47.282093Z"
    }
   },
   "outputs": [],
   "source": [
    "import datetime\n",
    "import os\n",
    "import backtrader as bt\n",
    "import pandas as pd"
   ]
  },
  {
   "cell_type": "code",
   "execution_count": 2,
   "metadata": {
    "ExecuteTime": {
     "end_time": "2020-06-26T05:51:22.860342Z",
     "start_time": "2020-06-26T05:51:22.857351Z"
    }
   },
   "outputs": [],
   "source": [
    "class MyStrat(bt.Strategy):\n",
    "    pass"
   ]
  },
  {
   "cell_type": "code",
   "execution_count": 3,
   "metadata": {
    "ExecuteTime": {
     "end_time": "2020-06-26T05:51:22.884305Z",
     "start_time": "2020-06-26T05:51:22.861340Z"
    }
   },
   "outputs": [
    {
     "data": {
      "text/plain": [
       "10000.0"
      ]
     },
     "execution_count": 3,
     "metadata": {},
     "output_type": "execute_result"
    }
   ],
   "source": [
    "cerebro = bt.Cerebro()\n",
    "\n",
    "cerebro.addstrategy(MyStrat)\n",
    "\n",
    "fromdate, todate = datetime.datetime(2019, 6, 12), datetime.datetime(2019, 9, 25)\n",
    "dn = 'ETF/spy.csv'\n",
    "data = bt.feeds.GenericCSVData(\n",
    "    dataname=dn,\n",
    "    fromdate=fromdate,\n",
    "    todate=todate,\n",
    "    nullvalue=0.0,\n",
    "    dtformat=('%m/%d/%Y'),\n",
    "    datetime=0,\n",
    "    high=3,\n",
    "    low=4,\n",
    "    open=1,\n",
    "    close=2,\n",
    "    volume=5,\n",
    "    openinterest=-1\n",
    ")\n",
    "\n",
    "# call resampledata instead of adddata, pick timeframe and compression\n",
    "cerebro.resampledata(\n",
    "    data,\n",
    "    timeframe=bt.TimeFrame.Weeks,\n",
    "    compression=1 # default 1 for 1 week per bar, 2 would be 2 weeks per bar (half as many bars) \n",
    ")\n",
    "\n",
    "cerebro.broker.setcash(10000)\n",
    "results = cerebro.run()\n",
    "strat = results[0]\n",
    "cerebro.broker.getvalue()"
   ]
  },
  {
   "cell_type": "code",
   "execution_count": 4,
   "metadata": {
    "ExecuteTime": {
     "end_time": "2020-06-26T05:51:22.889265Z",
     "start_time": "2020-06-26T05:51:22.885303Z"
    }
   },
   "outputs": [
    {
     "data": {
      "text/plain": [
       "['',\n",
       " 'Ticks',\n",
       " 'MicroSeconds',\n",
       " 'Seconds',\n",
       " 'Minutes',\n",
       " 'Days',\n",
       " 'Weeks',\n",
       " 'Months',\n",
       " 'Years',\n",
       " 'NoTimeFrame']"
      ]
     },
     "execution_count": 4,
     "metadata": {},
     "output_type": "execute_result"
    }
   ],
   "source": [
    "bt.TimeFrame.Names"
   ]
  },
  {
   "cell_type": "code",
   "execution_count": 5,
   "metadata": {
    "ExecuteTime": {
     "end_time": "2020-06-26T05:51:22.895249Z",
     "start_time": "2020-06-26T05:51:22.890262Z"
    }
   },
   "outputs": [
    {
     "data": {
      "text/plain": [
       "(9, 8, 7, 6, 5, 4, 3, 2, 1)"
      ]
     },
     "execution_count": 5,
     "metadata": {},
     "output_type": "execute_result"
    }
   ],
   "source": [
    "# These are just integers\n",
    "(\n",
    "    bt.TimeFrame.NoTimeFrame,\n",
    "    bt.TimeFrame.Years,\n",
    "    bt.TimeFrame.Months,\n",
    "    bt.TimeFrame.Weeks,\n",
    "    bt.TimeFrame.Days,\n",
    "    bt.TimeFrame.Minutes,\n",
    "    bt.TimeFrame.Seconds,\n",
    "    bt.TimeFrame.MicroSeconds,\n",
    "    bt.TimeFrame.Ticks\n",
    ")"
   ]
  },
  {
   "cell_type": "code",
   "execution_count": 6,
   "metadata": {
    "ExecuteTime": {
     "end_time": "2020-06-26T05:51:22.902231Z",
     "start_time": "2020-06-26T05:51:22.896247Z"
    }
   },
   "outputs": [
    {
     "data": {
      "text/plain": [
       "[datetime.date(2019, 6, 14),\n",
       " datetime.date(2019, 6, 21),\n",
       " datetime.date(2019, 6, 28),\n",
       " datetime.date(2019, 7, 5),\n",
       " datetime.date(2019, 7, 12),\n",
       " datetime.date(2019, 7, 19),\n",
       " datetime.date(2019, 7, 26),\n",
       " datetime.date(2019, 8, 2),\n",
       " datetime.date(2019, 8, 9),\n",
       " datetime.date(2019, 8, 16),\n",
       " datetime.date(2019, 8, 23),\n",
       " datetime.date(2019, 8, 30),\n",
       " datetime.date(2019, 9, 6),\n",
       " datetime.date(2019, 9, 13),\n",
       " datetime.date(2019, 9, 20),\n",
       " datetime.date(2019, 9, 24)]"
      ]
     },
     "execution_count": 6,
     "metadata": {},
     "output_type": "execute_result"
    }
   ],
   "source": [
    "[bt.num2date(dt).date() for dt in strat.datetime.array]"
   ]
  },
  {
   "cell_type": "code",
   "execution_count": 7,
   "metadata": {
    "ExecuteTime": {
     "end_time": "2020-06-26T05:51:22.938162Z",
     "start_time": "2020-06-26T05:51:22.903228Z"
    }
   },
   "outputs": [
    {
     "data": {
      "text/html": [
       "<div>\n",
       "<style scoped>\n",
       "    .dataframe tbody tr th:only-of-type {\n",
       "        vertical-align: middle;\n",
       "    }\n",
       "\n",
       "    .dataframe tbody tr th {\n",
       "        vertical-align: top;\n",
       "    }\n",
       "\n",
       "    .dataframe thead th {\n",
       "        text-align: right;\n",
       "    }\n",
       "</style>\n",
       "<table border=\"1\" class=\"dataframe\">\n",
       "  <thead>\n",
       "    <tr style=\"text-align: right;\">\n",
       "      <th></th>\n",
       "      <th>date</th>\n",
       "      <th>open</th>\n",
       "      <th>close</th>\n",
       "      <th>high</th>\n",
       "      <th>low</th>\n",
       "      <th>volume</th>\n",
       "      <th>uOpen</th>\n",
       "      <th>uClose</th>\n",
       "      <th>uHigh</th>\n",
       "      <th>uLow</th>\n",
       "      <th>uVolume</th>\n",
       "      <th>change</th>\n",
       "      <th>changePercent</th>\n",
       "      <th>label</th>\n",
       "      <th>changeOverTime</th>\n",
       "    </tr>\n",
       "  </thead>\n",
       "  <tbody>\n",
       "    <tr>\n",
       "      <th>0</th>\n",
       "      <td>2019-06-13</td>\n",
       "      <td>289.40</td>\n",
       "      <td>289.58</td>\n",
       "      <td>289.98</td>\n",
       "      <td>288.62</td>\n",
       "      <td>48945156</td>\n",
       "      <td>289.40</td>\n",
       "      <td>289.58</td>\n",
       "      <td>289.98</td>\n",
       "      <td>288.62</td>\n",
       "      <td>48945156</td>\n",
       "      <td>0.00</td>\n",
       "      <td>0.0000</td>\n",
       "      <td>13-Jun-19</td>\n",
       "      <td>0.000000</td>\n",
       "    </tr>\n",
       "    <tr>\n",
       "      <th>1</th>\n",
       "      <td>2019-06-14</td>\n",
       "      <td>289.26</td>\n",
       "      <td>289.26</td>\n",
       "      <td>289.93</td>\n",
       "      <td>288.41</td>\n",
       "      <td>52324716</td>\n",
       "      <td>289.26</td>\n",
       "      <td>289.26</td>\n",
       "      <td>289.93</td>\n",
       "      <td>288.41</td>\n",
       "      <td>52324716</td>\n",
       "      <td>-0.32</td>\n",
       "      <td>-0.1105</td>\n",
       "      <td>14-Jun-19</td>\n",
       "      <td>-0.001105</td>\n",
       "    </tr>\n",
       "    <tr>\n",
       "      <th>2</th>\n",
       "      <td>2019-06-17</td>\n",
       "      <td>289.52</td>\n",
       "      <td>289.37</td>\n",
       "      <td>290.22</td>\n",
       "      <td>289.18</td>\n",
       "      <td>39205709</td>\n",
       "      <td>289.52</td>\n",
       "      <td>289.37</td>\n",
       "      <td>290.22</td>\n",
       "      <td>289.18</td>\n",
       "      <td>39205709</td>\n",
       "      <td>0.11</td>\n",
       "      <td>0.0380</td>\n",
       "      <td>17-Jun-19</td>\n",
       "      <td>-0.000725</td>\n",
       "    </tr>\n",
       "    <tr>\n",
       "      <th>3</th>\n",
       "      <td>2019-06-18</td>\n",
       "      <td>291.39</td>\n",
       "      <td>292.40</td>\n",
       "      <td>293.57</td>\n",
       "      <td>290.99</td>\n",
       "      <td>85434823</td>\n",
       "      <td>291.39</td>\n",
       "      <td>292.40</td>\n",
       "      <td>293.57</td>\n",
       "      <td>290.99</td>\n",
       "      <td>85434823</td>\n",
       "      <td>3.03</td>\n",
       "      <td>1.0471</td>\n",
       "      <td>18-Jun-19</td>\n",
       "      <td>0.009738</td>\n",
       "    </tr>\n",
       "    <tr>\n",
       "      <th>4</th>\n",
       "      <td>2019-06-19</td>\n",
       "      <td>292.55</td>\n",
       "      <td>293.06</td>\n",
       "      <td>293.65</td>\n",
       "      <td>291.47</td>\n",
       "      <td>78674377</td>\n",
       "      <td>292.55</td>\n",
       "      <td>293.06</td>\n",
       "      <td>293.65</td>\n",
       "      <td>291.47</td>\n",
       "      <td>78674377</td>\n",
       "      <td>0.66</td>\n",
       "      <td>0.2257</td>\n",
       "      <td>19-Jun-19</td>\n",
       "      <td>0.012017</td>\n",
       "    </tr>\n",
       "    <tr>\n",
       "      <th>5</th>\n",
       "      <td>2019-06-20</td>\n",
       "      <td>296.04</td>\n",
       "      <td>295.86</td>\n",
       "      <td>296.31</td>\n",
       "      <td>293.13</td>\n",
       "      <td>116570017</td>\n",
       "      <td>296.04</td>\n",
       "      <td>295.86</td>\n",
       "      <td>296.31</td>\n",
       "      <td>293.13</td>\n",
       "      <td>116570017</td>\n",
       "      <td>2.80</td>\n",
       "      <td>0.9554</td>\n",
       "      <td>20-Jun-19</td>\n",
       "      <td>0.021687</td>\n",
       "    </tr>\n",
       "    <tr>\n",
       "      <th>6</th>\n",
       "      <td>2019-06-21</td>\n",
       "      <td>294.13</td>\n",
       "      <td>294.00</td>\n",
       "      <td>295.52</td>\n",
       "      <td>293.76</td>\n",
       "      <td>83309466</td>\n",
       "      <td>294.13</td>\n",
       "      <td>294.00</td>\n",
       "      <td>295.52</td>\n",
       "      <td>293.76</td>\n",
       "      <td>83309466</td>\n",
       "      <td>-1.86</td>\n",
       "      <td>-0.6287</td>\n",
       "      <td>21-Jun-19</td>\n",
       "      <td>0.015263</td>\n",
       "    </tr>\n",
       "    <tr>\n",
       "      <th>7</th>\n",
       "      <td>2019-06-24</td>\n",
       "      <td>294.23</td>\n",
       "      <td>293.64</td>\n",
       "      <td>294.58</td>\n",
       "      <td>293.47</td>\n",
       "      <td>47582730</td>\n",
       "      <td>294.23</td>\n",
       "      <td>293.64</td>\n",
       "      <td>294.58</td>\n",
       "      <td>293.47</td>\n",
       "      <td>47582730</td>\n",
       "      <td>-0.36</td>\n",
       "      <td>-0.1224</td>\n",
       "      <td>24-Jun-19</td>\n",
       "      <td>0.014020</td>\n",
       "    </tr>\n",
       "    <tr>\n",
       "      <th>8</th>\n",
       "      <td>2019-06-25</td>\n",
       "      <td>293.70</td>\n",
       "      <td>290.76</td>\n",
       "      <td>293.73</td>\n",
       "      <td>290.64</td>\n",
       "      <td>82028656</td>\n",
       "      <td>293.70</td>\n",
       "      <td>290.76</td>\n",
       "      <td>293.73</td>\n",
       "      <td>290.64</td>\n",
       "      <td>82028656</td>\n",
       "      <td>-2.88</td>\n",
       "      <td>-0.9808</td>\n",
       "      <td>25-Jun-19</td>\n",
       "      <td>0.004075</td>\n",
       "    </tr>\n",
       "  </tbody>\n",
       "</table>\n",
       "</div>"
      ],
      "text/plain": [
       "        date    open   close    high     low     volume   uOpen  uClose  \\\n",
       "0 2019-06-13  289.40  289.58  289.98  288.62   48945156  289.40  289.58   \n",
       "1 2019-06-14  289.26  289.26  289.93  288.41   52324716  289.26  289.26   \n",
       "2 2019-06-17  289.52  289.37  290.22  289.18   39205709  289.52  289.37   \n",
       "3 2019-06-18  291.39  292.40  293.57  290.99   85434823  291.39  292.40   \n",
       "4 2019-06-19  292.55  293.06  293.65  291.47   78674377  292.55  293.06   \n",
       "5 2019-06-20  296.04  295.86  296.31  293.13  116570017  296.04  295.86   \n",
       "6 2019-06-21  294.13  294.00  295.52  293.76   83309466  294.13  294.00   \n",
       "7 2019-06-24  294.23  293.64  294.58  293.47   47582730  294.23  293.64   \n",
       "8 2019-06-25  293.70  290.76  293.73  290.64   82028656  293.70  290.76   \n",
       "\n",
       "    uHigh    uLow    uVolume  change  changePercent      label  changeOverTime  \n",
       "0  289.98  288.62   48945156    0.00         0.0000  13-Jun-19        0.000000  \n",
       "1  289.93  288.41   52324716   -0.32        -0.1105  14-Jun-19       -0.001105  \n",
       "2  290.22  289.18   39205709    0.11         0.0380  17-Jun-19       -0.000725  \n",
       "3  293.57  290.99   85434823    3.03         1.0471  18-Jun-19        0.009738  \n",
       "4  293.65  291.47   78674377    0.66         0.2257  19-Jun-19        0.012017  \n",
       "5  296.31  293.13  116570017    2.80         0.9554  20-Jun-19        0.021687  \n",
       "6  295.52  293.76   83309466   -1.86        -0.6287  21-Jun-19        0.015263  \n",
       "7  294.58  293.47   47582730   -0.36        -0.1224  24-Jun-19        0.014020  \n",
       "8  293.73  290.64   82028656   -2.88        -0.9808  25-Jun-19        0.004075  "
      ]
     },
     "execution_count": 7,
     "metadata": {},
     "output_type": "execute_result"
    }
   ],
   "source": [
    "df = pd.read_csv(dn, parse_dates=['date'])\n",
    "# df['date'].apply(lambda)\n",
    "df.head(9)"
   ]
  },
  {
   "cell_type": "code",
   "execution_count": 8,
   "metadata": {
    "ExecuteTime": {
     "end_time": "2020-06-26T05:51:22.944118Z",
     "start_time": "2020-06-26T05:51:22.939132Z"
    }
   },
   "outputs": [
    {
     "data": {
      "text/plain": [
       "(289.52, 294.0)"
      ]
     },
     "execution_count": 8,
     "metadata": {},
     "output_type": "execute_result"
    }
   ],
   "source": [
    "# second week is first full week of data (6-17-2019 is start of week, Monday)\n",
    "# our week's open is Monday's open, 6/17, and our week's close is Friday's close, 6/21\n",
    "strat.data.open.array[1], strat.data.close.array[1]"
   ]
  },
  {
   "cell_type": "code",
   "execution_count": 9,
   "metadata": {
    "ExecuteTime": {
     "end_time": "2020-06-26T05:51:22.950103Z",
     "start_time": "2020-06-26T05:51:22.945116Z"
    }
   },
   "outputs": [
    {
     "data": {
      "text/plain": [
       "(299.14, 298.28)"
      ]
     },
     "execution_count": 9,
     "metadata": {},
     "output_type": "execute_result"
    }
   ],
   "source": [
    "strat.data.open[-18], strat.data.close[-17]"
   ]
  }
 ],
 "metadata": {
  "kernelspec": {
   "display_name": "Python 3",
   "language": "python",
   "name": "python3"
  },
  "language_info": {
   "codemirror_mode": {
    "name": "ipython",
    "version": 3
   },
   "file_extension": ".py",
   "mimetype": "text/x-python",
   "name": "python",
   "nbconvert_exporter": "python",
   "pygments_lexer": "ipython3",
   "version": "3.6.8"
  },
  "toc": {
   "base_numbering": 1,
   "nav_menu": {},
   "number_sections": true,
   "sideBar": true,
   "skip_h1_title": false,
   "title_cell": "Table of Contents",
   "title_sidebar": "Contents",
   "toc_cell": false,
   "toc_position": {},
   "toc_section_display": true,
   "toc_window_display": false
  }
 },
 "nbformat": 4,
 "nbformat_minor": 4
}
