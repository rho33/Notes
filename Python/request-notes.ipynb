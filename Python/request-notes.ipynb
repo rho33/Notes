{
 "cells": [
  {
   "cell_type": "code",
   "execution_count": 1,
   "metadata": {
    "ExecuteTime": {
     "end_time": "2020-07-29T02:02:47.603836Z",
     "start_time": "2020-07-29T02:02:47.448252Z"
    }
   },
   "outputs": [],
   "source": [
    "import requests"
   ]
  },
  {
   "cell_type": "code",
   "execution_count": 2,
   "metadata": {
    "ExecuteTime": {
     "end_time": "2020-07-29T02:02:48.141404Z",
     "start_time": "2020-07-29T02:02:47.604833Z"
    }
   },
   "outputs": [
    {
     "data": {
      "text/plain": [
       "<Response [200]>"
      ]
     },
     "execution_count": 2,
     "metadata": {},
     "output_type": "execute_result"
    }
   ],
   "source": [
    "res = requests.get('http://quotes.toscrape.com/')\n",
    "res"
   ]
  },
  {
   "cell_type": "code",
   "execution_count": 3,
   "metadata": {
    "ExecuteTime": {
     "end_time": "2020-07-29T02:02:48.146392Z",
     "start_time": "2020-07-29T02:02:48.142402Z"
    }
   },
   "outputs": [
    {
     "data": {
      "text/plain": [
       "200"
      ]
     },
     "execution_count": 3,
     "metadata": {},
     "output_type": "execute_result"
    }
   ],
   "source": [
    "res.status_code"
   ]
  },
  {
   "cell_type": "code",
   "execution_count": 4,
   "metadata": {
    "ExecuteTime": {
     "end_time": "2020-07-29T02:02:48.418697Z",
     "start_time": "2020-07-29T02:02:48.147387Z"
    }
   },
   "outputs": [
    {
     "name": "stdout",
     "output_type": "stream",
     "text": [
      "None\n"
     ]
    },
    {
     "ename": "HTTPError",
     "evalue": "404 Client Error: Not Found for url: https://github.com/givemeanerror",
     "output_type": "error",
     "traceback": [
      "\u001b[1;31m---------------------------------------------------------------------------\u001b[0m",
      "\u001b[1;31mHTTPError\u001b[0m                                 Traceback (most recent call last)",
      "\u001b[1;32m<ipython-input-4-6efac8047249>\u001b[0m in \u001b[0;36m<module>\u001b[1;34m\u001b[0m\n\u001b[0;32m      4\u001b[0m \u001b[1;31m# example of error\u001b[0m\u001b[1;33m\u001b[0m\u001b[1;33m\u001b[0m\u001b[1;33m\u001b[0m\u001b[0m\n\u001b[0;32m      5\u001b[0m \u001b[0mres2\u001b[0m \u001b[1;33m=\u001b[0m \u001b[0mrequests\u001b[0m\u001b[1;33m.\u001b[0m\u001b[0mget\u001b[0m\u001b[1;33m(\u001b[0m\u001b[1;34m'https://github.com/givemeanerror'\u001b[0m\u001b[1;33m)\u001b[0m \u001b[1;31m# this url doesn't exist\u001b[0m\u001b[1;33m\u001b[0m\u001b[1;33m\u001b[0m\u001b[0m\n\u001b[1;32m----> 6\u001b[1;33m \u001b[0mres2\u001b[0m\u001b[1;33m.\u001b[0m\u001b[0mraise_for_status\u001b[0m\u001b[1;33m(\u001b[0m\u001b[1;33m)\u001b[0m\u001b[1;33m\u001b[0m\u001b[1;33m\u001b[0m\u001b[0m\n\u001b[0m",
      "\u001b[1;32mc:\\program files\\python36\\lib\\site-packages\\requests\\models.py\u001b[0m in \u001b[0;36mraise_for_status\u001b[1;34m(self)\u001b[0m\n\u001b[0;32m    939\u001b[0m \u001b[1;33m\u001b[0m\u001b[0m\n\u001b[0;32m    940\u001b[0m         \u001b[1;32mif\u001b[0m \u001b[0mhttp_error_msg\u001b[0m\u001b[1;33m:\u001b[0m\u001b[1;33m\u001b[0m\u001b[1;33m\u001b[0m\u001b[0m\n\u001b[1;32m--> 941\u001b[1;33m             \u001b[1;32mraise\u001b[0m \u001b[0mHTTPError\u001b[0m\u001b[1;33m(\u001b[0m\u001b[0mhttp_error_msg\u001b[0m\u001b[1;33m,\u001b[0m \u001b[0mresponse\u001b[0m\u001b[1;33m=\u001b[0m\u001b[0mself\u001b[0m\u001b[1;33m)\u001b[0m\u001b[1;33m\u001b[0m\u001b[1;33m\u001b[0m\u001b[0m\n\u001b[0m\u001b[0;32m    942\u001b[0m \u001b[1;33m\u001b[0m\u001b[0m\n\u001b[0;32m    943\u001b[0m     \u001b[1;32mdef\u001b[0m \u001b[0mclose\u001b[0m\u001b[1;33m(\u001b[0m\u001b[0mself\u001b[0m\u001b[1;33m)\u001b[0m\u001b[1;33m:\u001b[0m\u001b[1;33m\u001b[0m\u001b[1;33m\u001b[0m\u001b[0m\n",
      "\u001b[1;31mHTTPError\u001b[0m: 404 Client Error: Not Found for url: https://github.com/givemeanerror"
     ]
    }
   ],
   "source": [
    "# raise_for_status will raise python error if status is an http error, otherwise returns None\n",
    "print(res.raise_for_status())\n",
    "\n",
    "# example of error\n",
    "res2 = requests.get('https://github.com/givemeanerror') # this url doesn't exist\n",
    "res2.raise_for_status()"
   ]
  },
  {
   "cell_type": "code",
   "execution_count": 5,
   "metadata": {
    "ExecuteTime": {
     "end_time": "2020-07-29T02:02:51.150121Z",
     "start_time": "2020-07-29T02:02:51.146132Z"
    }
   },
   "outputs": [
    {
     "data": {
      "text/plain": [
       "'http://quotes.toscrape.com/'"
      ]
     },
     "execution_count": 5,
     "metadata": {},
     "output_type": "execute_result"
    }
   ],
   "source": [
    "res.url"
   ]
  },
  {
   "cell_type": "code",
   "execution_count": 6,
   "metadata": {
    "ExecuteTime": {
     "end_time": "2020-07-29T02:02:51.648065Z",
     "start_time": "2020-07-29T02:02:51.644075Z"
    }
   },
   "outputs": [
    {
     "data": {
      "text/plain": [
       "'utf-8'"
      ]
     },
     "execution_count": 6,
     "metadata": {},
     "output_type": "execute_result"
    }
   ],
   "source": [
    "res.encoding"
   ]
  },
  {
   "cell_type": "code",
   "execution_count": 7,
   "metadata": {
    "ExecuteTime": {
     "end_time": "2020-07-29T02:02:52.103015Z",
     "start_time": "2020-07-29T02:02:52.098997Z"
    }
   },
   "outputs": [
    {
     "data": {
      "text/plain": [
       "{'Server': 'nginx/1.14.0 (Ubuntu)',\n",
       " 'Date': 'Wed, 29 Jul 2020 02:02:46 GMT',\n",
       " 'Content-Type': 'text/html; charset=utf-8',\n",
       " 'Transfer-Encoding': 'chunked',\n",
       " 'Connection': 'keep-alive',\n",
       " 'X-Upstream': 'spidyquotes-master_web',\n",
       " 'Content-Encoding': 'gzip'}"
      ]
     },
     "execution_count": 7,
     "metadata": {},
     "output_type": "execute_result"
    }
   ],
   "source": [
    "dict(res.headers)"
   ]
  },
  {
   "cell_type": "code",
   "execution_count": 8,
   "metadata": {
    "ExecuteTime": {
     "end_time": "2020-07-29T02:02:52.551079Z",
     "start_time": "2020-07-29T02:02:52.548088Z"
    }
   },
   "outputs": [
    {
     "name": "stdout",
     "output_type": "stream",
     "text": [
      "<!DOCTYPE html>\n",
      "<html lang=\"en\">\n",
      "<head>\n",
      "\t<meta charset=\"UTF-8\">\n",
      "\t<title>Quotes to Scrape</title>\n",
      "    <link rel=\"stylesheet\" href=\"/static/bootstrap.min.css\">\n",
      "    <link rel=\"stylesheet\" href=\"/static/main.css\">\n",
      "</head>\n",
      "<body>\n",
      "    <div class=\"container\">\n",
      "        <div class=\"row header-box\">\n",
      "            <div class=\"col-md-8\">\n",
      "                <h1>\n",
      "                    <a href=\"/\" style=\"text-decoration: none\">Quotes to Scrape</a>\n",
      "                </h1>\n",
      "            </div>\n",
      "            <div class=\"col-md\n"
     ]
    }
   ],
   "source": [
    "# res.text gives page html (technically content of servers response, could be different fromat than html)\n",
    "print(res.text[:500])"
   ]
  },
  {
   "cell_type": "code",
   "execution_count": 9,
   "metadata": {
    "ExecuteTime": {
     "end_time": "2020-07-29T02:02:52.968003Z",
     "start_time": "2020-07-29T02:02:52.963018Z"
    }
   },
   "outputs": [
    {
     "data": {
      "text/plain": [
       "bytes"
      ]
     },
     "execution_count": 9,
     "metadata": {},
     "output_type": "execute_result"
    }
   ],
   "source": [
    "type(res.content)"
   ]
  },
  {
   "cell_type": "code",
   "execution_count": 10,
   "metadata": {
    "ExecuteTime": {
     "end_time": "2020-07-29T02:02:53.472100Z",
     "start_time": "2020-07-29T02:02:53.468112Z"
    }
   },
   "outputs": [
    {
     "data": {
      "text/plain": [
       "b'<!DOCTYPE html>\\n<html lang=\"en\">\\n<head>\\n\\t<meta charset=\"UTF-8\">\\n\\t<title>Quotes to Scrape</title>\\n    <link rel=\"stylesheet\" href=\"/static/bootstrap.min.css\">\\n    <link rel=\"stylesheet\" href=\"/static/main.css\">\\n</head>\\n<body>\\n    <div class=\"container\">\\n        <div class=\"row header-box\">\\n            <div class=\"col-md-8\">\\n                <h1>\\n                    <a href=\"/\" style=\"text-decoration: none\">Quotes to Scrape</a>\\n                </h1>\\n            </div>\\n            <div class=\"col-md'"
      ]
     },
     "execution_count": 10,
     "metadata": {},
     "output_type": "execute_result"
    }
   ],
   "source": [
    "# res.content gives bytes string\n",
    "# probably don't want this most of time\n",
    "res.content[:500]"
   ]
  },
  {
   "cell_type": "code",
   "execution_count": 11,
   "metadata": {
    "ExecuteTime": {
     "end_time": "2020-07-29T02:02:53.968909Z",
     "start_time": "2020-07-29T02:02:53.964919Z"
    }
   },
   "outputs": [
    {
     "data": {
      "text/plain": [
       "True"
      ]
     },
     "execution_count": 11,
     "metadata": {},
     "output_type": "execute_result"
    }
   ],
   "source": [
    "res.content.decode(res.encoding) == res.text"
   ]
  },
  {
   "cell_type": "code",
   "execution_count": 12,
   "metadata": {
    "ExecuteTime": {
     "end_time": "2020-07-29T02:02:54.431017Z",
     "start_time": "2020-07-29T02:02:54.427000Z"
    }
   },
   "outputs": [
    {
     "data": {
      "text/plain": [
       "<RequestsCookieJar[]>"
      ]
     },
     "execution_count": 12,
     "metadata": {},
     "output_type": "execute_result"
    }
   ],
   "source": [
    "res.cookies"
   ]
  },
  {
   "cell_type": "code",
   "execution_count": 13,
   "metadata": {
    "ExecuteTime": {
     "end_time": "2020-07-29T02:02:54.887926Z",
     "start_time": "2020-07-29T02:02:54.883907Z"
    }
   },
   "outputs": [
    {
     "data": {
      "text/plain": [
       "'<!DOCTYPE html>'"
      ]
     },
     "execution_count": 13,
     "metadata": {},
     "output_type": "execute_result"
    }
   ],
   "source": [
    "lines_gen = res.iter_lines(decode_unicode=True)\n",
    "next(lines_gen)"
   ]
  },
  {
   "cell_type": "code",
   "execution_count": 14,
   "metadata": {
    "ExecuteTime": {
     "end_time": "2020-07-29T02:02:55.359919Z",
     "start_time": "2020-07-29T02:02:55.355929Z"
    }
   },
   "outputs": [
    {
     "data": {
      "text/plain": [
       "'<html lang=\"en\">'"
      ]
     },
     "execution_count": 14,
     "metadata": {},
     "output_type": "execute_result"
    }
   ],
   "source": [
    "next(lines_gen)"
   ]
  },
  {
   "cell_type": "code",
   "execution_count": 15,
   "metadata": {
    "ExecuteTime": {
     "end_time": "2020-07-29T02:02:55.857613Z",
     "start_time": "2020-07-29T02:02:55.852625Z"
    }
   },
   "outputs": [
    {
     "data": {
      "text/plain": [
       "['<!DOCTYPE html>',\n",
       " '<html lang=\"en\">',\n",
       " '<head>',\n",
       " '\\t<meta charset=\"UTF-8\">',\n",
       " '\\t<title>Quotes to Scrape</title>']"
      ]
     },
     "execution_count": 15,
     "metadata": {},
     "output_type": "execute_result"
    }
   ],
   "source": [
    "lines_list = list(res.iter_lines(decode_unicode=True))\n",
    "lines_list[:5]"
   ]
  },
  {
   "cell_type": "code",
   "execution_count": 16,
   "metadata": {
    "ExecuteTime": {
     "end_time": "2020-07-29T02:02:56.288783Z",
     "start_time": "2020-07-29T02:02:56.284794Z"
    }
   },
   "outputs": [
    {
     "data": {
      "text/plain": [
       "False"
      ]
     },
     "execution_count": 16,
     "metadata": {},
     "output_type": "execute_result"
    }
   ],
   "source": [
    "res.is_redirect"
   ]
  },
  {
   "cell_type": "code",
   "execution_count": 17,
   "metadata": {
    "ExecuteTime": {
     "end_time": "2020-07-29T02:02:56.776489Z",
     "start_time": "2020-07-29T02:02:56.772500Z"
    }
   },
   "outputs": [
    {
     "data": {
      "text/plain": [
       "datetime.timedelta(0, 0, 526064)"
      ]
     },
     "execution_count": 17,
     "metadata": {},
     "output_type": "execute_result"
    }
   ],
   "source": [
    "res.elapsed"
   ]
  },
  {
   "cell_type": "code",
   "execution_count": 18,
   "metadata": {
    "ExecuteTime": {
     "end_time": "2020-07-29T02:02:57.972242Z",
     "start_time": "2020-07-29T02:02:57.284278Z"
    }
   },
   "outputs": [
    {
     "data": {
      "text/plain": [
       "<Response [200]>"
      ]
     },
     "execution_count": 18,
     "metadata": {},
     "output_type": "execute_result"
    }
   ],
   "source": [
    "res3 = requests.get('https://www.fiverr.com/categories/programming-tech/data-analysis-services/data-mining-scraping')\n",
    "res3"
   ]
  },
  {
   "cell_type": "code",
   "execution_count": 19,
   "metadata": {
    "ExecuteTime": {
     "end_time": "2020-07-29T02:02:57.977229Z",
     "start_time": "2020-07-29T02:02:57.973239Z"
    }
   },
   "outputs": [
    {
     "data": {
      "text/plain": [
       "([<Response [307]>], True)"
      ]
     },
     "execution_count": 19,
     "metadata": {},
     "output_type": "execute_result"
    }
   ],
   "source": [
    "# temporary redirect\n",
    "res3.history, res3.history[0].is_redirect"
   ]
  },
  {
   "cell_type": "code",
   "execution_count": 20,
   "metadata": {
    "ExecuteTime": {
     "end_time": "2020-07-29T02:02:58.703616Z",
     "start_time": "2020-07-29T02:02:58.699627Z"
    }
   },
   "outputs": [
    {
     "data": {
      "text/plain": [
       "'https://block.fiverr.com/index.html?url=aHR0cDovL3d3dy5maXZlcnIuY29tL2NhdGVnb3JpZXMvcHJvZ3JhbW1pbmctdGVjaC9kYXRhLWFuYWx5c2lzLXNlcnZpY2VzL2RhdGEtbWluaW5nLXNjcmFwaW5nPw==&uuid=9e9a0420-d13f-11ea-92c2-3b5b8c69af0d&vid='"
      ]
     },
     "execution_count": 20,
     "metadata": {},
     "output_type": "execute_result"
    }
   ],
   "source": [
    "# fiverr blocked us\n",
    "res3.url"
   ]
  },
  {
   "cell_type": "code",
   "execution_count": 21,
   "metadata": {
    "ExecuteTime": {
     "end_time": "2020-07-29T02:02:59.864426Z",
     "start_time": "2020-07-29T02:02:59.771622Z"
    }
   },
   "outputs": [
    {
     "data": {
      "text/plain": [
       "'https://www.fiverr.com/categories/programming-tech/data-analysis-services/data-mining-scraping'"
      ]
     },
     "execution_count": 21,
     "metadata": {},
     "output_type": "execute_result"
    }
   ],
   "source": [
    "# use custom headers to get around fiverr block, Host and User-Agent seem to be the necessary headers\n",
    "url = 'https://www.fiverr.com/categories/programming-tech/data-analysis-services/data-mining-scraping'\n",
    "headers = {\n",
    "#     \"Accept\": \"text/html,application/xhtml+xml,application/xml;q=0.9,image/webp,image/apng,*/*;q=0.8,application/signed-exchange;v=b3;q=0.9\", \n",
    "#     \"Accept-Encoding\": \"gzip, deflate\", \n",
    "#     \"Accept-Language\": \"en-GB,en-US;q=0.9,en;q=0.8\", \n",
    "#     \"Dnt\": \"1\", \n",
    "    \"Host\": \"httpbin.org\", \n",
    "#     \"Upgrade-Insecure-Requests\": \"1\", \n",
    "    \"User-Agent\": \"Mozilla/5.0 (Macintosh; Intel Mac OS X 10_15_4) AppleWebKit/537.36 (KHTML, like Gecko) Chrome/83.0.4103.97 Safari/537.36\", \n",
    "  }\n",
    "res4 = requests.get(url, headers=headers)\n",
    "res4.url"
   ]
  },
  {
   "cell_type": "code",
   "execution_count": 22,
   "metadata": {
    "ExecuteTime": {
     "end_time": "2020-07-29T02:03:01.283407Z",
     "start_time": "2020-07-29T02:03:00.812532Z"
    }
   },
   "outputs": [
    {
     "data": {
      "text/plain": [
       "\"[{'id': '13043565662', 'type': 'CreateEvent', 'actor': {'id': 47148648, 'login': 'svc-software-factory', 'display_login': 'svc-software-factory', 'gravatar_id': '', 'url': 'https://api.github.com/users/svc-software-factory', 'avatar_url': 'https://avatars.githubusercontent.com/u/47148648?'}, 'repo': {'id': 197735801, 'name': 'adeo-gitlab/sync-github-gitlab-31', 'url': 'https://api.github.com/repos/adeo-gitlab/sync-github-gitlab-31'}, 'payload': {'ref': '2020-07-29_01-57-32_527_scenario1', 'ref_t\""
      ]
     },
     "execution_count": 22,
     "metadata": {},
     "output_type": "execute_result"
    }
   ],
   "source": [
    "# There’s also a builtin JSON decoder, in case you’re dealing with JSON data\n",
    "res5 = requests.get('https://api.github.com/events')\n",
    "\n",
    "str(res5.json())[:500]"
   ]
  }
 ],
 "metadata": {
  "kernelspec": {
   "display_name": "Python 3",
   "language": "python",
   "name": "python3"
  },
  "language_info": {
   "codemirror_mode": {
    "name": "ipython",
    "version": 3
   },
   "file_extension": ".py",
   "mimetype": "text/x-python",
   "name": "python",
   "nbconvert_exporter": "python",
   "pygments_lexer": "ipython3",
   "version": "3.6.8"
  },
  "toc": {
   "base_numbering": 1,
   "nav_menu": {},
   "number_sections": true,
   "sideBar": true,
   "skip_h1_title": false,
   "title_cell": "Table of Contents",
   "title_sidebar": "Contents",
   "toc_cell": false,
   "toc_position": {},
   "toc_section_display": true,
   "toc_window_display": false
  }
 },
 "nbformat": 4,
 "nbformat_minor": 4
}
