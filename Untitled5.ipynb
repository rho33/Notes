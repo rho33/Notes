{
 "cells": [
  {
   "cell_type": "markdown",
   "metadata": {},
   "source": [
    "todo:\n",
    "- make all tables with 2 TVs\n",
    "    - test results\n",
    "    - test details\n",
    "    - televisions\n",
    "    - apl\n",
    "    - "
   ]
  },
  {
   "cell_type": "code",
   "execution_count": 1,
   "metadata": {
    "ExecuteTime": {
     "end_time": "2019-12-13T01:10:17.211111Z",
     "start_time": "2019-12-13T01:10:16.725232Z"
    }
   },
   "outputs": [],
   "source": [
    "import pandas as pd\n",
    "from sqlalchemy import create_engine, inspect\n",
    "import sqlite3"
   ]
  },
  {
   "cell_type": "code",
   "execution_count": 38,
   "metadata": {
    "ExecuteTime": {
     "end_time": "2019-12-13T05:17:33.450090Z",
     "start_time": "2019-12-13T05:17:33.446100Z"
    }
   },
   "outputs": [],
   "source": [
    "engine = create_engine(\"sqlite:///tv-testing.db\")\n",
    "\n",
    "sony = {}\n",
    "sony['entry_forms'] = r\"G:\\Shared drives\\Automated Test\\Final Test Files (All TVs)\\LabTests\\Sony_XBR-55X950G - GOOD\\Data\\Sony_XBR-55X950G-entry-forms.xlsx\"\n",
    "sony['raw_results'] = r\"G:\\Shared drives\\Automated Test\\Final Test Files (All TVs)\\LabTests\\Sony_XBR-55X950G - GOOD\\Data\\2019-11-20 13.06.32 - Sony_XBR-55X950G.csv\"\n",
    "sony['test_sequence'] = r\"G:\\Shared drives\\Automated Test\\Final Test Files (All TVs)\\LabTests\\Sony_XBR-55X950G - GOOD\\Data\\Sony_XBR-55X950G-test-sequence.xlsx\""
   ]
  },
  {
   "cell_type": "code",
   "execution_count": 39,
   "metadata": {
    "ExecuteTime": {
     "end_time": "2019-12-13T05:17:35.313545Z",
     "start_time": "2019-12-13T05:17:35.309555Z"
    }
   },
   "outputs": [],
   "source": [
    "sam = {}\n",
    "sam['entry_forms'] = r\"G:\\Shared drives\\Automated Test\\Final Test Files (All TVs)\\LabTests\\SamsungQN49Q70R - GOOD\\Data\\SamsungQN49Q70R-entry-forms.xlsx\"\n",
    "sam['raw_results'] = r\"G:\\Shared drives\\Automated Test\\Final Test Files (All TVs)\\LabTests\\SamsungQN49Q70R - GOOD\\Data\\2019-11-18 17.18.03 - Samsung_QN49Q70R.csv\"\n",
    "sam['test_sequence'] = r\"G:\\Shared drives\\Automated Test\\Final Test Files (All TVs)\\LabTests\\SamsungQN49Q70R - GOOD\\Data\\Samsung_QN49Q70R-test-sequence.xlsx\""
   ]
  },
  {
   "cell_type": "markdown",
   "metadata": {},
   "source": [
    "# television"
   ]
  },
  {
   "cell_type": "code",
   "execution_count": 61,
   "metadata": {
    "ExecuteTime": {
     "end_time": "2019-12-13T05:50:41.408149Z",
     "start_time": "2019-12-13T05:50:40.919586Z"
    }
   },
   "outputs": [
    {
     "data": {
      "text/plain": [
       "<sqlalchemy.engine.result.ResultProxy at 0x210621dbb88>"
      ]
     },
     "execution_count": 61,
     "metadata": {},
     "output_type": "execute_result"
    }
   ],
   "source": [
    "try:\n",
    "    sql = \"\"\"drop table televisions\"\"\"\n",
    "    engine.execute(sql)\n",
    "except:\n",
    "    pass\n",
    "\n",
    "sql = \"\"\"\n",
    "CREATE TABLE televisions (\n",
    "    id INTEGER PRIMARY KEY AUTOINCREMENT, \n",
    "    make TEXT, \n",
    "    model TEXT, \n",
    "    model_year INTEGER,\n",
    "    manufacture_year INTEGER,\n",
    "    manufacture_month INTEGER,\n",
    "    screen_diagonal_inches FLOAT, \n",
    "    screen_aspect_ratio FLOAT\n",
    ")\n",
    "\"\"\"\n",
    "engine.execute(sql)"
   ]
  },
  {
   "cell_type": "code",
   "execution_count": 63,
   "metadata": {
    "ExecuteTime": {
     "end_time": "2019-12-13T05:53:01.450608Z",
     "start_time": "2019-12-13T05:53:01.446619Z"
    }
   },
   "outputs": [],
   "source": [
    "d = {\n",
    "    'Make': 'make',\n",
    "    'Model number': 'model',\n",
    "    'Model year': 'model_year',\n",
    "    'Manufacture Year': 'manufacture_year',\n",
    "    'Manufacture Month': 'manufacture_month',\n",
    "    'Screen diagonal (Inches)': 'screen_diagonal_inches',\n",
    "    'Aspect Ratio (w/h)': 'screen_aspect_ratio',\n",
    "}"
   ]
  },
  {
   "cell_type": "code",
   "execution_count": 64,
   "metadata": {
    "ExecuteTime": {
     "end_time": "2019-12-13T05:53:02.614415Z",
     "start_time": "2019-12-13T05:53:02.401362Z"
    }
   },
   "outputs": [
    {
     "data": {
      "text/plain": [
       "[(1, 'Samsung', 'QN49Q70RAFXZA', 2019, 2019, 10, 48.5, 1.7777777777777777)]"
      ]
     },
     "execution_count": 64,
     "metadata": {},
     "output_type": "execute_result"
    }
   ],
   "source": [
    "md_df = pd.read_excel(sam['entry_forms'], header=None, index_col=0).T\n",
    "md_df = md_df[d.keys()].rename(columns=d)\n",
    "md_df.to_sql('televisions',con=engine, if_exists='append', index=False)\n",
    "engine.execute('select * from televisions').fetchall()"
   ]
  },
  {
   "cell_type": "code",
   "execution_count": 65,
   "metadata": {
    "ExecuteTime": {
     "end_time": "2019-12-13T05:53:47.101094Z",
     "start_time": "2019-12-13T05:53:46.566315Z"
    }
   },
   "outputs": [
    {
     "data": {
      "text/plain": [
       "[(1, 'Samsung', 'QN49Q70RAFXZA', 2019, 2019, 10, 48.5, 1.7777777777777777),\n",
       " (2, 'Sony', 'XBR-55X950G', 2019, 2019, 8, 54.6, 1.7777777777777777)]"
      ]
     },
     "execution_count": 65,
     "metadata": {},
     "output_type": "execute_result"
    }
   ],
   "source": [
    "md_df = pd.read_excel(sony['entry_forms'], header=None, index_col=0).T\n",
    "md_df = md_df[d.keys()].rename(columns=d)\n",
    "md_df.to_sql('televisions',con=engine, if_exists='append', index=False)\n",
    "engine.execute('select * from televisions').fetchall()"
   ]
  },
  {
   "cell_type": "markdown",
   "metadata": {},
   "source": [
    "# apl"
   ]
  },
  {
   "cell_type": "code",
   "execution_count": null,
   "metadata": {},
   "outputs": [],
   "source": [
    "try:\n",
    "    sql = \"\"\"drop table apl\"\"\"\n",
    "    engine.execute(sql)\n",
    "except:\n",
    "    pass\n",
    "\n",
    "sql = \"\"\"\n",
    "CREATE TABLE apl (\n",
    "    id INTEGER PRIMARY KEY AUTOINCREMENT,\n",
    "    clip_title TEXT,\n",
    "    sample INTEGER, \n",
    "    sample_time TEXT, \n",
    "    apl FLOAT,\n",
    "    red FLOAT,\n",
    "    green FLOAT,\n",
    "    blue FLOAT\n",
    ")\n",
    "\"\"\"\n",
    "engine.execute(sql)"
   ]
  },
  {
   "cell_type": "markdown",
   "metadata": {},
   "source": [
    "# test_results"
   ]
  },
  {
   "cell_type": "code",
   "execution_count": 74,
   "metadata": {
    "ExecuteTime": {
     "end_time": "2019-12-13T06:29:01.852601Z",
     "start_time": "2019-12-13T06:29:01.312632Z"
    }
   },
   "outputs": [
    {
     "data": {
      "text/plain": [
       "<sqlalchemy.engine.result.ResultProxy at 0x210629a4b48>"
      ]
     },
     "execution_count": 74,
     "metadata": {},
     "output_type": "execute_result"
    }
   ],
   "source": [
    "try:\n",
    "    sql = \"\"\"drop table test_results\"\"\"\n",
    "    engine.execute(sql)\n",
    "except:\n",
    "    pass\n",
    "\n",
    "\n",
    "sql = \"\"\"\n",
    "CREATE TABLE test_results (\n",
    "    id INTEGER PRIMARY KEY AUTOINCREMENT, \n",
    "    television_id INTEGER,\n",
    "    timestamp TEXT, \n",
    "    tag TEXT, \n",
    "    luminance FLOAT, \n",
    "    power FLOAT, \n",
    "    voltage FLOAT, \n",
    "    frequency FLOAT, \n",
    "    power_factor FLOAT, \n",
    "    serial_buffer TEXT, \n",
    "    max_luminance FLOAT,\n",
    "    FOREIGN KEY(television_id) REFERENCES televisions(id)\n",
    ")\n",
    "\"\"\"\n",
    "engine.execute(sql)"
   ]
  },
  {
   "cell_type": "code",
   "execution_count": 76,
   "metadata": {
    "ExecuteTime": {
     "end_time": "2019-12-13T06:29:17.320409Z",
     "start_time": "2019-12-13T06:29:15.296491Z"
    }
   },
   "outputs": [],
   "source": [
    "path = r\"G:\\Shared drives\\Automated Test\\Final Test Files (All TVs)\\LabTests\\SamsungQN49Q70R - GOOD\\Data\\2019-11-18 17.18.03 - Samsung_QN49Q70R.csv\"\n",
    "df = pd.read_csv(path)\n",
    "df.columns = [col.lower().replace(' ', '_') for col in df.columns]\n",
    "df['television_id'] =1\n",
    "# df.columns\n",
    "df.to_sql('test_results',con=engine, if_exists='append', index=False)"
   ]
  },
  {
   "cell_type": "code",
   "execution_count": 68,
   "metadata": {
    "ExecuteTime": {
     "end_time": "2019-12-13T06:27:53.156204Z",
     "start_time": "2019-12-13T06:27:52.320600Z"
    },
    "scrolled": true
   },
   "outputs": [],
   "source": [
    "# engine = create_engine(\"sqlite:///tv-testing.db\")\n",
    "\n",
    "df.to_sql('test_results',con=engine, if_exists='append', index=False)\n",
    "\n",
    "inspector = inspect(engine)"
   ]
  },
  {
   "cell_type": "code",
   "execution_count": 8,
   "metadata": {
    "ExecuteTime": {
     "end_time": "2019-12-13T01:10:54.681906Z",
     "start_time": "2019-12-13T01:10:54.252754Z"
    },
    "code_folding": [
     0
    ]
   },
   "outputs": [],
   "source": [
    "# primary key workaround\n",
    "import re\n",
    "\n",
    "def get_create_table_string(tablename, connection):\n",
    "    sql = \"\"\"\n",
    "    select * from sqlite_master where name = \"{}\" and type = \"table\"\n",
    "    \"\"\".format(tablename) \n",
    "    result = connection.execute(sql)\n",
    "\n",
    "    create_table_string = result.fetchmany()[0][4]\n",
    "    return create_table_string\n",
    "\n",
    "def add_pk_to_create_table_string(create_table_string, colname):\n",
    "    regex = \"(\\n.+{}[^,]+)(,)\".format(colname)\n",
    "    return re.sub(regex, \"\\\\1 PRIMARY KEY,\",  create_table_string, count=1)\n",
    "\n",
    "def add_pk_to_sqlite_table(tablename, index_column, connection):\n",
    "    cts = get_create_table_string(tablename, connection)\n",
    "    cts = add_pk_to_create_table_string(cts, index_column)\n",
    "    template = \"\"\"\n",
    "    BEGIN TRANSACTION;\n",
    "        ALTER TABLE {tablename} RENAME TO {tablename}_old_;\n",
    "\n",
    "        {cts};\n",
    "\n",
    "        INSERT INTO {tablename} SELECT * FROM {tablename}_old_;\n",
    "        \n",
    "\n",
    "        DROP TABLE {tablename}_old_;\n",
    "\n",
    "    COMMIT TRANSACTION;\n",
    "    \"\"\"\n",
    "\n",
    "    create_and_drop_sql = template.format(tablename = tablename, cts = cts)\n",
    "    connection.executescript(create_and_drop_sql)\n",
    "\n",
    "sqlite3_conn = sqlite3.connect(\"tv-testing.db\")\n",
    "add_pk_to_sqlite_table(\"test_results\", \"index\", sqlite3_conn)"
   ]
  },
  {
   "cell_type": "code",
   "execution_count": 32,
   "metadata": {
    "ExecuteTime": {
     "end_time": "2019-12-13T01:30:43.058297Z",
     "start_time": "2019-12-13T01:30:43.046329Z"
    },
    "collapsed": true
   },
   "outputs": [
    {
     "data": {
      "text/plain": [
       "[{'name': 'index',\n",
       "  'type': INTEGER(),\n",
       "  'nullable': True,\n",
       "  'default': None,\n",
       "  'autoincrement': 'auto',\n",
       "  'primary_key': 1},\n",
       " {'name': 'timestamp',\n",
       "  'type': TEXT(),\n",
       "  'nullable': True,\n",
       "  'default': None,\n",
       "  'autoincrement': 'auto',\n",
       "  'primary_key': 0},\n",
       " {'name': 'tag',\n",
       "  'type': TEXT(),\n",
       "  'nullable': True,\n",
       "  'default': None,\n",
       "  'autoincrement': 'auto',\n",
       "  'primary_key': 0},\n",
       " {'name': 'luminance',\n",
       "  'type': FLOAT(),\n",
       "  'nullable': True,\n",
       "  'default': None,\n",
       "  'autoincrement': 'auto',\n",
       "  'primary_key': 0},\n",
       " {'name': 'power',\n",
       "  'type': FLOAT(),\n",
       "  'nullable': True,\n",
       "  'default': None,\n",
       "  'autoincrement': 'auto',\n",
       "  'primary_key': 0},\n",
       " {'name': 'voltage',\n",
       "  'type': FLOAT(),\n",
       "  'nullable': True,\n",
       "  'default': None,\n",
       "  'autoincrement': 'auto',\n",
       "  'primary_key': 0},\n",
       " {'name': 'frequency',\n",
       "  'type': FLOAT(),\n",
       "  'nullable': True,\n",
       "  'default': None,\n",
       "  'autoincrement': 'auto',\n",
       "  'primary_key': 0},\n",
       " {'name': 'power_factor',\n",
       "  'type': FLOAT(),\n",
       "  'nullable': True,\n",
       "  'default': None,\n",
       "  'autoincrement': 'auto',\n",
       "  'primary_key': 0},\n",
       " {'name': 'serial_buffer',\n",
       "  'type': TEXT(),\n",
       "  'nullable': True,\n",
       "  'default': None,\n",
       "  'autoincrement': 'auto',\n",
       "  'primary_key': 0},\n",
       " {'name': 'max_luminance',\n",
       "  'type': FLOAT(),\n",
       "  'nullable': True,\n",
       "  'default': None,\n",
       "  'autoincrement': 'auto',\n",
       "  'primary_key': 0}]"
      ]
     },
     "execution_count": 32,
     "metadata": {},
     "output_type": "execute_result"
    }
   ],
   "source": [
    "inspector.get_columns('test_results')"
   ]
  },
  {
   "cell_type": "code",
   "execution_count": 70,
   "metadata": {
    "ExecuteTime": {
     "end_time": "2019-12-13T06:28:04.287720Z",
     "start_time": "2019-12-13T06:28:04.112988Z"
    }
   },
   "outputs": [
    {
     "data": {
      "text/html": [
       "<div>\n",
       "<style scoped>\n",
       "    .dataframe tbody tr th:only-of-type {\n",
       "        vertical-align: middle;\n",
       "    }\n",
       "\n",
       "    .dataframe tbody tr th {\n",
       "        vertical-align: top;\n",
       "    }\n",
       "\n",
       "    .dataframe thead th {\n",
       "        text-align: right;\n",
       "    }\n",
       "</style>\n",
       "<table border=\"1\" class=\"dataframe\">\n",
       "  <thead>\n",
       "    <tr style=\"text-align: right;\">\n",
       "      <th></th>\n",
       "      <th>television_id</th>\n",
       "      <th>timestamp</th>\n",
       "      <th>tag</th>\n",
       "      <th>luminance</th>\n",
       "      <th>power</th>\n",
       "      <th>voltage</th>\n",
       "      <th>frequency</th>\n",
       "      <th>power_factor</th>\n",
       "      <th>serial_buffer</th>\n",
       "      <th>max_luminance</th>\n",
       "    </tr>\n",
       "    <tr>\n",
       "      <th>id</th>\n",
       "      <th></th>\n",
       "      <th></th>\n",
       "      <th></th>\n",
       "      <th></th>\n",
       "      <th></th>\n",
       "      <th></th>\n",
       "      <th></th>\n",
       "      <th></th>\n",
       "      <th></th>\n",
       "      <th></th>\n",
       "    </tr>\n",
       "  </thead>\n",
       "  <tbody>\n",
       "    <tr>\n",
       "      <th>1</th>\n",
       "      <td>1</td>\n",
       "      <td>11/18/2019 - 17:18:04.283</td>\n",
       "      <td>1</td>\n",
       "      <td>119.765302</td>\n",
       "      <td>132.436950</td>\n",
       "      <td>117.35</td>\n",
       "      <td>59.980</td>\n",
       "      <td>0.9790</td>\n",
       "      <td>S:  117303Vo:  115503Am:  132806Wa:      01Wh:...</td>\n",
       "      <td>504.353911</td>\n",
       "    </tr>\n",
       "    <tr>\n",
       "      <th>2</th>\n",
       "      <td>1</td>\n",
       "      <td>11/18/2019 - 17:18:05.282</td>\n",
       "      <td>1</td>\n",
       "      <td>119.830604</td>\n",
       "      <td>132.486740</td>\n",
       "      <td>117.40</td>\n",
       "      <td>59.995</td>\n",
       "      <td>0.9790</td>\n",
       "      <td>S:  117403Vo:  115403Am:  132806Wa:      01Wh:...</td>\n",
       "      <td>507.600825</td>\n",
       "    </tr>\n",
       "    <tr>\n",
       "      <th>3</th>\n",
       "      <td>1</td>\n",
       "      <td>11/18/2019 - 17:18:06.283</td>\n",
       "      <td>1</td>\n",
       "      <td>123.593833</td>\n",
       "      <td>132.735690</td>\n",
       "      <td>117.55</td>\n",
       "      <td>59.980</td>\n",
       "      <td>0.9790</td>\n",
       "      <td>S:  117603Vo:  115103Am:  132606Wa:      01Wh:...</td>\n",
       "      <td>508.683129</td>\n",
       "    </tr>\n",
       "    <tr>\n",
       "      <th>4</th>\n",
       "      <td>1</td>\n",
       "      <td>11/18/2019 - 17:18:07.283</td>\n",
       "      <td>1</td>\n",
       "      <td>141.676282</td>\n",
       "      <td>133.731490</td>\n",
       "      <td>117.45</td>\n",
       "      <td>59.965</td>\n",
       "      <td>0.9790</td>\n",
       "      <td>S:  117403Vo:  116803Am:  134406Wa:      01Wh:...</td>\n",
       "      <td>527.082306</td>\n",
       "    </tr>\n",
       "    <tr>\n",
       "      <th>5</th>\n",
       "      <td>1</td>\n",
       "      <td>11/18/2019 - 17:18:08.284</td>\n",
       "      <td>1</td>\n",
       "      <td>142.314164</td>\n",
       "      <td>132.934850</td>\n",
       "      <td>117.60</td>\n",
       "      <td>59.980</td>\n",
       "      <td>0.9790</td>\n",
       "      <td>S:  117603Vo:  115403Am:  132906Wa:      01Wh:...</td>\n",
       "      <td>526.000002</td>\n",
       "    </tr>\n",
       "    <tr>\n",
       "      <th>...</th>\n",
       "      <td>...</td>\n",
       "      <td>...</td>\n",
       "      <td>...</td>\n",
       "      <td>...</td>\n",
       "      <td>...</td>\n",
       "      <td>...</td>\n",
       "      <td>...</td>\n",
       "      <td>...</td>\n",
       "      <td>...</td>\n",
       "      <td>...</td>\n",
       "    </tr>\n",
       "    <tr>\n",
       "      <th>16892</th>\n",
       "      <td>1</td>\n",
       "      <td>11/18/2019 - 21:59:35.283</td>\n",
       "      <td>69</td>\n",
       "      <td>0.015441</td>\n",
       "      <td>22.211848</td>\n",
       "      <td>119.20</td>\n",
       "      <td>60.025</td>\n",
       "      <td>0.8895</td>\n",
       "      <td>S:  119103Vo:  206802Am:  219305Wa:      01Wh:...</td>\n",
       "      <td>332.267491</td>\n",
       "    </tr>\n",
       "    <tr>\n",
       "      <th>16893</th>\n",
       "      <td>1</td>\n",
       "      <td>11/18/2019 - 21:59:36.283</td>\n",
       "      <td>69</td>\n",
       "      <td>0.015471</td>\n",
       "      <td>22.271596</td>\n",
       "      <td>119.30</td>\n",
       "      <td>60.015</td>\n",
       "      <td>0.8900</td>\n",
       "      <td>S:  119303Vo:  208302Am:  221205Wa:      01Wh:...</td>\n",
       "      <td>330.102882</td>\n",
       "    </tr>\n",
       "    <tr>\n",
       "      <th>16894</th>\n",
       "      <td>1</td>\n",
       "      <td>11/18/2019 - 21:59:37.282</td>\n",
       "      <td>69</td>\n",
       "      <td>0.015336</td>\n",
       "      <td>22.132184</td>\n",
       "      <td>119.30</td>\n",
       "      <td>60.025</td>\n",
       "      <td>0.8890</td>\n",
       "      <td>S:  119303Vo:  206802Am:  219405Wa:      01Wh:...</td>\n",
       "      <td>281.399178</td>\n",
       "    </tr>\n",
       "    <tr>\n",
       "      <th>16895</th>\n",
       "      <td>1</td>\n",
       "      <td>11/18/2019 - 21:59:38.284</td>\n",
       "      <td>69</td>\n",
       "      <td>0.015266</td>\n",
       "      <td>22.311428</td>\n",
       "      <td>119.30</td>\n",
       "      <td>60.025</td>\n",
       "      <td>0.8895</td>\n",
       "      <td>S:  119303Vo:  207402Am:  220205Wa:      01Wh:...</td>\n",
       "      <td>232.695474</td>\n",
       "    </tr>\n",
       "    <tr>\n",
       "      <th>16896</th>\n",
       "      <td>1</td>\n",
       "      <td>11/18/2019 - 21:59:39.282</td>\n",
       "      <td>70</td>\n",
       "      <td>0.015266</td>\n",
       "      <td>22.052520</td>\n",
       "      <td>119.30</td>\n",
       "      <td>60.020</td>\n",
       "      <td>0.8890</td>\n",
       "      <td>S:  119303Vo:  206402Am:  219005Wa:      01Wh:...</td>\n",
       "      <td>235.942388</td>\n",
       "    </tr>\n",
       "  </tbody>\n",
       "</table>\n",
       "<p>16896 rows × 10 columns</p>\n",
       "</div>"
      ],
      "text/plain": [
       "       television_id                  timestamp tag   luminance       power  \\\n",
       "id                                                                            \n",
       "1                  1  11/18/2019 - 17:18:04.283   1  119.765302  132.436950   \n",
       "2                  1  11/18/2019 - 17:18:05.282   1  119.830604  132.486740   \n",
       "3                  1  11/18/2019 - 17:18:06.283   1  123.593833  132.735690   \n",
       "4                  1  11/18/2019 - 17:18:07.283   1  141.676282  133.731490   \n",
       "5                  1  11/18/2019 - 17:18:08.284   1  142.314164  132.934850   \n",
       "...              ...                        ...  ..         ...         ...   \n",
       "16892              1  11/18/2019 - 21:59:35.283  69    0.015441   22.211848   \n",
       "16893              1  11/18/2019 - 21:59:36.283  69    0.015471   22.271596   \n",
       "16894              1  11/18/2019 - 21:59:37.282  69    0.015336   22.132184   \n",
       "16895              1  11/18/2019 - 21:59:38.284  69    0.015266   22.311428   \n",
       "16896              1  11/18/2019 - 21:59:39.282  70    0.015266   22.052520   \n",
       "\n",
       "       voltage  frequency  power_factor  \\\n",
       "id                                        \n",
       "1       117.35     59.980        0.9790   \n",
       "2       117.40     59.995        0.9790   \n",
       "3       117.55     59.980        0.9790   \n",
       "4       117.45     59.965        0.9790   \n",
       "5       117.60     59.980        0.9790   \n",
       "...        ...        ...           ...   \n",
       "16892   119.20     60.025        0.8895   \n",
       "16893   119.30     60.015        0.8900   \n",
       "16894   119.30     60.025        0.8890   \n",
       "16895   119.30     60.025        0.8895   \n",
       "16896   119.30     60.020        0.8890   \n",
       "\n",
       "                                           serial_buffer  max_luminance  \n",
       "id                                                                       \n",
       "1      S:  117303Vo:  115503Am:  132806Wa:      01Wh:...     504.353911  \n",
       "2      S:  117403Vo:  115403Am:  132806Wa:      01Wh:...     507.600825  \n",
       "3      S:  117603Vo:  115103Am:  132606Wa:      01Wh:...     508.683129  \n",
       "4      S:  117403Vo:  116803Am:  134406Wa:      01Wh:...     527.082306  \n",
       "5      S:  117603Vo:  115403Am:  132906Wa:      01Wh:...     526.000002  \n",
       "...                                                  ...            ...  \n",
       "16892  S:  119103Vo:  206802Am:  219305Wa:      01Wh:...     332.267491  \n",
       "16893  S:  119303Vo:  208302Am:  221205Wa:      01Wh:...     330.102882  \n",
       "16894  S:  119303Vo:  206802Am:  219405Wa:      01Wh:...     281.399178  \n",
       "16895  S:  119303Vo:  207402Am:  220205Wa:      01Wh:...     232.695474  \n",
       "16896  S:  119303Vo:  206402Am:  219005Wa:      01Wh:...     235.942388  \n",
       "\n",
       "[16896 rows x 10 columns]"
      ]
     },
     "execution_count": 70,
     "metadata": {},
     "output_type": "execute_result"
    }
   ],
   "source": [
    "pd.read_sql('test_results', engine, index_col='id')"
   ]
  },
  {
   "cell_type": "code",
   "execution_count": 77,
   "metadata": {
    "ExecuteTime": {
     "end_time": "2019-12-13T06:29:38.619430Z",
     "start_time": "2019-12-13T06:29:37.399406Z"
    }
   },
   "outputs": [],
   "source": [
    "path = r\"G:\\Shared drives\\Automated Test\\Final Test Files (All TVs)\\LabTests\\Sony_XBR-55X950G - GOOD\\Data\\2019-11-20 13.06.32 - Sony_XBR-55X950G.csv\"\n",
    "df = pd.read_csv(path)\n",
    "df.columns = [col.lower().replace(' ', '_') for col in df.columns]\n",
    "df['television_id'] = 2\n",
    "df.to_sql('test_results',con=engine, if_exists='append', index=False)"
   ]
  },
  {
   "cell_type": "code",
   "execution_count": 78,
   "metadata": {
    "ExecuteTime": {
     "end_time": "2019-12-13T06:29:41.600999Z",
     "start_time": "2019-12-13T06:29:41.400259Z"
    }
   },
   "outputs": [
    {
     "data": {
      "text/html": [
       "<div>\n",
       "<style scoped>\n",
       "    .dataframe tbody tr th:only-of-type {\n",
       "        vertical-align: middle;\n",
       "    }\n",
       "\n",
       "    .dataframe tbody tr th {\n",
       "        vertical-align: top;\n",
       "    }\n",
       "\n",
       "    .dataframe thead th {\n",
       "        text-align: right;\n",
       "    }\n",
       "</style>\n",
       "<table border=\"1\" class=\"dataframe\">\n",
       "  <thead>\n",
       "    <tr style=\"text-align: right;\">\n",
       "      <th></th>\n",
       "      <th>television_id</th>\n",
       "      <th>timestamp</th>\n",
       "      <th>tag</th>\n",
       "      <th>luminance</th>\n",
       "      <th>power</th>\n",
       "      <th>voltage</th>\n",
       "      <th>frequency</th>\n",
       "      <th>power_factor</th>\n",
       "      <th>serial_buffer</th>\n",
       "      <th>max_luminance</th>\n",
       "    </tr>\n",
       "    <tr>\n",
       "      <th>id</th>\n",
       "      <th></th>\n",
       "      <th></th>\n",
       "      <th></th>\n",
       "      <th></th>\n",
       "      <th></th>\n",
       "      <th></th>\n",
       "      <th></th>\n",
       "      <th></th>\n",
       "      <th></th>\n",
       "      <th></th>\n",
       "    </tr>\n",
       "  </thead>\n",
       "  <tbody>\n",
       "    <tr>\n",
       "      <th>1</th>\n",
       "      <td>1</td>\n",
       "      <td>11/18/2019 - 17:18:04.283</td>\n",
       "      <td>1</td>\n",
       "      <td>119.765302</td>\n",
       "      <td>132.436950</td>\n",
       "      <td>117.35</td>\n",
       "      <td>59.980</td>\n",
       "      <td>0.9790</td>\n",
       "      <td>S:  117303Vo:  115503Am:  132806Wa:      01Wh:...</td>\n",
       "      <td>504.353911</td>\n",
       "    </tr>\n",
       "    <tr>\n",
       "      <th>2</th>\n",
       "      <td>1</td>\n",
       "      <td>11/18/2019 - 17:18:05.282</td>\n",
       "      <td>1</td>\n",
       "      <td>119.830604</td>\n",
       "      <td>132.486740</td>\n",
       "      <td>117.40</td>\n",
       "      <td>59.995</td>\n",
       "      <td>0.9790</td>\n",
       "      <td>S:  117403Vo:  115403Am:  132806Wa:      01Wh:...</td>\n",
       "      <td>507.600825</td>\n",
       "    </tr>\n",
       "    <tr>\n",
       "      <th>3</th>\n",
       "      <td>1</td>\n",
       "      <td>11/18/2019 - 17:18:06.283</td>\n",
       "      <td>1</td>\n",
       "      <td>123.593833</td>\n",
       "      <td>132.735690</td>\n",
       "      <td>117.55</td>\n",
       "      <td>59.980</td>\n",
       "      <td>0.9790</td>\n",
       "      <td>S:  117603Vo:  115103Am:  132606Wa:      01Wh:...</td>\n",
       "      <td>508.683129</td>\n",
       "    </tr>\n",
       "    <tr>\n",
       "      <th>4</th>\n",
       "      <td>1</td>\n",
       "      <td>11/18/2019 - 17:18:07.283</td>\n",
       "      <td>1</td>\n",
       "      <td>141.676282</td>\n",
       "      <td>133.731490</td>\n",
       "      <td>117.45</td>\n",
       "      <td>59.965</td>\n",
       "      <td>0.9790</td>\n",
       "      <td>S:  117403Vo:  116803Am:  134406Wa:      01Wh:...</td>\n",
       "      <td>527.082306</td>\n",
       "    </tr>\n",
       "    <tr>\n",
       "      <th>5</th>\n",
       "      <td>1</td>\n",
       "      <td>11/18/2019 - 17:18:08.284</td>\n",
       "      <td>1</td>\n",
       "      <td>142.314164</td>\n",
       "      <td>132.934850</td>\n",
       "      <td>117.60</td>\n",
       "      <td>59.980</td>\n",
       "      <td>0.9790</td>\n",
       "      <td>S:  117603Vo:  115403Am:  132906Wa:      01Wh:...</td>\n",
       "      <td>526.000002</td>\n",
       "    </tr>\n",
       "    <tr>\n",
       "      <th>...</th>\n",
       "      <td>...</td>\n",
       "      <td>...</td>\n",
       "      <td>...</td>\n",
       "      <td>...</td>\n",
       "      <td>...</td>\n",
       "      <td>...</td>\n",
       "      <td>...</td>\n",
       "      <td>...</td>\n",
       "      <td>...</td>\n",
       "      <td>...</td>\n",
       "    </tr>\n",
       "    <tr>\n",
       "      <th>31055</th>\n",
       "      <td>2</td>\n",
       "      <td>11/20/2019 - 17:02:31.289</td>\n",
       "      <td>65</td>\n",
       "      <td>13.938762</td>\n",
       "      <td>81.572054</td>\n",
       "      <td>116.80</td>\n",
       "      <td>60.020</td>\n",
       "      <td>0.9860</td>\n",
       "      <td>S:  116503Vo:  708702Am:  814805Wa:      01Wh:...</td>\n",
       "      <td>229.230004</td>\n",
       "    </tr>\n",
       "    <tr>\n",
       "      <th>31056</th>\n",
       "      <td>2</td>\n",
       "      <td>11/20/2019 - 17:02:32.287</td>\n",
       "      <td>65</td>\n",
       "      <td>13.936182</td>\n",
       "      <td>81.587064</td>\n",
       "      <td>117.00</td>\n",
       "      <td>60.020</td>\n",
       "      <td>0.9855</td>\n",
       "      <td>S:  117403Vo:  704702Am:  815905Wa:      01Wh:...</td>\n",
       "      <td>226.075463</td>\n",
       "    </tr>\n",
       "    <tr>\n",
       "      <th>31057</th>\n",
       "      <td>2</td>\n",
       "      <td>11/20/2019 - 17:02:33.289</td>\n",
       "      <td>65</td>\n",
       "      <td>13.938817</td>\n",
       "      <td>81.557043</td>\n",
       "      <td>116.25</td>\n",
       "      <td>60.025</td>\n",
       "      <td>0.9865</td>\n",
       "      <td>S:  116103Vo:  710202Am:  814405Wa:      01Wh:...</td>\n",
       "      <td>225.023949</td>\n",
       "    </tr>\n",
       "    <tr>\n",
       "      <th>31058</th>\n",
       "      <td>2</td>\n",
       "      <td>11/20/2019 - 17:02:34.288</td>\n",
       "      <td>65</td>\n",
       "      <td>13.936832</td>\n",
       "      <td>81.527022</td>\n",
       "      <td>117.20</td>\n",
       "      <td>60.010</td>\n",
       "      <td>0.9855</td>\n",
       "      <td>S:  117103Vo:  706202Am:  815805Wa:      01Wh:...</td>\n",
       "      <td>226.075463</td>\n",
       "    </tr>\n",
       "    <tr>\n",
       "      <th>31059</th>\n",
       "      <td>2</td>\n",
       "      <td>11/20/2019 - 17:02:35.288</td>\n",
       "      <td>65</td>\n",
       "      <td>13.530224</td>\n",
       "      <td>81.527022</td>\n",
       "      <td>116.85</td>\n",
       "      <td>60.025</td>\n",
       "      <td>0.9855</td>\n",
       "      <td>S:  117203Vo:  703702Am:  813705Wa:      01Wh:...</td>\n",
       "      <td>226.075463</td>\n",
       "    </tr>\n",
       "  </tbody>\n",
       "</table>\n",
       "<p>31059 rows × 10 columns</p>\n",
       "</div>"
      ],
      "text/plain": [
       "       television_id                  timestamp tag   luminance       power  \\\n",
       "id                                                                            \n",
       "1                  1  11/18/2019 - 17:18:04.283   1  119.765302  132.436950   \n",
       "2                  1  11/18/2019 - 17:18:05.282   1  119.830604  132.486740   \n",
       "3                  1  11/18/2019 - 17:18:06.283   1  123.593833  132.735690   \n",
       "4                  1  11/18/2019 - 17:18:07.283   1  141.676282  133.731490   \n",
       "5                  1  11/18/2019 - 17:18:08.284   1  142.314164  132.934850   \n",
       "...              ...                        ...  ..         ...         ...   \n",
       "31055              2  11/20/2019 - 17:02:31.289  65   13.938762   81.572054   \n",
       "31056              2  11/20/2019 - 17:02:32.287  65   13.936182   81.587064   \n",
       "31057              2  11/20/2019 - 17:02:33.289  65   13.938817   81.557043   \n",
       "31058              2  11/20/2019 - 17:02:34.288  65   13.936832   81.527022   \n",
       "31059              2  11/20/2019 - 17:02:35.288  65   13.530224   81.527022   \n",
       "\n",
       "       voltage  frequency  power_factor  \\\n",
       "id                                        \n",
       "1       117.35     59.980        0.9790   \n",
       "2       117.40     59.995        0.9790   \n",
       "3       117.55     59.980        0.9790   \n",
       "4       117.45     59.965        0.9790   \n",
       "5       117.60     59.980        0.9790   \n",
       "...        ...        ...           ...   \n",
       "31055   116.80     60.020        0.9860   \n",
       "31056   117.00     60.020        0.9855   \n",
       "31057   116.25     60.025        0.9865   \n",
       "31058   117.20     60.010        0.9855   \n",
       "31059   116.85     60.025        0.9855   \n",
       "\n",
       "                                           serial_buffer  max_luminance  \n",
       "id                                                                       \n",
       "1      S:  117303Vo:  115503Am:  132806Wa:      01Wh:...     504.353911  \n",
       "2      S:  117403Vo:  115403Am:  132806Wa:      01Wh:...     507.600825  \n",
       "3      S:  117603Vo:  115103Am:  132606Wa:      01Wh:...     508.683129  \n",
       "4      S:  117403Vo:  116803Am:  134406Wa:      01Wh:...     527.082306  \n",
       "5      S:  117603Vo:  115403Am:  132906Wa:      01Wh:...     526.000002  \n",
       "...                                                  ...            ...  \n",
       "31055  S:  116503Vo:  708702Am:  814805Wa:      01Wh:...     229.230004  \n",
       "31056  S:  117403Vo:  704702Am:  815905Wa:      01Wh:...     226.075463  \n",
       "31057  S:  116103Vo:  710202Am:  814405Wa:      01Wh:...     225.023949  \n",
       "31058  S:  117103Vo:  706202Am:  815805Wa:      01Wh:...     226.075463  \n",
       "31059  S:  117203Vo:  703702Am:  813705Wa:      01Wh:...     226.075463  \n",
       "\n",
       "[31059 rows x 10 columns]"
      ]
     },
     "execution_count": 78,
     "metadata": {},
     "output_type": "execute_result"
    }
   ],
   "source": [
    "pd.read_sql('test_results', engine, index_col='id')"
   ]
  }
 ],
 "metadata": {
  "kernelspec": {
   "display_name": "Python 3",
   "language": "python",
   "name": "python3"
  },
  "language_info": {
   "codemirror_mode": {
    "name": "ipython",
    "version": 3
   },
   "file_extension": ".py",
   "mimetype": "text/x-python",
   "name": "python",
   "nbconvert_exporter": "python",
   "pygments_lexer": "ipython3",
   "version": "3.7.4"
  },
  "toc": {
   "base_numbering": 1,
   "nav_menu": {},
   "number_sections": true,
   "sideBar": true,
   "skip_h1_title": false,
   "title_cell": "Table of Contents",
   "title_sidebar": "Contents",
   "toc_cell": false,
   "toc_position": {},
   "toc_section_display": true,
   "toc_window_display": false
  }
 },
 "nbformat": 4,
 "nbformat_minor": 2
}
